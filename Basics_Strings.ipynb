{
 "cells": [
  {
   "cell_type": "markdown",
   "id": "9a16b2f8",
   "metadata": {},
   "source": [
    "# Strings- working with text data"
   ]
  },
  {
   "cell_type": "code",
   "execution_count": 1,
   "id": "8267572d",
   "metadata": {
    "scrolled": true
   },
   "outputs": [
    {
     "name": "stdout",
     "output_type": "stream",
     "text": [
      "Hello World!\n"
     ]
    }
   ],
   "source": [
    "my_message = 'Hello World!' # Strings -> text data\n",
    "print(my_message)"
   ]
  },
  {
   "cell_type": "code",
   "execution_count": 2,
   "id": "460841f6",
   "metadata": {},
   "outputs": [
    {
     "name": "stdout",
     "output_type": "stream",
     "text": [
      "Sam's World\n",
      "Sam's World\n"
     ]
    }
   ],
   "source": [
    "# Print out apostrophes\n",
    "my_message_1 = \"Sam's World\"\n",
    "my_message_2 = 'Sam\\'s World'\n",
    "print(my_message_1)\n",
    "print(my_message_2)"
   ]
  },
  {
   "cell_type": "code",
   "execution_count": 3,
   "id": "fd5ba339",
   "metadata": {},
   "outputs": [
    {
     "name": "stdout",
     "output_type": "stream",
     "text": [
      "Sam's World is a good\n",
      "magic show.\n",
      "Isn't it?\n"
     ]
    }
   ],
   "source": [
    "# Print out multi-line String\n",
    "message_1 = \"\"\"Sam's World is a good\n",
    "magic show.\n",
    "Isn't it?\"\"\"\n",
    "print(message_1)"
   ]
  },
  {
   "cell_type": "code",
   "execution_count": 4,
   "id": "98510c20",
   "metadata": {},
   "outputs": [
    {
     "name": "stdout",
     "output_type": "stream",
     "text": [
      "11\n"
     ]
    }
   ],
   "source": [
    "# How many characters in our string\n",
    "message = \"Hello World\"\n",
    "print(len(message))"
   ]
  },
  {
   "cell_type": "code",
   "execution_count": 3,
   "id": "aa7b472a",
   "metadata": {},
   "outputs": [
    {
     "name": "stdout",
     "output_type": "stream",
     "text": [
      "l\n",
      "o W\n",
      "Hello\n",
      " World\n",
      "Worl\n",
      "World\n"
     ]
    }
   ],
   "source": [
    "# Access a character in a string\n",
    "\n",
    "# \"Hello World\"\n",
    "# Indexing: H -> 0, e -> 1, l ->2, l-> 3, o->4....\n",
    "# H e l l o   W o r l d\n",
    "# 0 1 2 3 4 5 6 7 8 9 10\n",
    "#            -5 -4 -3 -2 -1\n",
    "message = \"Hello World\"\n",
    "print(message[-2])\n",
    "\n",
    "# Slicing\n",
    "print(message[4:7])\n",
    "print(message[:5])\n",
    "print(message[5:])\n",
    "print(message[-5:-1])\n",
    "print(message[-5: ])"
   ]
  },
  {
   "cell_type": "code",
   "execution_count": 4,
   "id": "81d9b7fe",
   "metadata": {
    "scrolled": true
   },
   "outputs": [
    {
     "name": "stdout",
     "output_type": "stream",
     "text": [
      "hello world. bye.\n",
      "HELLO WORLD. BYE.\n",
      "Hello world. bye.\n",
      "Hello World. Bye.\n"
     ]
    }
   ],
   "source": [
    "# Convert all characters to lowercase or uppercase\n",
    "\n",
    "message = \"hello world. Bye.\"\n",
    "\n",
    "print(message.lower())\n",
    "print(message.upper())\n",
    "print(message.capitalize())\n",
    "print(message.title())"
   ]
  },
  {
   "cell_type": "code",
   "execution_count": 5,
   "id": "5f8e1caa",
   "metadata": {},
   "outputs": [
    {
     "name": "stdout",
     "output_type": "stream",
     "text": [
      "2\n",
      "2\n",
      "6\n",
      "-1\n"
     ]
    }
   ],
   "source": [
    "message = \"hello World World hello world\"\n",
    "\n",
    "#Count the number of a char or string occurances\n",
    "print(message.count(\"W\"))\n",
    "print(message.count(\"hello\"))\n",
    "\n",
    "#Find the index of the occurances of a letter\n",
    "print(message.find(\"World\"))\n",
    "\n",
    "#This will return -1 since \"message\" does not contain \"Universe\"\n",
    "print(message.find(\"Universe\"))"
   ]
  },
  {
   "cell_type": "code",
   "execution_count": null,
   "id": "1d512a56",
   "metadata": {},
   "outputs": [],
   "source": [
    "indexes = []\n",
    "index = message.find(\"World\")\n",
    "print(index)\n",
    "while index != -1:\n",
    "    indexes.append(index)\n",
    "    index = message.find(\"World\", index + 1)\n",
    "    print(index)\n",
    "print(indexes)"
   ]
  },
  {
   "cell_type": "code",
   "execution_count": 6,
   "id": "945dae00",
   "metadata": {},
   "outputs": [
    {
     "name": "stdout",
     "output_type": "stream",
     "text": [
      "Hello Universe Universe\n",
      "Hello World World\n",
      "Hello Universe Universe\n"
     ]
    }
   ],
   "source": [
    "message = \"Hello World World\"\n",
    "print(message.replace(\"World\", \"Universe\"))\n",
    "print(message)\n",
    "#Replace chunks of strings with a new string\n",
    "message = message.replace(\"World\", \"Universe\")\n",
    "print(message)"
   ]
  },
  {
   "cell_type": "code",
   "execution_count": 7,
   "id": "8431dd09",
   "metadata": {},
   "outputs": [
    {
     "name": "stdout",
     "output_type": "stream",
     "text": [
      "HelloSam\n",
      "Hello, Sam... Welcome!\n"
     ]
    }
   ],
   "source": [
    "# Concatenating strings together\n",
    "\n",
    "greetings = \"Hello\"\n",
    "name = \"Sam\"\n",
    "print(greetings + name)\n",
    "\n",
    "message = greetings + ', ' + name + '... Welcome!'\n",
    "print(message)"
   ]
  },
  {
   "cell_type": "code",
   "execution_count": 8,
   "id": "9dc6ce24",
   "metadata": {},
   "outputs": [
    {
     "name": "stdout",
     "output_type": "stream",
     "text": [
      "Hello, Sam. Welcome!\n",
      "Hello, Sam. Welcome!\n"
     ]
    }
   ],
   "source": [
    "# Formatting stirngs together\n",
    "greetings = \"Hello\"\n",
    "name = \"Sam\"\n",
    "\n",
    "# Option 1\n",
    "message = '{}, {}. Welcome!'.format(greetings, name)\n",
    "print(message)\n",
    "\n",
    "# Option 2\n",
    "message = f'{greetings}, {name}. Welcome!'\n",
    "print(message)"
   ]
  },
  {
   "cell_type": "markdown",
   "id": "967a99af",
   "metadata": {},
   "source": [
    "# Get information of a variable or a data type"
   ]
  },
  {
   "cell_type": "code",
   "execution_count": null,
   "id": "4361102c",
   "metadata": {},
   "outputs": [],
   "source": [
    "# Will print out all the methods associated with str variable name\n",
    "name = \"Sam\"\n",
    "print(dir(name)) # add(name ... )\n",
    "# name.encode()"
   ]
  },
  {
   "cell_type": "code",
   "execution_count": null,
   "id": "7d2bd8c6",
   "metadata": {
    "scrolled": false
   },
   "outputs": [],
   "source": [
    "# All about str object\n",
    "print(help(str))"
   ]
  },
  {
   "cell_type": "code",
   "execution_count": null,
   "id": "8a8e6f2c",
   "metadata": {},
   "outputs": [],
   "source": [
    "# information about method lower() of str object\n",
    "\n",
    "print(help(str.lower))"
   ]
  },
  {
   "cell_type": "markdown",
   "id": "84e0e1fd",
   "metadata": {},
   "source": [
    "# Integers and Floats: Working with numeric data"
   ]
  },
  {
   "cell_type": "code",
   "execution_count": null,
   "id": "4dbfdb94",
   "metadata": {},
   "outputs": [],
   "source": [
    "num = 3090392\n",
    "print(type(num))\n",
    "num = 3.14222\n",
    "print(type(num))"
   ]
  },
  {
   "cell_type": "code",
   "execution_count": null,
   "id": "5193b767",
   "metadata": {},
   "outputs": [],
   "source": [
    "add = 3 + 2\n",
    "print(add)\n",
    "print(3 - 2)\n",
    "print(3 * 2)\n",
    "print(8 / 3) # returns float\n",
    "print(8 // 3) # round down division\n",
    "print(3**5) # 3 exp 2\n",
    "print(8 % 3) # reminder of division"
   ]
  },
  {
   "cell_type": "code",
   "execution_count": null,
   "id": "858eef80",
   "metadata": {},
   "outputs": [],
   "source": [
    "num = 0\n",
    "num += 1 # num = num + 1\n",
    "num += 1 # num = num + 1\n",
    "print(num)"
   ]
  },
  {
   "cell_type": "code",
   "execution_count": null,
   "id": "36d4ea8b",
   "metadata": {},
   "outputs": [],
   "source": [
    "print(abs(-5))"
   ]
  },
  {
   "cell_type": "code",
   "execution_count": null,
   "id": "3c9d00f6",
   "metadata": {},
   "outputs": [],
   "source": [
    "print(round(4.50))\n",
    "print(round(3.75889, 2))"
   ]
  },
  {
   "cell_type": "code",
   "execution_count": null,
   "id": "18a7da06",
   "metadata": {},
   "outputs": [],
   "source": [
    "import math\n",
    "num = 4.7\n",
    "print(math.ceil(num))\n",
    "print(math.floor(num))"
   ]
  },
  {
   "cell_type": "code",
   "execution_count": null,
   "id": "bfdf4ed5",
   "metadata": {},
   "outputs": [],
   "source": [
    "# Comparisons\n",
    "\n",
    "print(3 == 2) # is equal\n",
    "print(3 != 2) # is NOT equal\n",
    "print(3 > 2) # Greater than\n",
    "print(3 < 2) # Less than\n",
    "print(3 >= 3) # Greater than equal\n",
    "print(3 <= 2) # Less than equal"
   ]
  },
  {
   "cell_type": "markdown",
   "id": "128c7ab9",
   "metadata": {},
   "source": [
    "# Python casting\n",
    "## sub heading\n",
    "### so on"
   ]
  },
  {
   "cell_type": "code",
   "execution_count": null,
   "id": "6eebd6b6",
   "metadata": {},
   "outputs": [],
   "source": [
    "num = float(input(\"Enter something: \"))\n",
    "print(type(num), num) "
   ]
  },
  {
   "cell_type": "code",
   "execution_count": null,
   "id": "77bc4964",
   "metadata": {},
   "outputs": [],
   "source": [
    "# Casting from string to integer\n",
    "num_1 = '100'\n",
    "num_2 = '200'\n",
    "print(num_1 + num_2)\n",
    "\n",
    "num_1 = int(\"1000\")\n",
    "num_2 = int(num_2)\n",
    "print(num_1 + num_2)"
   ]
  },
  {
   "cell_type": "code",
   "execution_count": null,
   "id": "1beb05f5",
   "metadata": {},
   "outputs": [],
   "source": []
  },
  {
   "cell_type": "code",
   "execution_count": null,
   "id": "ee11e45e",
   "metadata": {},
   "outputs": [],
   "source": [
    "# 59.44 or less F \n",
    "# 59.45 to 69.44 D \n",
    "# 69.45 to 79.44 C \n",
    "# 79.45 to 89.44 B \n",
    "# 89.45 or more A"
   ]
  },
  {
   "cell_type": "markdown",
   "id": "1b7e9d9f",
   "metadata": {},
   "source": [
    "# Lists, Tuples and Sets"
   ]
  },
  {
   "cell_type": "code",
   "execution_count": 10,
   "id": "a1a83a8b",
   "metadata": {},
   "outputs": [
    {
     "name": "stdout",
     "output_type": "stream",
     "text": [
      "['History', 'Science', 'Math', 'Computer Science']\n",
      "<class 'list'>\n"
     ]
    }
   ],
   "source": [
    "# Python List\n",
    "courses = ['History', 'Science', 'Math', 'Computer Science']\n",
    "print(courses)\n",
    "print(type(courses))"
   ]
  },
  {
   "cell_type": "code",
   "execution_count": 11,
   "id": "54560ebb",
   "metadata": {},
   "outputs": [
    {
     "name": "stdout",
     "output_type": "stream",
     "text": [
      "Math\n",
      "['Science', 'Math']\n",
      "['History', 'Science']\n",
      "['Math', 'Computer Science']\n",
      "['Math']\n"
     ]
    }
   ],
   "source": [
    "# Indexing in lists\n",
    "print(courses[-2])\n",
    "# Slicing\n",
    "print(courses[1:3])\n",
    "print(courses[:2])\n",
    "print(courses[2:])\n",
    "print(courses[-2:-1])"
   ]
  },
  {
   "cell_type": "code",
   "execution_count": 12,
   "id": "8bca03fc",
   "metadata": {},
   "outputs": [
    {
     "name": "stdout",
     "output_type": "stream",
     "text": [
      "['History', 'Science', 'Math', 'Computer Science', 'Chemistry']\n"
     ]
    }
   ],
   "source": [
    "# Add a course at the end of the list\n",
    "courses.append(\"Chemistry\")\n",
    "print(courses)"
   ]
  },
  {
   "cell_type": "code",
   "execution_count": 13,
   "id": "c8f5e004",
   "metadata": {},
   "outputs": [
    {
     "name": "stdout",
     "output_type": "stream",
     "text": [
      "['Art', 'History', 'Science', 'Math', 'Computer Science', 'Chemistry']\n"
     ]
    }
   ],
   "source": [
    "# add course in a given index\n",
    "courses.insert(0, \"Art\")\n",
    "print(courses)"
   ]
  },
  {
   "cell_type": "code",
   "execution_count": 5,
   "id": "b704d258",
   "metadata": {},
   "outputs": [
    {
     "name": "stdout",
     "output_type": "stream",
     "text": [
      "['A', 'B', 'C', 122]\n"
     ]
    }
   ],
   "source": [
    "# List can have many types of data\n",
    "lst = [\"A\", \"B\", \"C\"]\n",
    "lst.append(122)\n",
    "print(lst)"
   ]
  },
  {
   "cell_type": "code",
   "execution_count": 6,
   "id": "33b13859",
   "metadata": {},
   "outputs": [
    {
     "name": "stdout",
     "output_type": "stream",
     "text": [
      "['A', 'B', 'C', 122, [1, 2, 4, 'hello']]\n",
      "[1, 2, 4, 'hello']\n"
     ]
    }
   ],
   "source": [
    "# List can even have list as an element\n",
    "lst2 = [1, 2, 4, \"hello\"]\n",
    "lst.append(lst2)\n",
    "print(lst)\n",
    "print(lst[-1])"
   ]
  },
  {
   "cell_type": "code",
   "execution_count": 14,
   "id": "d6e08718",
   "metadata": {},
   "outputs": [
    {
     "name": "stdout",
     "output_type": "stream",
     "text": [
      "['Art', 'History', 'Science', 'Math', 'Computer Science', 'Chemistry', 'Education', 'Management', 'Art']\n"
     ]
    }
   ],
   "source": [
    "# insert all values fron a list to another list\n",
    "courses_2 = [\"Education\", \"Management\", \"Art\"]\n",
    "courses.extend(courses_2)\n",
    "print(courses)"
   ]
  },
  {
   "cell_type": "code",
   "execution_count": 17,
   "id": "273556fd",
   "metadata": {},
   "outputs": [
    {
     "ename": "ValueError",
     "evalue": "list.remove(x): x not in list",
     "output_type": "error",
     "traceback": [
      "\u001b[0;31m---------------------------------------------------------------------------\u001b[0m",
      "\u001b[0;31mValueError\u001b[0m                                Traceback (most recent call last)",
      "\u001b[0;32m<ipython-input-17-66c397f608ba>\u001b[0m in \u001b[0;36m<module>\u001b[0;34m\u001b[0m\n\u001b[1;32m      1\u001b[0m \u001b[0;31m# Removing values from a list\u001b[0m\u001b[0;34m\u001b[0m\u001b[0;34m\u001b[0m\u001b[0;34m\u001b[0m\u001b[0m\n\u001b[0;32m----> 2\u001b[0;31m \u001b[0mcourses\u001b[0m\u001b[0;34m.\u001b[0m\u001b[0mremove\u001b[0m\u001b[0;34m(\u001b[0m\u001b[0;34m'Art'\u001b[0m\u001b[0;34m)\u001b[0m\u001b[0;34m\u001b[0m\u001b[0;34m\u001b[0m\u001b[0m\n\u001b[0m\u001b[1;32m      3\u001b[0m \u001b[0mprint\u001b[0m\u001b[0;34m(\u001b[0m\u001b[0mcourses\u001b[0m\u001b[0;34m)\u001b[0m\u001b[0;34m\u001b[0m\u001b[0;34m\u001b[0m\u001b[0m\n",
      "\u001b[0;31mValueError\u001b[0m: list.remove(x): x not in list"
     ]
    }
   ],
   "source": [
    "# Removing values from a list\n",
    "courses.remove('Art')\n",
    "print(courses)"
   ]
  },
  {
   "cell_type": "code",
   "execution_count": 18,
   "id": "a440e24d",
   "metadata": {},
   "outputs": [
    {
     "name": "stdout",
     "output_type": "stream",
     "text": [
      "['History', 'Math', 'Computer Science', 'Chemistry', 'Education', 'Management']\n"
     ]
    }
   ],
   "source": [
    "courses.remove('Science')\n",
    "print(courses)"
   ]
  },
  {
   "cell_type": "code",
   "execution_count": 19,
   "id": "33b0cc7b",
   "metadata": {
    "scrolled": true
   },
   "outputs": [
    {
     "name": "stdout",
     "output_type": "stream",
     "text": [
      "Management\n",
      "['History', 'Math', 'Computer Science', 'Chemistry', 'Education']\n"
     ]
    }
   ],
   "source": [
    "# pop to remove the last value\n",
    "popped = courses.pop()\n",
    "print(popped)\n",
    "print(courses)"
   ]
  },
  {
   "cell_type": "code",
   "execution_count": 20,
   "id": "8538a126",
   "metadata": {},
   "outputs": [
    {
     "name": "stdout",
     "output_type": "stream",
     "text": [
      "['Education', 'Chemistry', 'Computer Science', 'Math', 'History']\n"
     ]
    }
   ],
   "source": [
    "# Reverse the list\n",
    "courses.reverse()\n",
    "print(courses)"
   ]
  },
  {
   "cell_type": "code",
   "execution_count": 23,
   "id": "735a3389",
   "metadata": {},
   "outputs": [
    {
     "name": "stdout",
     "output_type": "stream",
     "text": [
      "Original list ['History', 'Science', 'Math', 'Computer Science']\n",
      "Sorted list ['Science', 'Math', 'History', 'Computer Science']\n"
     ]
    }
   ],
   "source": [
    "# Sort the list\n",
    "courses = ['History', 'Science', 'Math', 'Computer Science']\n",
    "print(\"Original list\", courses)\n",
    "courses.sort(reverse = True)\n",
    "print(\"Sorted list\", courses)"
   ]
  },
  {
   "cell_type": "code",
   "execution_count": 24,
   "id": "86d27399",
   "metadata": {},
   "outputs": [
    {
     "name": "stdout",
     "output_type": "stream",
     "text": [
      "Original list ['History', 'Science', 'Math', 'Computer Science']\n",
      "Sorted list ['Computer Science', 'History', 'Math', 'Science']\n",
      "Original list remains the same ['History', 'Science', 'Math', 'Computer Science']\n"
     ]
    }
   ],
   "source": [
    "# Sort the list\n",
    "courses = ['History', 'Science', 'Math', 'Computer Science']\n",
    "print(\"Original list\", courses)\n",
    "sorted_courses = sorted(courses)\n",
    "print(\"Sorted list\", sorted_courses)\n",
    "print(\"Original list remains the same\", courses)"
   ]
  },
  {
   "cell_type": "code",
   "execution_count": 26,
   "id": "99a6bcf3",
   "metadata": {},
   "outputs": [
    {
     "name": "stdout",
     "output_type": "stream",
     "text": [
      "[9, 6, 5, 2, 1]\n"
     ]
    }
   ],
   "source": [
    "# Sorting with numbers\n",
    "nums = [2, 6, 9, 1, 5]\n",
    "nums.sort(reverse = True)\n",
    "print(nums)"
   ]
  },
  {
   "cell_type": "code",
   "execution_count": 27,
   "id": "49fce4ff",
   "metadata": {},
   "outputs": [
    {
     "name": "stdout",
     "output_type": "stream",
     "text": [
      "[1, 2, 3, 6, 9]\n",
      "[2, 3, 9, 1, 6]\n"
     ]
    }
   ],
   "source": [
    "# Keeping an original copy of the list\n",
    "nums = [2, 3, 9, 1, 6]\n",
    "sorted_nums = sorted(nums)\n",
    "print(sorted_nums)\n",
    "print(nums)"
   ]
  },
  {
   "cell_type": "code",
   "execution_count": 28,
   "id": "5341a749",
   "metadata": {},
   "outputs": [
    {
     "name": "stdout",
     "output_type": "stream",
     "text": [
      "1\n",
      "9\n",
      "21\n",
      "4.2\n"
     ]
    }
   ],
   "source": [
    "# Numerical operations on a list of numbers\n",
    "nums = [2, 3, 9, 1, 6]\n",
    "print(min(nums))\n",
    "print(max(nums))\n",
    "print(sum(nums))\n",
    "print(sum(nums) / len(nums))"
   ]
  },
  {
   "cell_type": "code",
   "execution_count": 29,
   "id": "c1a56d7d",
   "metadata": {},
   "outputs": [
    {
     "name": "stdout",
     "output_type": "stream",
     "text": [
      "4\n"
     ]
    }
   ],
   "source": [
    "# find the index of a value from a list\n",
    "print(nums.index(6))"
   ]
  },
  {
   "cell_type": "code",
   "execution_count": 30,
   "id": "9ffedefd",
   "metadata": {},
   "outputs": [
    {
     "name": "stdout",
     "output_type": "stream",
     "text": [
      "True\n",
      "False\n",
      "True\n"
     ]
    }
   ],
   "source": [
    "# check if a value is in a list\n",
    "print(\"Math\" in courses)\n",
    "print(4 in nums)\n",
    "print(6 in nums)"
   ]
  },
  {
   "cell_type": "code",
   "execution_count": null,
   "id": "03ff7902",
   "metadata": {},
   "outputs": [],
   "source": [
    "# Get a list of all variables in the notebook\n",
    "all_variables = %who_ls\n",
    "\n",
    "# Iterate through each variable and print it if it's a list\n",
    "for var_name in all_variables:\n",
    "    print(\"Var name is:   \" ,var_name)\n",
    "    var = locals()[var_name]\n",
    "    print(\"Var is:   \", var)\n",
    "    if isinstance(var, list):\n",
    "        print(f\"List {var_name}: {var}\")"
   ]
  },
  {
   "cell_type": "code",
   "execution_count": 33,
   "id": "8c80d933",
   "metadata": {},
   "outputs": [
    {
     "name": "stdout",
     "output_type": "stream",
     "text": [
      "['History', 'Science', 'Math', 'Computer Science']\n",
      "History\n",
      "Science\n",
      "Math\n",
      "Computer Science\n"
     ]
    }
   ],
   "source": [
    "# printing all elements by accessing all values\n",
    "print(courses)  \n",
    "for item in courses:\n",
    "# iter: 1) item = \"Science\"\n",
    "# iter: 2) item = \"Math\".... \n",
    "    print(item)"
   ]
  },
  {
   "cell_type": "code",
   "execution_count": 34,
   "id": "5bab5226",
   "metadata": {},
   "outputs": [
    {
     "name": "stdout",
     "output_type": "stream",
     "text": [
      "0 History\n",
      "1 Science\n",
      "2 Math\n",
      "3 Computer Science\n"
     ]
    }
   ],
   "source": [
    "# printing index and values\n",
    "for index, values in enumerate(courses): # (0, 'History'), (1, Science)\n",
    "    # index = 0, values = \"Science\"\n",
    "    # index = 1, values = \"Math\"\n",
    "    print(index, values)"
   ]
  },
  {
   "cell_type": "code",
   "execution_count": 37,
   "id": "0bdb0f5c",
   "metadata": {},
   "outputs": [
    {
     "name": "stdout",
     "output_type": "stream",
     "text": [
      "1 History\n",
      "2 Science\n",
      "3 Math\n",
      "4 Computer Science\n"
     ]
    }
   ],
   "source": [
    "# printing index and values\n",
    "\n",
    "for index, values in enumerate(courses, start = 1):\n",
    "    print(index, values)"
   ]
  },
  {
   "cell_type": "code",
   "execution_count": null,
   "id": "f951006a",
   "metadata": {},
   "outputs": [],
   "source": [
    "# Finding the biggest number: num1, num2\n",
    "\n",
    "num1 = 3\n",
    "num2 = 3\n",
    "\n",
    "if num1 > num2:\n",
    "    print(\"Num1 is bigger\")\n",
    "elif num1 == num2:\n",
    "    print(\"Num1 is equal to Num2\")\n",
    "else:\n",
    "    print(\"Num2 is bigger\")\n"
   ]
  },
  {
   "cell_type": "code",
   "execution_count": null,
   "id": "341a5ba0",
   "metadata": {},
   "outputs": [],
   "source": [
    "# Finding the biggest number: num1, num2, num3\n",
    "\n",
    "num1 = 99\n",
    "num2 = 999\n",
    "num3 = 8\n",
    "\n",
    "if num1 > num2 and num1 > num3:\n",
    "    print(\"Num1 is bigger\")\n",
    "elif num2 > num3 and num2 > num1:\n",
    "    print(\"Num2 is bigger\")\n",
    "else:\n",
    "    print(\"Num3 is bigger\")\n"
   ]
  },
  {
   "cell_type": "code",
   "execution_count": 41,
   "id": "0161bb94",
   "metadata": {},
   "outputs": [
    {
     "name": "stdout",
     "output_type": "stream",
     "text": [
      "True\n",
      "True\n",
      "140403429104328\n",
      "140403429104328\n"
     ]
    }
   ],
   "source": [
    "a = [1, 2, 3]\n",
    "b = [1, 2, 3]\n",
    "a = b\n",
    "\n",
    "print(a == b)\n",
    "print(a is b)\n",
    "print(id(a))\n",
    "print(id(b))"
   ]
  },
  {
   "cell_type": "code",
   "execution_count": 47,
   "id": "8921543f",
   "metadata": {},
   "outputs": [
    {
     "name": "stdout",
     "output_type": "stream",
     "text": [
      "History_Science_Math_Computer Science\n",
      "['History', 'Science', 'Math', 'Computer Science']\n"
     ]
    }
   ],
   "source": [
    "# Making a string from a list\n",
    "courses = ['History', 'Science', 'Math', 'Computer Science']\n",
    "course_str = '_'.join(courses)\n",
    "course_list = course_str.split('_')\n",
    "print(course_str)\n",
    "print(course_list)"
   ]
  },
  {
   "cell_type": "markdown",
   "id": "9ee75cd1",
   "metadata": {},
   "source": [
    "# Tuples"
   ]
  },
  {
   "cell_type": "code",
   "execution_count": 48,
   "id": "f89986e7",
   "metadata": {},
   "outputs": [
    {
     "name": "stdout",
     "output_type": "stream",
     "text": [
      "('History', 'Math', 'Physics', 'CompSci')\n",
      "<class 'tuple'>\n"
     ]
    },
    {
     "ename": "TypeError",
     "evalue": "'tuple' object does not support item assignment",
     "output_type": "error",
     "traceback": [
      "\u001b[0;31m---------------------------------------------------------------------------\u001b[0m",
      "\u001b[0;31mTypeError\u001b[0m                                 Traceback (most recent call last)",
      "\u001b[0;32m<ipython-input-48-3a8f751e4f72>\u001b[0m in \u001b[0;36m<module>\u001b[0;34m\u001b[0m\n\u001b[1;32m      2\u001b[0m \u001b[0mprint\u001b[0m\u001b[0;34m(\u001b[0m\u001b[0mtuple_1\u001b[0m\u001b[0;34m)\u001b[0m\u001b[0;34m\u001b[0m\u001b[0;34m\u001b[0m\u001b[0m\n\u001b[1;32m      3\u001b[0m \u001b[0mprint\u001b[0m\u001b[0;34m(\u001b[0m\u001b[0mtype\u001b[0m\u001b[0;34m(\u001b[0m\u001b[0mtuple_1\u001b[0m\u001b[0;34m)\u001b[0m\u001b[0;34m)\u001b[0m\u001b[0;34m\u001b[0m\u001b[0;34m\u001b[0m\u001b[0m\n\u001b[0;32m----> 4\u001b[0;31m \u001b[0mtuple_1\u001b[0m\u001b[0;34m[\u001b[0m\u001b[0;36m0\u001b[0m\u001b[0;34m]\u001b[0m \u001b[0;34m=\u001b[0m \u001b[0;34m'Art'\u001b[0m\u001b[0;34m\u001b[0m\u001b[0;34m\u001b[0m\u001b[0m\n\u001b[0m",
      "\u001b[0;31mTypeError\u001b[0m: 'tuple' object does not support item assignment"
     ]
    }
   ],
   "source": [
    "tuple_1 = ('History', 'Math', 'Physics', 'CompSci')\n",
    "print(tuple_1)\n",
    "print(type(tuple_1))\n",
    "tuple_1[0] = 'Art'"
   ]
  },
  {
   "cell_type": "code",
   "execution_count": 49,
   "id": "6dc0d9d4",
   "metadata": {},
   "outputs": [
    {
     "name": "stdout",
     "output_type": "stream",
     "text": [
      "('History', 'Math', 'Physics', 'CompSci', 'Art')\n"
     ]
    }
   ],
   "source": [
    "tuple_2 = (\"Art\",)\n",
    "print(tuple_1 + tuple_2)"
   ]
  },
  {
   "cell_type": "markdown",
   "id": "bbb96a73",
   "metadata": {},
   "source": [
    "# Sets"
   ]
  },
  {
   "cell_type": "code",
   "execution_count": null,
   "id": "98e7be6d",
   "metadata": {},
   "outputs": [],
   "source": [
    "sci_courses = {'History', 'Math', 'Physics', 'CompSci', 'Math'}\n",
    "art_courses = {'Art', 'History', 'Design'}\n",
    "print(sci_courses)\n",
    "print(art_courses)"
   ]
  },
  {
   "cell_type": "code",
   "execution_count": null,
   "id": "927daef7",
   "metadata": {},
   "outputs": [],
   "source": [
    "print(sci_courses.intersection(art_courses))"
   ]
  },
  {
   "cell_type": "code",
   "execution_count": null,
   "id": "58a5d353",
   "metadata": {},
   "outputs": [],
   "source": [
    "print(sci_courses.difference(art_courses))\n",
    "print(art_courses.difference(sci_courses))"
   ]
  },
  {
   "cell_type": "code",
   "execution_count": null,
   "id": "ae6090f6",
   "metadata": {},
   "outputs": [],
   "source": [
    "print(sci_courses.union(art_courses))"
   ]
  },
  {
   "cell_type": "code",
   "execution_count": null,
   "id": "4cb6ed71",
   "metadata": {},
   "outputs": [],
   "source": [
    "# Casting a set variable to a list variable\n",
    "list_course = list(sci_courses)\n",
    "# Casting the list back to set variable\n",
    "sci = set(list_course)\n",
    "print(list_course)\n",
    "print(sci)"
   ]
  },
  {
   "cell_type": "code",
   "execution_count": null,
   "id": "7d75b0dd",
   "metadata": {},
   "outputs": [],
   "source": [
    "# list = [1, 2, 3]\n",
    "# print(list)\n",
    "list_course = list(sci_courses)\n",
    "print(list_course)"
   ]
  },
  {
   "cell_type": "markdown",
   "id": "434c8d0e",
   "metadata": {},
   "source": [
    "# Loops and iterations - For/ While loops"
   ]
  },
  {
   "cell_type": "code",
   "execution_count": null,
   "id": "926dba69",
   "metadata": {},
   "outputs": [],
   "source": [
    "nums = [1, 2, 3, 4, 5]\n",
    "\n",
    "for num in nums:\n",
    "    # num = 1\n",
    "    # num = 2\n",
    "    # num = 3 ...\n",
    "    print(num)"
   ]
  },
  {
   "cell_type": "code",
   "execution_count": null,
   "id": "35d9f6ea",
   "metadata": {},
   "outputs": [],
   "source": [
    "nums = [1, 2, 3, 4, 5, 4, 6]\n",
    "# find the number 4\n",
    "for num in nums:\n",
    "    if(num == 4):\n",
    "        print(\"Found 4!\")\n",
    "        break\n",
    "    print(num)"
   ]
  },
  {
   "cell_type": "code",
   "execution_count": null,
   "id": "4bcca15a",
   "metadata": {},
   "outputs": [],
   "source": [
    "# find the number 4\n",
    "nums = [1, 2, 3, 4, 5, 6]\n",
    "for num in nums:\n",
    "    if(num == 4):\n",
    "        print(\"Found 4!\")\n",
    "        continue\n",
    "    print(num)"
   ]
  },
  {
   "cell_type": "code",
   "execution_count": null,
   "id": "d9b2a046",
   "metadata": {},
   "outputs": [],
   "source": [
    "nums = [1, 2, 3]\n",
    "for num in nums:\n",
    "    # num = 1\n",
    "    # num = 2\n",
    "    for letter in \"ab\":\n",
    "        # letter = \"a\"\n",
    "        # letter = \"b\"\n",
    "        print(num, letter)"
   ]
  },
  {
   "cell_type": "code",
   "execution_count": null,
   "id": "9d2a1b1f",
   "metadata": {
    "scrolled": true
   },
   "outputs": [],
   "source": [
    "for i in range(1, 11): # 1, 2, 3,...10\n",
    "    print(i)"
   ]
  },
  {
   "cell_type": "code",
   "execution_count": null,
   "id": "76fa58c4",
   "metadata": {},
   "outputs": [],
   "source": [
    "num = 10\n",
    "for i in range(num):\n",
    "    if i > 5:\n",
    "        print(i)"
   ]
  },
  {
   "cell_type": "code",
   "execution_count": null,
   "id": "a9c552f1",
   "metadata": {},
   "outputs": [],
   "source": [
    "#while loops\n",
    "x = 5\n",
    "while x < 10:\n",
    "    print(x)\n",
    "    x += 1 # x = x + 1 = 5 + 1 = 6\n",
    "    # x = 6\n",
    "    # x = 7\n",
    "    # x = 8\n",
    "    # x = 9\n",
    "    # x = 10"
   ]
  },
  {
   "cell_type": "code",
   "execution_count": null,
   "id": "be2316c7",
   "metadata": {},
   "outputs": [],
   "source": [
    "while True:\n",
    "    print(\"Keep running the code.....\")"
   ]
  },
  {
   "cell_type": "code",
   "execution_count": null,
   "id": "6c71de1d",
   "metadata": {},
   "outputs": [],
   "source": [
    "message = \"hi\"\n",
    "while True:\n",
    "    #message = 'hi'\n",
    "    if message == 'bye':\n",
    "        break\n",
    "    message = input(\"Enter something:\")\n",
    "    #print(message)\n",
    "print(\"Ending program\")"
   ]
  },
  {
   "cell_type": "code",
   "execution_count": null,
   "id": "e6812122",
   "metadata": {},
   "outputs": [],
   "source": [
    "x = 0\n",
    "\n",
    "while x < 10:\n",
    "    if x == 5:\n",
    "        break\n",
    "    print(x)\n",
    "    x += 1 # x = x + 1\n",
    "    \n",
    "    \n",
    "# nums = [1, 2, 3, 4, 5, 4, 6]\n",
    "# # find the number 4\n",
    "# for num in nums:\n",
    "#     if(num == 4):\n",
    "#         print(\"Found 4!\")\n",
    "#         break\n",
    "#     print(num)\n"
   ]
  },
  {
   "cell_type": "markdown",
   "id": "bf212763",
   "metadata": {},
   "source": [
    "#### Find the factorial of a number. 1! = 1, 2! = 2 * 1 = 2, 3! = 3 * 2 * 1 = 6, 4! = 4 * 3 * 2 * 1 = 24"
   ]
  },
  {
   "cell_type": "markdown",
   "id": "dc26b3ef",
   "metadata": {},
   "source": [
    "# Python: Functions"
   ]
  },
  {
   "cell_type": "code",
   "execution_count": null,
   "id": "09ef3fba",
   "metadata": {},
   "outputs": [],
   "source": [
    "def hello_func():\n",
    "    return \"Hello World\"\n",
    "#     print(\"Hello World\")\n",
    "\n",
    "# hello_func()"
   ]
  },
  {
   "cell_type": "code",
   "execution_count": null,
   "id": "0816ef0c",
   "metadata": {},
   "outputs": [],
   "source": [
    "message = hello_func()\n",
    "print(message)"
   ]
  },
  {
   "cell_type": "code",
   "execution_count": null,
   "id": "0e68f7a0",
   "metadata": {},
   "outputs": [],
   "source": [
    "#st = \"This is a test!\"\n",
    "def hello_func(string):\n",
    "    return string\n",
    "\n",
    "string = \"This is a test!\"\n",
    "print(hello_func(string))"
   ]
  },
  {
   "cell_type": "code",
   "execution_count": null,
   "id": "1d703989",
   "metadata": {},
   "outputs": [],
   "source": [
    "def cube(number):\n",
    "    # number = num\n",
    "    result = number ** 3\n",
    "    return result\n",
    "\n",
    "num = int(input(\"Enter a number: \"))\n",
    "print(\"Cube of the number is: \", cube(num))"
   ]
  },
  {
   "cell_type": "code",
   "execution_count": null,
   "id": "04b96968",
   "metadata": {},
   "outputs": [],
   "source": [
    "def multiply_numbers(a, b, c):\n",
    "    multiply = a * b * c\n",
    "    return multiply\n",
    "\n",
    "print(\"Multiplication of 3 Numbers is: \", multiply_numbers(4, 2, 5))"
   ]
  },
  {
   "cell_type": "code",
   "execution_count": null,
   "id": "fdb1b467",
   "metadata": {},
   "outputs": [],
   "source": [
    "def factorial(num):\n",
    "    factorial = 1\n",
    "    # 4! = 1 * 2 * 3 * 4\n",
    "    for i in range(2, num + 1): # 2, 3, 4\n",
    "        factorial *= i # factoral = factoral * i, factorial = 1 * 2 = 2, factorial = 2 * 3 = 6, factorial = 6 * 4 = 24\n",
    "\n",
    "    return factorial\n",
    "    \n",
    "num = int(input(\"Enter a number to know the factorial: \"))\n",
    "print(\"The factorial of\", num, \"is\", factorial(num))\n",
    "            "
   ]
  },
  {
   "cell_type": "code",
   "execution_count": null,
   "id": "d5f76184",
   "metadata": {},
   "outputs": [],
   "source": [
    "def student_info(*args, **kwargs):\n",
    "    print(args)\n",
    "    print(kwargs)\n",
    "    \n",
    "student_info('Math', 'Art', 1, 2, 22, name = \"John\", age = 22)"
   ]
  },
  {
   "cell_type": "code",
   "execution_count": null,
   "id": "065adea4",
   "metadata": {},
   "outputs": [],
   "source": [
    "# Calculate the days in a month\n",
    "\n",
    "days = [0, 31, 28, 31, 30, 31, 30, 31, 31, 30, 31, 30, 31]\n",
    "\n",
    "def is_leap_year(year):\n",
    "    \n",
    "    return year%4 == 0 and year%100 != 0 or year%400 == 0\n",
    "\n",
    "\n",
    "def num_days_per_month(year, month):\n",
    "    \n",
    "    if not (1 <= month <= 12):\n",
    "        return \"Invalid Month!\"\n",
    "    \n",
    "    if month == 2 and is_leap_year(year):\n",
    "        return 29\n",
    "    \n",
    "    return days[month]\n",
    "\n",
    "month = int(input(\"Enter the month: \"))\n",
    "year = int(input(\"Enter the year: \"))\n",
    "\n",
    "print(\"The Number of days: \", num_days_per_month(year, month))"
   ]
  },
  {
   "cell_type": "markdown",
   "id": "206c1372",
   "metadata": {},
   "source": [
    "# Importing Libraries"
   ]
  },
  {
   "cell_type": "code",
   "execution_count": null,
   "id": "cca4ed15",
   "metadata": {},
   "outputs": [],
   "source": [
    "import random\n",
    "\n",
    "courses = [\"Art\", \"Math\", \"Science\", \"History\"]\n",
    "\n",
    "random_courses = random.choice(courses)\n",
    "\n",
    "print(random_courses)"
   ]
  },
  {
   "cell_type": "code",
   "execution_count": null,
   "id": "813aeb60",
   "metadata": {},
   "outputs": [],
   "source": [
    "random.shuffle(courses)\n",
    "print(courses)"
   ]
  },
  {
   "cell_type": "code",
   "execution_count": null,
   "id": "cf874639",
   "metadata": {},
   "outputs": [],
   "source": [
    "random_sample = random.sample(courses, 3)\n",
    "print(random_sample)"
   ]
  },
  {
   "cell_type": "code",
   "execution_count": null,
   "id": "1a142a51",
   "metadata": {},
   "outputs": [],
   "source": [
    "random_number = random.randint(1, 100)\n",
    "print(random_number)"
   ]
  },
  {
   "cell_type": "code",
   "execution_count": null,
   "id": "9f15671f",
   "metadata": {},
   "outputs": [],
   "source": [
    "random_float = random.random() #* 100\n",
    "print(random_float)"
   ]
  },
  {
   "cell_type": "code",
   "execution_count": null,
   "id": "1adeb878",
   "metadata": {},
   "outputs": [],
   "source": [
    "import os\n",
    "\n",
    "print(os.getcwd())\n",
    "print(os.__file__)\n",
    "print(os.listdir(\"/Users/chandrikasaha/Desktop/Python Coding\"))\n",
    "os.mkdir(\"NewDir3\")\n",
    "print(os.listdir(\"/Users/chandrikasaha/Desktop/Python Coding\"))"
   ]
  },
  {
   "cell_type": "code",
   "execution_count": null,
   "id": "492e2409",
   "metadata": {},
   "outputs": [],
   "source": [
    "file_path = \"Dragon.ipynb\"\n",
    "\n",
    "# Check if the file exists\n",
    "if os.path.exists(file_path):\n",
    "    print(\"File exists:\", file_path)\n",
    "else:\n",
    "    print(\"File does not exist:\", file_path)"
   ]
  },
  {
   "cell_type": "code",
   "execution_count": null,
   "id": "466e2661",
   "metadata": {},
   "outputs": [],
   "source": [
    "import math\n",
    "\n",
    "rads = math.radians(90)\n",
    "print(rads)"
   ]
  },
  {
   "cell_type": "code",
   "execution_count": null,
   "id": "4a46919a",
   "metadata": {},
   "outputs": [],
   "source": [
    "print(help(math))"
   ]
  },
  {
   "cell_type": "code",
   "execution_count": null,
   "id": "f91a80bb",
   "metadata": {},
   "outputs": [],
   "source": [
    "print(math.factorial(3))"
   ]
  },
  {
   "cell_type": "code",
   "execution_count": null,
   "id": "e7fdf267",
   "metadata": {},
   "outputs": [],
   "source": [
    "print(math.pow(100, 100))"
   ]
  },
  {
   "cell_type": "code",
   "execution_count": null,
   "id": "773a134d",
   "metadata": {},
   "outputs": [],
   "source": [
    "print(100 ** 100)"
   ]
  },
  {
   "cell_type": "code",
   "execution_count": null,
   "id": "01f9af1b",
   "metadata": {},
   "outputs": [],
   "source": [
    "num = 3.4\n",
    "print(math.ceil(num))\n",
    "print(math.floor(num))"
   ]
  },
  {
   "cell_type": "code",
   "execution_count": 1,
   "id": "db3525a4",
   "metadata": {},
   "outputs": [
    {
     "name": "stdout",
     "output_type": "stream",
     "text": [
      "2024-08-10\n",
      "True\n"
     ]
    }
   ],
   "source": [
    "import datetime\n",
    "import calendar\n",
    "\n",
    "today = datetime.date.today()\n",
    "print(today)\n",
    "print(calendar.isleap(1996))"
   ]
  },
  {
   "cell_type": "code",
   "execution_count": 2,
   "id": "7a6bbdd6",
   "metadata": {},
   "outputs": [
    {
     "name": "stdout",
     "output_type": "stream",
     "text": [
      "Help on module datetime:\n",
      "\n",
      "NAME\n",
      "    datetime - Fast implementation of the datetime type.\n",
      "\n",
      "MODULE REFERENCE\n",
      "    https://docs.python.org/3.6/library/datetime\n",
      "    \n",
      "    The following documentation is automatically generated from the Python\n",
      "    source files.  It may be incomplete, incorrect or include features that\n",
      "    are considered implementation detail and may vary between Python\n",
      "    implementations.  When in doubt, consult the module reference at the\n",
      "    location listed above.\n",
      "\n",
      "CLASSES\n",
      "    builtins.object\n",
      "        date\n",
      "            datetime\n",
      "        time\n",
      "        timedelta\n",
      "        tzinfo\n",
      "            timezone\n",
      "    \n",
      "    class date(builtins.object)\n",
      "     |  date(year, month, day) --> date object\n",
      "     |  \n",
      "     |  Methods defined here:\n",
      "     |  \n",
      "     |  __add__(self, value, /)\n",
      "     |      Return self+value.\n",
      "     |  \n",
      "     |  __eq__(self, value, /)\n",
      "     |      Return self==value.\n",
      "     |  \n",
      "     |  __format__(...)\n",
      "     |      Formats self with strftime.\n",
      "     |  \n",
      "     |  __ge__(self, value, /)\n",
      "     |      Return self>=value.\n",
      "     |  \n",
      "     |  __getattribute__(self, name, /)\n",
      "     |      Return getattr(self, name).\n",
      "     |  \n",
      "     |  __gt__(self, value, /)\n",
      "     |      Return self>value.\n",
      "     |  \n",
      "     |  __hash__(self, /)\n",
      "     |      Return hash(self).\n",
      "     |  \n",
      "     |  __le__(self, value, /)\n",
      "     |      Return self<=value.\n",
      "     |  \n",
      "     |  __lt__(self, value, /)\n",
      "     |      Return self<value.\n",
      "     |  \n",
      "     |  __ne__(self, value, /)\n",
      "     |      Return self!=value.\n",
      "     |  \n",
      "     |  __new__(*args, **kwargs) from builtins.type\n",
      "     |      Create and return a new object.  See help(type) for accurate signature.\n",
      "     |  \n",
      "     |  __radd__(self, value, /)\n",
      "     |      Return value+self.\n",
      "     |  \n",
      "     |  __reduce__(...)\n",
      "     |      __reduce__() -> (cls, state)\n",
      "     |  \n",
      "     |  __repr__(self, /)\n",
      "     |      Return repr(self).\n",
      "     |  \n",
      "     |  __rsub__(self, value, /)\n",
      "     |      Return value-self.\n",
      "     |  \n",
      "     |  __str__(self, /)\n",
      "     |      Return str(self).\n",
      "     |  \n",
      "     |  __sub__(self, value, /)\n",
      "     |      Return self-value.\n",
      "     |  \n",
      "     |  ctime(...)\n",
      "     |      Return ctime() style string.\n",
      "     |  \n",
      "     |  fromordinal(...) from builtins.type\n",
      "     |      int -> date corresponding to a proleptic Gregorian ordinal.\n",
      "     |  \n",
      "     |  fromtimestamp(...) from builtins.type\n",
      "     |      timestamp -> local date from a POSIX timestamp (like time.time()).\n",
      "     |  \n",
      "     |  isocalendar(...)\n",
      "     |      Return a 3-tuple containing ISO year, week number, and weekday.\n",
      "     |  \n",
      "     |  isoformat(...)\n",
      "     |      Return string in ISO 8601 format, YYYY-MM-DD.\n",
      "     |  \n",
      "     |  isoweekday(...)\n",
      "     |      Return the day of the week represented by the date.\n",
      "     |      Monday == 1 ... Sunday == 7\n",
      "     |  \n",
      "     |  replace(...)\n",
      "     |      Return date with new specified fields.\n",
      "     |  \n",
      "     |  strftime(...)\n",
      "     |      format -> strftime() style string.\n",
      "     |  \n",
      "     |  timetuple(...)\n",
      "     |      Return time tuple, compatible with time.localtime().\n",
      "     |  \n",
      "     |  today(...) from builtins.type\n",
      "     |      Current date or datetime:  same as self.__class__.fromtimestamp(time.time()).\n",
      "     |  \n",
      "     |  toordinal(...)\n",
      "     |      Return proleptic Gregorian ordinal.  January 1 of year 1 is day 1.\n",
      "     |  \n",
      "     |  weekday(...)\n",
      "     |      Return the day of the week represented by the date.\n",
      "     |      Monday == 0 ... Sunday == 6\n",
      "     |  \n",
      "     |  ----------------------------------------------------------------------\n",
      "     |  Data descriptors defined here:\n",
      "     |  \n",
      "     |  day\n",
      "     |  \n",
      "     |  month\n",
      "     |  \n",
      "     |  year\n",
      "     |  \n",
      "     |  ----------------------------------------------------------------------\n",
      "     |  Data and other attributes defined here:\n",
      "     |  \n",
      "     |  max = datetime.date(9999, 12, 31)\n",
      "     |  \n",
      "     |  min = datetime.date(1, 1, 1)\n",
      "     |  \n",
      "     |  resolution = datetime.timedelta(1)\n",
      "    \n",
      "    class datetime(date)\n",
      "     |  datetime(year, month, day[, hour[, minute[, second[, microsecond[,tzinfo]]]]])\n",
      "     |  \n",
      "     |  The year, month and day arguments are required. tzinfo may be None, or an\n",
      "     |  instance of a tzinfo subclass. The remaining arguments may be ints.\n",
      "     |  \n",
      "     |  Method resolution order:\n",
      "     |      datetime\n",
      "     |      date\n",
      "     |      builtins.object\n",
      "     |  \n",
      "     |  Methods defined here:\n",
      "     |  \n",
      "     |  __add__(self, value, /)\n",
      "     |      Return self+value.\n",
      "     |  \n",
      "     |  __eq__(self, value, /)\n",
      "     |      Return self==value.\n",
      "     |  \n",
      "     |  __ge__(self, value, /)\n",
      "     |      Return self>=value.\n",
      "     |  \n",
      "     |  __getattribute__(self, name, /)\n",
      "     |      Return getattr(self, name).\n",
      "     |  \n",
      "     |  __gt__(self, value, /)\n",
      "     |      Return self>value.\n",
      "     |  \n",
      "     |  __hash__(self, /)\n",
      "     |      Return hash(self).\n",
      "     |  \n",
      "     |  __le__(self, value, /)\n",
      "     |      Return self<=value.\n",
      "     |  \n",
      "     |  __lt__(self, value, /)\n",
      "     |      Return self<value.\n",
      "     |  \n",
      "     |  __ne__(self, value, /)\n",
      "     |      Return self!=value.\n",
      "     |  \n",
      "     |  __new__(*args, **kwargs) from builtins.type\n",
      "     |      Create and return a new object.  See help(type) for accurate signature.\n",
      "     |  \n",
      "     |  __radd__(self, value, /)\n",
      "     |      Return value+self.\n",
      "     |  \n",
      "     |  __reduce__(...)\n",
      "     |      __reduce__() -> (cls, state)\n",
      "     |  \n",
      "     |  __reduce_ex__(...)\n",
      "     |      __reduce_ex__(proto) -> (cls, state)\n",
      "     |  \n",
      "     |  __repr__(self, /)\n",
      "     |      Return repr(self).\n",
      "     |  \n",
      "     |  __rsub__(self, value, /)\n",
      "     |      Return value-self.\n",
      "     |  \n",
      "     |  __str__(self, /)\n",
      "     |      Return str(self).\n",
      "     |  \n",
      "     |  __sub__(self, value, /)\n",
      "     |      Return self-value.\n",
      "     |  \n",
      "     |  astimezone(...)\n",
      "     |      tz -> convert to local time in new timezone tz\n",
      "     |  \n",
      "     |  combine(...) from builtins.type\n",
      "     |      date, time -> datetime with same date and time fields\n",
      "     |  \n",
      "     |  ctime(...)\n",
      "     |      Return ctime() style string.\n",
      "     |  \n",
      "     |  date(...)\n",
      "     |      Return date object with same year, month and day.\n",
      "     |  \n",
      "     |  dst(...)\n",
      "     |      Return self.tzinfo.dst(self).\n",
      "     |  \n",
      "     |  fromtimestamp(...) from builtins.type\n",
      "     |      timestamp[, tz] -> tz's local time from POSIX timestamp.\n",
      "     |  \n",
      "     |  isoformat(...)\n",
      "     |      [sep] -> string in ISO 8601 format, YYYY-MM-DDT[HH[:MM[:SS[.mmm[uuu]]]]][+HH:MM].\n",
      "     |      sep is used to separate the year from the time, and defaults to 'T'.\n",
      "     |      timespec specifies what components of the time to include (allowed values are 'auto', 'hours', 'minutes', 'seconds', 'milliseconds', and 'microseconds').\n",
      "     |  \n",
      "     |  now(tz=None) from builtins.type\n",
      "     |      Returns new datetime object representing current time local to tz.\n",
      "     |      \n",
      "     |        tz\n",
      "     |          Timezone object.\n",
      "     |      \n",
      "     |      If no tz is specified, uses local timezone.\n",
      "     |  \n",
      "     |  replace(...)\n",
      "     |      Return datetime with new specified fields.\n",
      "     |  \n",
      "     |  strptime(...) from builtins.type\n",
      "     |      string, format -> new datetime parsed from a string (like time.strptime()).\n",
      "     |  \n",
      "     |  time(...)\n",
      "     |      Return time object with same time but with tzinfo=None.\n",
      "     |  \n",
      "     |  timestamp(...)\n",
      "     |      Return POSIX timestamp as float.\n",
      "     |  \n",
      "     |  timetuple(...)\n",
      "     |      Return time tuple, compatible with time.localtime().\n",
      "     |  \n",
      "     |  timetz(...)\n",
      "     |      Return time object with same time and tzinfo.\n",
      "     |  \n",
      "     |  tzname(...)\n",
      "     |      Return self.tzinfo.tzname(self).\n",
      "     |  \n",
      "     |  utcfromtimestamp(...) from builtins.type\n",
      "     |      Construct a naive UTC datetime from a POSIX timestamp.\n",
      "     |  \n",
      "     |  utcnow(...) from builtins.type\n",
      "     |      Return a new datetime representing UTC day and time.\n",
      "     |  \n",
      "     |  utcoffset(...)\n",
      "     |      Return self.tzinfo.utcoffset(self).\n",
      "     |  \n",
      "     |  utctimetuple(...)\n",
      "     |      Return UTC time tuple, compatible with time.localtime().\n",
      "     |  \n",
      "     |  ----------------------------------------------------------------------\n",
      "     |  Data descriptors defined here:\n",
      "     |  \n",
      "     |  fold\n",
      "     |  \n",
      "     |  hour\n",
      "     |  \n",
      "     |  microsecond\n",
      "     |  \n",
      "     |  minute\n",
      "     |  \n",
      "     |  second\n",
      "     |  \n",
      "     |  tzinfo\n",
      "     |  \n",
      "     |  ----------------------------------------------------------------------\n",
      "     |  Data and other attributes defined here:\n",
      "     |  \n",
      "     |  max = datetime.datetime(9999, 12, 31, 23, 59, 59, 999999)\n",
      "     |  \n",
      "     |  min = datetime.datetime(1, 1, 1, 0, 0)\n",
      "     |  \n",
      "     |  resolution = datetime.timedelta(0, 0, 1)\n",
      "     |  \n",
      "     |  ----------------------------------------------------------------------\n",
      "     |  Methods inherited from date:\n",
      "     |  \n",
      "     |  __format__(...)\n",
      "     |      Formats self with strftime.\n",
      "     |  \n",
      "     |  fromordinal(...) from builtins.type\n",
      "     |      int -> date corresponding to a proleptic Gregorian ordinal.\n",
      "     |  \n",
      "     |  isocalendar(...)\n",
      "     |      Return a 3-tuple containing ISO year, week number, and weekday.\n",
      "     |  \n",
      "     |  isoweekday(...)\n",
      "     |      Return the day of the week represented by the date.\n",
      "     |      Monday == 1 ... Sunday == 7\n",
      "     |  \n",
      "     |  strftime(...)\n",
      "     |      format -> strftime() style string.\n",
      "     |  \n",
      "     |  today(...) from builtins.type\n",
      "     |      Current date or datetime:  same as self.__class__.fromtimestamp(time.time()).\n",
      "     |  \n",
      "     |  toordinal(...)\n",
      "     |      Return proleptic Gregorian ordinal.  January 1 of year 1 is day 1.\n",
      "     |  \n",
      "     |  weekday(...)\n",
      "     |      Return the day of the week represented by the date.\n",
      "     |      Monday == 0 ... Sunday == 6\n",
      "     |  \n",
      "     |  ----------------------------------------------------------------------\n",
      "     |  Data descriptors inherited from date:\n",
      "     |  \n",
      "     |  day\n",
      "     |  \n",
      "     |  month\n",
      "     |  \n",
      "     |  year\n",
      "    \n",
      "    class time(builtins.object)\n",
      "     |  time([hour[, minute[, second[, microsecond[, tzinfo]]]]]) --> a time object\n",
      "     |  \n",
      "     |  All arguments are optional. tzinfo may be None, or an instance of\n",
      "     |  a tzinfo subclass. The remaining arguments may be ints.\n",
      "     |  \n",
      "     |  Methods defined here:\n",
      "     |  \n",
      "     |  __eq__(self, value, /)\n",
      "     |      Return self==value.\n",
      "     |  \n",
      "     |  __format__(...)\n",
      "     |      Formats self with strftime.\n",
      "     |  \n",
      "     |  __ge__(self, value, /)\n",
      "     |      Return self>=value.\n",
      "     |  \n",
      "     |  __getattribute__(self, name, /)\n",
      "     |      Return getattr(self, name).\n",
      "     |  \n",
      "     |  __gt__(self, value, /)\n",
      "     |      Return self>value.\n",
      "     |  \n",
      "     |  __hash__(self, /)\n",
      "     |      Return hash(self).\n",
      "     |  \n",
      "     |  __le__(self, value, /)\n",
      "     |      Return self<=value.\n",
      "     |  \n",
      "     |  __lt__(self, value, /)\n",
      "     |      Return self<value.\n",
      "     |  \n",
      "     |  __ne__(self, value, /)\n",
      "     |      Return self!=value.\n",
      "     |  \n",
      "     |  __new__(*args, **kwargs) from builtins.type\n",
      "     |      Create and return a new object.  See help(type) for accurate signature.\n",
      "     |  \n",
      "     |  __reduce__(...)\n",
      "     |      __reduce__() -> (cls, state)\n",
      "     |  \n",
      "     |  __reduce_ex__(...)\n",
      "     |      __reduce_ex__(proto) -> (cls, state)\n",
      "     |  \n",
      "     |  __repr__(self, /)\n",
      "     |      Return repr(self).\n",
      "     |  \n",
      "     |  __str__(self, /)\n",
      "     |      Return str(self).\n",
      "     |  \n",
      "     |  dst(...)\n",
      "     |      Return self.tzinfo.dst(self).\n",
      "     |  \n",
      "     |  isoformat(...)\n",
      "     |      Return string in ISO 8601 format, [HH[:MM[:SS[.mmm[uuu]]]]][+HH:MM].\n",
      "     |      \n",
      "     |      timespec specifies what components of the time to include.\n",
      "     |  \n",
      "     |  replace(...)\n",
      "     |      Return time with new specified fields.\n",
      "     |  \n",
      "     |  strftime(...)\n",
      "     |      format -> strftime() style string.\n",
      "     |  \n",
      "     |  tzname(...)\n",
      "     |      Return self.tzinfo.tzname(self).\n",
      "     |  \n",
      "     |  utcoffset(...)\n",
      "     |      Return self.tzinfo.utcoffset(self).\n",
      "     |  \n",
      "     |  ----------------------------------------------------------------------\n",
      "     |  Data descriptors defined here:\n",
      "     |  \n",
      "     |  fold\n",
      "     |  \n",
      "     |  hour\n",
      "     |  \n",
      "     |  microsecond\n",
      "     |  \n",
      "     |  minute\n",
      "     |  \n",
      "     |  second\n",
      "     |  \n",
      "     |  tzinfo\n",
      "     |  \n",
      "     |  ----------------------------------------------------------------------\n",
      "     |  Data and other attributes defined here:\n",
      "     |  \n",
      "     |  max = datetime.time(23, 59, 59, 999999)\n",
      "     |  \n",
      "     |  min = datetime.time(0, 0)\n",
      "     |  \n",
      "     |  resolution = datetime.timedelta(0, 0, 1)\n",
      "    \n",
      "    class timedelta(builtins.object)\n",
      "     |  Difference between two datetime values.\n",
      "     |  \n",
      "     |  timedelta(days=0, seconds=0, microseconds=0, milliseconds=0, minutes=0, hours=0, weeks=0)\n",
      "     |  \n",
      "     |  All arguments are optional and default to 0.\n",
      "     |  Arguments may be integers or floats, and may be positive or negative.\n",
      "     |  \n",
      "     |  Methods defined here:\n",
      "     |  \n",
      "     |  __abs__(self, /)\n",
      "     |      abs(self)\n",
      "     |  \n",
      "     |  __add__(self, value, /)\n",
      "     |      Return self+value.\n",
      "     |  \n",
      "     |  __bool__(self, /)\n",
      "     |      self != 0\n",
      "     |  \n",
      "     |  __divmod__(self, value, /)\n",
      "     |      Return divmod(self, value).\n",
      "     |  \n",
      "     |  __eq__(self, value, /)\n",
      "     |      Return self==value.\n",
      "     |  \n",
      "     |  __floordiv__(self, value, /)\n",
      "     |      Return self//value.\n",
      "     |  \n",
      "     |  __ge__(self, value, /)\n",
      "     |      Return self>=value.\n",
      "     |  \n",
      "     |  __getattribute__(self, name, /)\n",
      "     |      Return getattr(self, name).\n",
      "     |  \n",
      "     |  __gt__(self, value, /)\n",
      "     |      Return self>value.\n",
      "     |  \n",
      "     |  __hash__(self, /)\n",
      "     |      Return hash(self).\n",
      "     |  \n",
      "     |  __le__(self, value, /)\n",
      "     |      Return self<=value.\n",
      "     |  \n",
      "     |  __lt__(self, value, /)\n",
      "     |      Return self<value.\n",
      "     |  \n",
      "     |  __mod__(self, value, /)\n",
      "     |      Return self%value.\n",
      "     |  \n",
      "     |  __mul__(self, value, /)\n",
      "     |      Return self*value.\n",
      "     |  \n",
      "     |  __ne__(self, value, /)\n",
      "     |      Return self!=value.\n",
      "     |  \n",
      "     |  __neg__(self, /)\n",
      "     |      -self\n",
      "     |  \n",
      "     |  __new__(*args, **kwargs) from builtins.type\n",
      "     |      Create and return a new object.  See help(type) for accurate signature.\n",
      "     |  \n",
      "     |  __pos__(self, /)\n",
      "     |      +self\n",
      "     |  \n",
      "     |  __radd__(self, value, /)\n",
      "     |      Return value+self.\n",
      "     |  \n",
      "     |  __rdivmod__(self, value, /)\n",
      "     |      Return divmod(value, self).\n",
      "     |  \n",
      "     |  __reduce__(...)\n",
      "     |      __reduce__() -> (cls, state)\n",
      "     |  \n",
      "     |  __repr__(self, /)\n",
      "     |      Return repr(self).\n",
      "     |  \n",
      "     |  __rfloordiv__(self, value, /)\n",
      "     |      Return value//self.\n",
      "     |  \n",
      "     |  __rmod__(self, value, /)\n",
      "     |      Return value%self.\n",
      "     |  \n",
      "     |  __rmul__(self, value, /)\n",
      "     |      Return value*self.\n",
      "     |  \n",
      "     |  __rsub__(self, value, /)\n",
      "     |      Return value-self.\n",
      "     |  \n",
      "     |  __rtruediv__(self, value, /)\n",
      "     |      Return value/self.\n",
      "     |  \n",
      "     |  __str__(self, /)\n",
      "     |      Return str(self).\n",
      "     |  \n",
      "     |  __sub__(self, value, /)\n",
      "     |      Return self-value.\n",
      "     |  \n",
      "     |  __truediv__(self, value, /)\n",
      "     |      Return self/value.\n",
      "     |  \n",
      "     |  total_seconds(...)\n",
      "     |      Total seconds in the duration.\n",
      "     |  \n",
      "     |  ----------------------------------------------------------------------\n",
      "     |  Data descriptors defined here:\n",
      "     |  \n",
      "     |  days\n",
      "     |      Number of days.\n",
      "     |  \n",
      "     |  microseconds\n",
      "     |      Number of microseconds (>= 0 and less than 1 second).\n",
      "     |  \n",
      "     |  seconds\n",
      "     |      Number of seconds (>= 0 and less than 1 day).\n",
      "     |  \n",
      "     |  ----------------------------------------------------------------------\n",
      "     |  Data and other attributes defined here:\n",
      "     |  \n",
      "     |  max = datetime.timedelta(999999999, 86399, 999999)\n",
      "     |  \n",
      "     |  min = datetime.timedelta(-999999999)\n",
      "     |  \n",
      "     |  resolution = datetime.timedelta(0, 0, 1)\n",
      "    \n",
      "    class timezone(tzinfo)\n",
      "     |  Fixed offset from UTC implementation of tzinfo.\n",
      "     |  \n",
      "     |  Method resolution order:\n",
      "     |      timezone\n",
      "     |      tzinfo\n",
      "     |      builtins.object\n",
      "     |  \n",
      "     |  Methods defined here:\n",
      "     |  \n",
      "     |  __eq__(self, value, /)\n",
      "     |      Return self==value.\n",
      "     |  \n",
      "     |  __ge__(self, value, /)\n",
      "     |      Return self>=value.\n",
      "     |  \n",
      "     |  __getinitargs__(...)\n",
      "     |      pickle support\n",
      "     |  \n",
      "     |  __gt__(self, value, /)\n",
      "     |      Return self>value.\n",
      "     |  \n",
      "     |  __hash__(self, /)\n",
      "     |      Return hash(self).\n",
      "     |  \n",
      "     |  __le__(self, value, /)\n",
      "     |      Return self<=value.\n",
      "     |  \n",
      "     |  __lt__(self, value, /)\n",
      "     |      Return self<value.\n",
      "     |  \n",
      "     |  __ne__(self, value, /)\n",
      "     |      Return self!=value.\n",
      "     |  \n",
      "     |  __new__(*args, **kwargs) from builtins.type\n",
      "     |      Create and return a new object.  See help(type) for accurate signature.\n",
      "     |  \n",
      "     |  __repr__(self, /)\n",
      "     |      Return repr(self).\n",
      "     |  \n",
      "     |  __str__(self, /)\n",
      "     |      Return str(self).\n",
      "     |  \n",
      "     |  dst(...)\n",
      "     |      Return None.\n",
      "     |  \n",
      "     |  fromutc(...)\n",
      "     |      datetime in UTC -> datetime in local time.\n",
      "     |  \n",
      "     |  tzname(...)\n",
      "     |      If name is specified when timezone is created, returns the name.  Otherwise returns offset as 'UTC(+|-)HH:MM'.\n",
      "     |  \n",
      "     |  utcoffset(...)\n",
      "     |      Return fixed offset.\n",
      "     |  \n",
      "     |  ----------------------------------------------------------------------\n",
      "     |  Data and other attributes defined here:\n",
      "     |  \n",
      "     |  max = datetime.timezone(datetime.timedelta(0, 86340))\n",
      "     |  \n",
      "     |  min = datetime.timezone(datetime.timedelta(-1, 60))\n",
      "     |  \n",
      "     |  utc = datetime.timezone.utc\n",
      "     |  \n",
      "     |  ----------------------------------------------------------------------\n",
      "     |  Methods inherited from tzinfo:\n",
      "     |  \n",
      "     |  __getattribute__(self, name, /)\n",
      "     |      Return getattr(self, name).\n",
      "     |  \n",
      "     |  __reduce__(...)\n",
      "     |      -> (cls, state)\n",
      "    \n",
      "    class tzinfo(builtins.object)\n",
      "     |  Abstract base class for time zone info objects.\n",
      "     |  \n",
      "     |  Methods defined here:\n",
      "     |  \n",
      "     |  __getattribute__(self, name, /)\n",
      "     |      Return getattr(self, name).\n",
      "     |  \n",
      "     |  __new__(*args, **kwargs) from builtins.type\n",
      "     |      Create and return a new object.  See help(type) for accurate signature.\n",
      "     |  \n",
      "     |  __reduce__(...)\n",
      "     |      -> (cls, state)\n",
      "     |  \n",
      "     |  dst(...)\n",
      "     |      datetime -> DST offset in minutes east of UTC.\n",
      "     |  \n",
      "     |  fromutc(...)\n",
      "     |      datetime in UTC -> datetime in local time.\n",
      "     |  \n",
      "     |  tzname(...)\n",
      "     |      datetime -> string name of time zone.\n",
      "     |  \n",
      "     |  utcoffset(...)\n",
      "     |      datetime -> timedelta showing offset from UTC, negative values indicating West of UTC\n",
      "\n",
      "DATA\n",
      "    MAXYEAR = 9999\n",
      "    MINYEAR = 1\n",
      "    datetime_CAPI = <capsule object \"datetime.datetime_CAPI\">\n",
      "\n",
      "FILE\n",
      "    /Users/chandrikasaha/opt/anaconda3/envs/tf_keras/lib/python3.6/datetime.py\n",
      "\n",
      "\n",
      "None\n"
     ]
    }
   ],
   "source": [
    "print(help(datetime))"
   ]
  },
  {
   "cell_type": "code",
   "execution_count": 3,
   "id": "c346c90a",
   "metadata": {},
   "outputs": [
    {
     "name": "stdout",
     "output_type": "stream",
     "text": [
      "Current date and time: 2024-08-10 15:12:07.171100\n",
      "Specific date: 2024-04-22\n",
      "Formatted date:  04-22-24\n",
      "     January 2\n",
      "Mo Tu We Th Fr Sa Su\n",
      "    1  2  3  4  5  6\n",
      " 7  8  9 10 11 12 13\n",
      "14 15 16 17 18 19 20\n",
      "21 22 23 24 25 26 27\n",
      "28 29 30 31\n",
      "\n"
     ]
    }
   ],
   "source": [
    "import datetime\n",
    "import calendar\n",
    "\n",
    "# Example 1: Using datetime module to work with dates and times\n",
    "# Get the current date and time\n",
    "current_datetime = datetime.datetime.now()\n",
    "print(\"Current date and time:\", current_datetime)\n",
    "\n",
    "\n",
    "# Create a specific date\n",
    "specific_date = datetime.date(2024, 4, 22)\n",
    "formatted_specific_date = specific_date.strftime(\"%m-%d-%y\")\n",
    "print(\"Specific date:\", specific_date)\n",
    "print(\"Formatted date: \", formatted_specific_date )\n",
    "\n",
    "# Example 2: Using calendar module to work with calendars\n",
    "# Get the calendar for a specific month and year\n",
    "year = 2\n",
    "month = 1\n",
    "cal = calendar.month(year, month)\n",
    "print(cal)\n"
   ]
  },
  {
   "cell_type": "markdown",
   "id": "4afbe1f7",
   "metadata": {},
   "source": [
    "# Python Dictionaries"
   ]
  },
  {
   "cell_type": "code",
   "execution_count": 5,
   "id": "e44f9216",
   "metadata": {},
   "outputs": [
    {
     "name": "stdout",
     "output_type": "stream",
     "text": [
      "{'name': 'John', 'age': 25, 'courses': ['Math', 'History']}\n"
     ]
    },
    {
     "ename": "KeyError",
     "evalue": "'phone'",
     "output_type": "error",
     "traceback": [
      "\u001b[0;31m---------------------------------------------------------------------------\u001b[0m",
      "\u001b[0;31mKeyError\u001b[0m                                  Traceback (most recent call last)",
      "\u001b[0;32m<ipython-input-5-cb9de41f626f>\u001b[0m in \u001b[0;36m<module>\u001b[0;34m\u001b[0m\n\u001b[1;32m      2\u001b[0m \u001b[0mstudent\u001b[0m \u001b[0;34m=\u001b[0m \u001b[0;34m{\u001b[0m\u001b[0;34m'name'\u001b[0m\u001b[0;34m:\u001b[0m \u001b[0;34m'John'\u001b[0m\u001b[0;34m,\u001b[0m \u001b[0;34m'age'\u001b[0m\u001b[0;34m:\u001b[0m \u001b[0;36m25\u001b[0m\u001b[0;34m,\u001b[0m \u001b[0;34m'courses'\u001b[0m \u001b[0;34m:\u001b[0m \u001b[0;34m[\u001b[0m\u001b[0;34m'Math'\u001b[0m\u001b[0;34m,\u001b[0m \u001b[0;34m'History'\u001b[0m\u001b[0;34m]\u001b[0m\u001b[0;34m}\u001b[0m\u001b[0;34m\u001b[0m\u001b[0;34m\u001b[0m\u001b[0m\n\u001b[1;32m      3\u001b[0m \u001b[0mprint\u001b[0m\u001b[0;34m(\u001b[0m\u001b[0mstudent\u001b[0m\u001b[0;34m)\u001b[0m\u001b[0;34m\u001b[0m\u001b[0;34m\u001b[0m\u001b[0m\n\u001b[0;32m----> 4\u001b[0;31m \u001b[0mprint\u001b[0m\u001b[0;34m(\u001b[0m\u001b[0mstudent\u001b[0m\u001b[0;34m[\u001b[0m\u001b[0;34m'phone'\u001b[0m\u001b[0;34m]\u001b[0m\u001b[0;34m)\u001b[0m\u001b[0;34m\u001b[0m\u001b[0;34m\u001b[0m\u001b[0m\n\u001b[0m",
      "\u001b[0;31mKeyError\u001b[0m: 'phone'"
     ]
    }
   ],
   "source": [
    "# 'Key' : 'Value'\n",
    "student = {'name': 'John', 'age': 25, 'courses' : ['Math', 'History']}\n",
    "print(student)\n",
    "print(student['name'])"
   ]
  },
  {
   "cell_type": "code",
   "execution_count": 6,
   "id": "28cdf2bf",
   "metadata": {},
   "outputs": [
    {
     "name": "stdout",
     "output_type": "stream",
     "text": [
      "Not Found!!\n",
      "25\n"
     ]
    }
   ],
   "source": [
    "print(student.get('phone', \"Not Found!!\"))\n",
    "print(student.get('age', 0))"
   ]
  },
  {
   "cell_type": "code",
   "execution_count": 7,
   "id": "e5da3f64",
   "metadata": {},
   "outputs": [
    {
     "name": "stdout",
     "output_type": "stream",
     "text": [
      "{'name': 'John', 'age': 25, 'courses': ['Math', 'History', 'Aiden Class']}\n"
     ]
    }
   ],
   "source": [
    "student.get('courses').append('Aiden Class')\n",
    "print(student)"
   ]
  },
  {
   "cell_type": "code",
   "execution_count": 8,
   "id": "69f36018",
   "metadata": {},
   "outputs": [
    {
     "name": "stdout",
     "output_type": "stream",
     "text": [
      "{'name': 'Aiden', 'age': 25, 'courses': ['Math', 'History', 'Aiden Class'], 'phone': '555-555555'}\n"
     ]
    }
   ],
   "source": [
    "# Add a key-value pair\n",
    "student['phone'] = '555-555555'\n",
    "student['name'] = 'Aiden'\n",
    "print(student)"
   ]
  },
  {
   "cell_type": "code",
   "execution_count": 9,
   "id": "b58f4b2e",
   "metadata": {},
   "outputs": [
    {
     "name": "stdout",
     "output_type": "stream",
     "text": [
      "{'name': 'Adam', 'age': 25, 'courses': ['Math', 'History', 'Aiden Class'], 'phone': '555-555555'}\n"
     ]
    }
   ],
   "source": [
    "student.update({'name': 'Adam'})\n",
    "print(student)"
   ]
  },
  {
   "cell_type": "code",
   "execution_count": 10,
   "id": "75380712",
   "metadata": {},
   "outputs": [],
   "source": [
    "new_list = []\n",
    "new_list.append(student)"
   ]
  },
  {
   "cell_type": "code",
   "execution_count": 11,
   "id": "90deeafe",
   "metadata": {},
   "outputs": [
    {
     "name": "stdout",
     "output_type": "stream",
     "text": [
      "[{'name': 'Adam', 'age': 25, 'courses': ['Math', 'History', 'Aiden Class'], 'phone': '555-555555'}]\n"
     ]
    }
   ],
   "source": [
    "print(new_list)"
   ]
  },
  {
   "cell_type": "code",
   "execution_count": 12,
   "id": "3592248d",
   "metadata": {},
   "outputs": [
    {
     "name": "stdout",
     "output_type": "stream",
     "text": [
      "[{'name': 'Adam', 'age': 25, 'courses': ['Math', 'History', 'Aiden Class'], 'phone': '555-555555'}, {'name': 'Adam', 'age': 78, 'courses': [], 'phone': '555-555555'}]\n"
     ]
    }
   ],
   "source": [
    "student2 = {'name': 'Adam', 'age': 78, 'courses': [], 'phone': '555-555555'}\n",
    "new_list.append(student2)\n",
    "print(new_list)"
   ]
  },
  {
   "cell_type": "code",
   "execution_count": null,
   "id": "098b34a0",
   "metadata": {},
   "outputs": [],
   "source": [
    "# student3 = {}\n",
    "# user_input = input(\"Enter the name: \")\n",
    "# student3['name'] = user_input\n",
    "# user_age = int(input(\"Enter the age: \"))\n",
    "# student3['age'] = user_age\n",
    "# print(student3)"
   ]
  },
  {
   "cell_type": "code",
   "execution_count": 13,
   "id": "f021282f",
   "metadata": {},
   "outputs": [
    {
     "name": "stdout",
     "output_type": "stream",
     "text": [
      "{'name': None, 'courses': ['Math', 'History', 'Aiden Class'], 'phone': '555-555555'}\n"
     ]
    }
   ],
   "source": [
    "# delete a key-value pair\n",
    "del student['age']\n",
    "student['name'] = None\n",
    "print(student)"
   ]
  },
  {
   "cell_type": "code",
   "execution_count": 14,
   "id": "4bd0ebe1",
   "metadata": {},
   "outputs": [
    {
     "name": "stdout",
     "output_type": "stream",
     "text": [
      "None\n",
      "{'courses': ['Math', 'History', 'Aiden Class'], 'phone': '555-555555'}\n"
     ]
    }
   ],
   "source": [
    "name = student.pop('name')\n",
    "print(name)\n",
    "print(student)"
   ]
  },
  {
   "cell_type": "code",
   "execution_count": 15,
   "id": "714fd5e1",
   "metadata": {},
   "outputs": [
    {
     "name": "stdout",
     "output_type": "stream",
     "text": [
      "2\n",
      "dict_keys(['courses', 'phone'])\n",
      "dict_values([['Math', 'History', 'Aiden Class'], '555-555555'])\n",
      "dict_items([('courses', ['Math', 'History', 'Aiden Class']), ('phone', '555-555555')])\n"
     ]
    }
   ],
   "source": [
    "print(len(student))\n",
    "print(student.keys())\n",
    "print(student.values())\n",
    "print(student.items())"
   ]
  },
  {
   "cell_type": "code",
   "execution_count": 16,
   "id": "372017f4",
   "metadata": {},
   "outputs": [
    {
     "name": "stdout",
     "output_type": "stream",
     "text": [
      "courses\n",
      "phone\n"
     ]
    }
   ],
   "source": [
    "for key in student.keys():\n",
    "#     if(key != 'courses'):\n",
    "    print(key)"
   ]
  },
  {
   "cell_type": "code",
   "execution_count": 17,
   "id": "800536f5",
   "metadata": {},
   "outputs": [
    {
     "name": "stdout",
     "output_type": "stream",
     "text": [
      "courses and ['Math', 'History', 'Aiden Class']\n",
      "phone and 555-555555\n"
     ]
    }
   ],
   "source": [
    "for key, value in student.items():\n",
    "    print(key, \"and\", value)"
   ]
  },
  {
   "cell_type": "markdown",
   "id": "d2f3c4db",
   "metadata": {},
   "source": [
    "# Python files"
   ]
  },
  {
   "cell_type": "code",
   "execution_count": 18,
   "id": "157a0baa",
   "metadata": {},
   "outputs": [
    {
     "name": "stdout",
     "output_type": "stream",
     "text": [
      "Current path:  /Users/chandrikasaha/Desktop/Python Coding\n",
      "Directories:  ['Untitled Folder', 'NewDir', 'NewDir2', 'NewDir3', '.ipynb_checkpoints']\n",
      "Files:  ['Basics.ipynb', 'Untitled7.ipynb', 'output_titles.txt', 'pokemon_data.csv', 'file1.txt', 'Untitled5.ipynb', 'Dragon.ipynb', 'changed.csv', 'Untitled1.ipynb', '.DS_Store', 'python loop hw solutions.docx', 'y.jpg', 'Parachuter.ipynb', 'ReviewOutlier.ipynb', 'Python_Loop_HW.docx', 'Untitled3.ipynb', 'Untitled.ipynb', 'Untitled4.ipynb', 'Untitled6.ipynb', 'Testing ICE.ipynb', 'testing.txt', 'Exercise.ipynb', 'Test code for editing and documentation use case.ipynb', 'Python_Loop_HW.pdf', 'Attempter.ipynb', 'finals.ipynb', 'testing1.txt', 'Untitled2.ipynb', 'test.json', 'Lambdas.ipynb', 'Loops.ipynb', 'lambda_solutions.pdf', 'CheckingData.ipynb', ' numerical integration approx.ipynb', 'AttemptOutlier.ipynb', 'Input.txt', 'untitled.txt', 'OutlierPythonDebugCode.ipynb', 'input1.csv', 'recursion.ipynb', 'PythonBusiness.ipynb', 'VT.ipynb', 'Dragon-Copy1.ipynb', 'output_keys.txt', 'lambda.docx', 'AssessmentTask.ipynb', 'Untitled8.ipynb', 'lambda.pdf', 'B_c4geneealm_tl.json', 'json.ipynb', 'Testing for Outlier.ipynb', 'test.txt', 'new_text.json', 'Strings.ipynb', 'Basics Numbers.ipynb', 'changed2.csv', 't.jpg', 'Good Codes Outlier.ipynb', 'NLTK.ipynb', 'Output.txt', '03-Control_1pp.pdf', 'pie.png']\n",
      "Current path:  /Users/chandrikasaha/Desktop/Python Coding/Untitled Folder\n",
      "Directories:  []\n",
      "Files:  []\n",
      "Current path:  /Users/chandrikasaha/Desktop/Python Coding/NewDir\n",
      "Directories:  ['Untitled Folder']\n",
      "Files:  []\n",
      "Current path:  /Users/chandrikasaha/Desktop/Python Coding/NewDir/Untitled Folder\n",
      "Directories:  []\n",
      "Files:  []\n",
      "Current path:  /Users/chandrikasaha/Desktop/Python Coding/NewDir2\n",
      "Directories:  ['.ipynb_checkpoints']\n",
      "Files:  ['Untitled.ipynb']\n",
      "Current path:  /Users/chandrikasaha/Desktop/Python Coding/NewDir2/.ipynb_checkpoints\n",
      "Directories:  []\n",
      "Files:  ['Untitled-checkpoint.ipynb']\n",
      "Current path:  /Users/chandrikasaha/Desktop/Python Coding/NewDir3\n",
      "Directories:  []\n",
      "Files:  []\n",
      "Current path:  /Users/chandrikasaha/Desktop/Python Coding/.ipynb_checkpoints\n",
      "Directories:  []\n",
      "Files:  ['Basics Numbers-checkpoint.ipynb', 'Untitled3-checkpoint.ipynb', 'json-checkpoint.ipynb', 'recursion-checkpoint.ipynb', 'Testing for Outlier-checkpoint.ipynb', 'Untitled8-checkpoint.ipynb', 'NLTK-checkpoint.ipynb', 'Parachuter-checkpoint.ipynb', 'AttemptOutlier-checkpoint.ipynb', 'Exercise-checkpoint.ipynb', 'Untitled7-checkpoint.ipynb', 'finals-checkpoint.ipynb', 'Attempter-checkpoint.ipynb', 'Untitled2-checkpoint.ipynb', 'PythonBusiness-checkpoint.ipynb', 'Loops-checkpoint.ipynb', 'CheckingData-checkpoint.ipynb', 'Basics-checkpoint.ipynb', 'Untitled6-checkpoint.ipynb', 'Lambdas-checkpoint.ipynb', 'ReviewOutlier-checkpoint.ipynb', 'Untitled1-checkpoint.ipynb', 'OutlierPythonDebugCode-checkpoint.ipynb', 'Untitled5-checkpoint.ipynb', 'VT-checkpoint.ipynb', 'Untitled-checkpoint.ipynb', 'Test code for editing and documentation use case-checkpoint.ipynb', 'AssessmentTask-checkpoint.ipynb', 'Strings-checkpoint.ipynb', 'Dragon-Copy1-checkpoint.ipynb', 'Dragon-checkpoint.ipynb', 'Untitled4-checkpoint.ipynb', 'Testing ICE-checkpoint.ipynb', ' numerical integration approx-checkpoint.ipynb', 'Good Codes Outlier-checkpoint.ipynb']\n"
     ]
    }
   ],
   "source": [
    "import os\n",
    "\n",
    "current_dir = os.getcwd()\n",
    "\n",
    "for dirpath, dirname, filenames in os.walk(current_dir):\n",
    "    print(\"Current path: \", dirpath)\n",
    "    print(\"Directories: \", dirname)\n",
    "    print(\"Files: \", filenames)"
   ]
  },
  {
   "cell_type": "code",
   "execution_count": 1,
   "id": "05425e99",
   "metadata": {},
   "outputs": [
    {
     "name": "stdout",
     "output_type": "stream",
     "text": [
      "10: Will & Grace\n",
      "20: Gunsmoke;Law & Order\n",
      "30: The Simpsons\n"
     ]
    }
   ],
   "source": [
    "# opening a file in non-recommended way\n",
    "f = open('output_keys.txt', 'r')\n",
    "print(f.read())\n",
    "f.close()"
   ]
  },
  {
   "cell_type": "code",
   "execution_count": 2,
   "id": "b22aa455",
   "metadata": {},
   "outputs": [
    {
     "name": "stdout",
     "output_type": "stream",
     "text": [
      "['10: Will & Grace\\n', '20: Gunsmoke;Law & Order\\n', '30: The Simpsons']\n"
     ]
    }
   ],
   "source": [
    "# recommended\n",
    "with open('output_keys.txt', 'r') as f:\n",
    "    f_content = f.readlines() # read(), readlines(), readline()\n",
    "    print(f_content)"
   ]
  },
  {
   "cell_type": "code",
   "execution_count": 3,
   "id": "714d4bf3",
   "metadata": {},
   "outputs": [
    {
     "name": "stdout",
     "output_type": "stream",
     "text": [
      "10: Will & Grace\n",
      "\n",
      "20: Gunsmoke;Law & Order\n",
      "\n",
      "30: The Simpsons\n"
     ]
    }
   ],
   "source": [
    "# print the lines of a file, method other than readline\n",
    "\n",
    "with open('output_keys.txt', 'r') as f:\n",
    "    for line in f:\n",
    "        print(line, end='\\n')"
   ]
  },
  {
   "cell_type": "code",
   "execution_count": 4,
   "id": "b088d5dd",
   "metadata": {},
   "outputs": [
    {
     "name": "stdout",
     "output_type": "stream",
     "text": [
      "10: Will & Grace\n",
      "20: Gunsmoke;Law & Order\n",
      "30: The Simpsons"
     ]
    }
   ],
   "source": [
    "# to get more control of the exact contents that are being read\n",
    "with open('output_keys.txt', 'r') as f:\n",
    "    size_to_read = 10\n",
    "    f_content = f.read(size_to_read)\n",
    "    #print(f_content, end = '')\n",
    "    while len(f_content) > 0:\n",
    "        print(f_content, end = '')\n",
    "        f_content = f.read(size_to_read)"
   ]
  },
  {
   "cell_type": "code",
   "execution_count": 5,
   "id": "b85db963",
   "metadata": {},
   "outputs": [
    {
     "name": "stdout",
     "output_type": "stream",
     "text": [
      "50\n"
     ]
    }
   ],
   "source": [
    "# to print out the current cursor point of the file\n",
    "\n",
    "with open('output_keys.txt', 'r') as f:\n",
    "    size_to_read = 50\n",
    "    f_content = f.read(size_to_read)\n",
    "    print(f.tell())"
   ]
  },
  {
   "cell_type": "code",
   "execution_count": 6,
   "id": "1d208621",
   "metadata": {},
   "outputs": [
    {
     "name": "stdout",
     "output_type": "stream",
     "text": [
      "0\n",
      "50\n"
     ]
    }
   ],
   "source": [
    "# set the cursor position in the file\n",
    "with open('output_keys.txt', 'r') as f:\n",
    "    print(f.tell())\n",
    "    f.seek(50)\n",
    "    print(f.tell())"
   ]
  },
  {
   "cell_type": "code",
   "execution_count": 8,
   "id": "c28eca20",
   "metadata": {},
   "outputs": [],
   "source": [
    "# writing to a file\n",
    "with open('output_keys.txt', 'w') as f:\n",
    "    f.write(\"\"\"10: Will & Grace\n",
    "20: Gunsmoke;Law & Order\n",
    "30: The Simpsons.....\"\"\")"
   ]
  },
  {
   "cell_type": "code",
   "execution_count": 9,
   "id": "8042d790",
   "metadata": {},
   "outputs": [
    {
     "name": "stdout",
     "output_type": "stream",
     "text": [
      "10: Will & Grace\n",
      "20: Gunsmoke;Law & Order\n",
      "30: The Simpsons.....\n"
     ]
    }
   ],
   "source": [
    "with open('output_keys.txt', 'r') as f:\n",
    "    print(f.read())"
   ]
  },
  {
   "cell_type": "code",
   "execution_count": 10,
   "id": "98df41ba",
   "metadata": {},
   "outputs": [],
   "source": [
    "# read a file and make a copy\n",
    "with open('output_keys.txt', 'r') as rf1:\n",
    "    with open('output_titles.txt', 'r') as rf2:\n",
    "        with open('test.txt', 'w') as wf:\n",
    "            for line in rf1:\n",
    "                wf.write(line)\n",
    "            wf.write(\"\\n\")\n",
    "            for line in rf2:\n",
    "                wf.write(line)\n",
    "    "
   ]
  },
  {
   "cell_type": "code",
   "execution_count": 11,
   "id": "f057a9eb",
   "metadata": {},
   "outputs": [
    {
     "name": "stdout",
     "output_type": "stream",
     "text": [
      "10: Will & Grace\n",
      "20: Gunsmoke;Law & Order\n",
      "30: The Simpsons.....\n",
      "Dallas\n",
      "Gunsmoke\n",
      "Law & Order\n",
      "Murder, She Wrote\n",
      "The Simpsons\n",
      "Will & Grace\n",
      "\n"
     ]
    }
   ],
   "source": [
    "with open('test.txt', 'r') as f:\n",
    "    print(f.read())"
   ]
  },
  {
   "cell_type": "code",
   "execution_count": null,
   "id": "69d60d27",
   "metadata": {},
   "outputs": [],
   "source": [
    "# read an image file and make a copy \n",
    "with open('y.jpg', 'rb') as rf:\n",
    "    with open('t.jpg', 'wb') as wf:\n",
    "        for line in rf:\n",
    "            wf.write(line)"
   ]
  },
  {
   "cell_type": "code",
   "execution_count": null,
   "id": "7603aa6d",
   "metadata": {},
   "outputs": [],
   "source": [
    "# Reverse a string\n",
    "string = \"Hello world\"\n",
    "print(string[0:5:2])\n",
    "print(string[::-1])"
   ]
  },
  {
   "cell_type": "code",
   "execution_count": null,
   "id": "663d710f",
   "metadata": {},
   "outputs": [],
   "source": [
    "str1 = \"Hello world\"\n",
    "str2 = \"Hello\"\n",
    "if str2 in str1:\n",
    "    print(\"str1 contains str2\")\n",
    "else:\n",
    "    print(\"Nope\")"
   ]
  },
  {
   "cell_type": "code",
   "execution_count": null,
   "id": "b39bc5c6",
   "metadata": {},
   "outputs": [],
   "source": [
    "sentence = \"Hello world. ? !\"\n",
    "listOfWords = sentence.split()\n",
    "print(listOfWords)\n",
    "reversed_str = ' '.join(reversed(listOfWords))\n",
    "print(reversed_str)"
   ]
  },
  {
   "cell_type": "markdown",
   "id": "2ed454c5",
   "metadata": {},
   "source": [
    "# Try/Except block for error handling"
   ]
  },
  {
   "cell_type": "code",
   "execution_count": 12,
   "id": "82433af3",
   "metadata": {},
   "outputs": [
    {
     "ename": "FileNotFoundError",
     "evalue": "[Errno 2] No such file or directory: 'testing...txt'",
     "output_type": "error",
     "traceback": [
      "\u001b[0;31m---------------------------------------------------------------------------\u001b[0m",
      "\u001b[0;31mFileNotFoundError\u001b[0m                         Traceback (most recent call last)",
      "\u001b[0;32m<ipython-input-12-d3783cf80d85>\u001b[0m in \u001b[0;36m<module>\u001b[0;34m\u001b[0m\n\u001b[0;32m----> 1\u001b[0;31m \u001b[0mf\u001b[0m \u001b[0;34m=\u001b[0m \u001b[0mopen\u001b[0m\u001b[0;34m(\u001b[0m\u001b[0;34m'testing...txt'\u001b[0m\u001b[0;34m)\u001b[0m\u001b[0;34m\u001b[0m\u001b[0;34m\u001b[0m\u001b[0m\n\u001b[0m\u001b[1;32m      2\u001b[0m \u001b[0mf\u001b[0m\u001b[0;34m.\u001b[0m\u001b[0mclose\u001b[0m\u001b[0;34m(\u001b[0m\u001b[0;34m)\u001b[0m\u001b[0;34m\u001b[0m\u001b[0;34m\u001b[0m\u001b[0m\n\u001b[1;32m      3\u001b[0m \u001b[0mprint\u001b[0m\u001b[0;34m(\u001b[0m\u001b[0;34m\"Success!\"\u001b[0m\u001b[0;34m)\u001b[0m\u001b[0;34m\u001b[0m\u001b[0;34m\u001b[0m\u001b[0m\n",
      "\u001b[0;31mFileNotFoundError\u001b[0m: [Errno 2] No such file or directory: 'testing...txt'"
     ]
    }
   ],
   "source": [
    "f = open('testing...txt')\n",
    "f.close()\n",
    "print(\"Success!\")"
   ]
  },
  {
   "cell_type": "code",
   "execution_count": 13,
   "id": "ccd77995",
   "metadata": {},
   "outputs": [
    {
     "name": "stdout",
     "output_type": "stream",
     "text": [
      "Sorry, this file does not exist!\n"
     ]
    }
   ],
   "source": [
    "try:\n",
    "    f = open('test....txt')\n",
    "    print(f.read())\n",
    "    f.close()\n",
    "    print(\"Success!\")\n",
    "except Exception:\n",
    "    print(\"Sorry, this file does not exist!\")"
   ]
  },
  {
   "cell_type": "code",
   "execution_count": null,
   "id": "2ec3a7c4",
   "metadata": {},
   "outputs": [],
   "source": [
    "# more specific try-except\n",
    "try:\n",
    "    f = open('test.txt')\n",
    "    f.close()\n",
    "    print(\"Hello\")\n",
    "except FileNotFoundError:\n",
    "    print(\"File does not exist!\")"
   ]
  },
  {
   "cell_type": "code",
   "execution_count": 15,
   "id": "e0cbd661",
   "metadata": {},
   "outputs": [
    {
     "name": "stdout",
     "output_type": "stream",
     "text": [
      "[Errno 2] No such file or directory: 'test....txt'\n"
     ]
    }
   ],
   "source": [
    "# general error printing\n",
    "try:\n",
    "#     jkjkjk\n",
    "    f = open('test....txt')\n",
    "    jfkdjf\n",
    "    f.close()\n",
    "except Exception as e:\n",
    "    print(e)"
   ]
  },
  {
   "cell_type": "code",
   "execution_count": 16,
   "id": "cf98d073",
   "metadata": {},
   "outputs": [
    {
     "name": "stdout",
     "output_type": "stream",
     "text": [
      "Sorry, this file does not exist!\n",
      "Executing Finally...\n"
     ]
    }
   ],
   "source": [
    "try:\n",
    "    f = open('test...txt')\n",
    "    num = 10/0\n",
    "except ZeroDivisionError:\n",
    "    print('Cannot divide by 0!!')\n",
    "except FileNotFoundError:\n",
    "    print(\"Sorry, this file does not exist!\")\n",
    "except Exception as e:\n",
    "    print(e)\n",
    "else:\n",
    "    print(f.read())\n",
    "    f.close()\n",
    "finally:\n",
    "    print(\"Executing Finally...\")"
   ]
  },
  {
   "cell_type": "code",
   "execution_count": null,
   "id": "b4c5cc12",
   "metadata": {},
   "outputs": [],
   "source": [
    "try:\n",
    "    f = open('file1.txt')\n",
    "    if f.name == 'file1.txt':\n",
    "        print(f.read())\n",
    "        raise Exception\n",
    "except Exception as e:\n",
    "    print(\"Error!\")\n",
    "finally:\n",
    "    f.close()"
   ]
  },
  {
   "cell_type": "markdown",
   "id": "e5cc5d42",
   "metadata": {},
   "source": [
    "# Pandas"
   ]
  },
  {
   "cell_type": "code",
   "execution_count": 1,
   "id": "c935ad9e",
   "metadata": {},
   "outputs": [
    {
     "data": {
      "text/html": [
       "<div>\n",
       "<style scoped>\n",
       "    .dataframe tbody tr th:only-of-type {\n",
       "        vertical-align: middle;\n",
       "    }\n",
       "\n",
       "    .dataframe tbody tr th {\n",
       "        vertical-align: top;\n",
       "    }\n",
       "\n",
       "    .dataframe thead th {\n",
       "        text-align: right;\n",
       "    }\n",
       "</style>\n",
       "<table border=\"1\" class=\"dataframe\">\n",
       "  <thead>\n",
       "    <tr style=\"text-align: right;\">\n",
       "      <th></th>\n",
       "      <th>#</th>\n",
       "      <th>Name</th>\n",
       "      <th>Type 1</th>\n",
       "      <th>Type 2</th>\n",
       "      <th>HP</th>\n",
       "      <th>Attack</th>\n",
       "      <th>Defense</th>\n",
       "      <th>Sp. Atk</th>\n",
       "      <th>Sp. Def</th>\n",
       "      <th>Speed</th>\n",
       "      <th>Generation</th>\n",
       "      <th>Legendary</th>\n",
       "    </tr>\n",
       "  </thead>\n",
       "  <tbody>\n",
       "    <tr>\n",
       "      <th>0</th>\n",
       "      <td>1</td>\n",
       "      <td>Bulbasaur</td>\n",
       "      <td>Grass</td>\n",
       "      <td>Poison</td>\n",
       "      <td>45</td>\n",
       "      <td>49</td>\n",
       "      <td>49</td>\n",
       "      <td>65</td>\n",
       "      <td>65</td>\n",
       "      <td>45</td>\n",
       "      <td>1</td>\n",
       "      <td>False</td>\n",
       "    </tr>\n",
       "    <tr>\n",
       "      <th>1</th>\n",
       "      <td>2</td>\n",
       "      <td>Ivysaur</td>\n",
       "      <td>Grass</td>\n",
       "      <td>Poison</td>\n",
       "      <td>60</td>\n",
       "      <td>62</td>\n",
       "      <td>63</td>\n",
       "      <td>80</td>\n",
       "      <td>80</td>\n",
       "      <td>60</td>\n",
       "      <td>1</td>\n",
       "      <td>False</td>\n",
       "    </tr>\n",
       "    <tr>\n",
       "      <th>2</th>\n",
       "      <td>3</td>\n",
       "      <td>Venusaur</td>\n",
       "      <td>Grass</td>\n",
       "      <td>Poison</td>\n",
       "      <td>80</td>\n",
       "      <td>82</td>\n",
       "      <td>83</td>\n",
       "      <td>100</td>\n",
       "      <td>100</td>\n",
       "      <td>80</td>\n",
       "      <td>1</td>\n",
       "      <td>False</td>\n",
       "    </tr>\n",
       "    <tr>\n",
       "      <th>3</th>\n",
       "      <td>3</td>\n",
       "      <td>VenusaurMega Venusaur</td>\n",
       "      <td>Grass</td>\n",
       "      <td>Poison</td>\n",
       "      <td>80</td>\n",
       "      <td>100</td>\n",
       "      <td>123</td>\n",
       "      <td>122</td>\n",
       "      <td>120</td>\n",
       "      <td>80</td>\n",
       "      <td>1</td>\n",
       "      <td>False</td>\n",
       "    </tr>\n",
       "    <tr>\n",
       "      <th>4</th>\n",
       "      <td>4</td>\n",
       "      <td>Charmander</td>\n",
       "      <td>Fire</td>\n",
       "      <td>NaN</td>\n",
       "      <td>39</td>\n",
       "      <td>52</td>\n",
       "      <td>43</td>\n",
       "      <td>60</td>\n",
       "      <td>50</td>\n",
       "      <td>65</td>\n",
       "      <td>1</td>\n",
       "      <td>False</td>\n",
       "    </tr>\n",
       "  </tbody>\n",
       "</table>\n",
       "</div>"
      ],
      "text/plain": [
       "   #                   Name Type 1  Type 2  HP  Attack  Defense  Sp. Atk  \\\n",
       "0  1              Bulbasaur  Grass  Poison  45      49       49       65   \n",
       "1  2                Ivysaur  Grass  Poison  60      62       63       80   \n",
       "2  3               Venusaur  Grass  Poison  80      82       83      100   \n",
       "3  3  VenusaurMega Venusaur  Grass  Poison  80     100      123      122   \n",
       "4  4             Charmander   Fire     NaN  39      52       43       60   \n",
       "\n",
       "   Sp. Def  Speed  Generation  Legendary  \n",
       "0       65     45           1      False  \n",
       "1       80     60           1      False  \n",
       "2      100     80           1      False  \n",
       "3      120     80           1      False  \n",
       "4       50     65           1      False  "
      ]
     },
     "execution_count": 1,
     "metadata": {},
     "output_type": "execute_result"
    }
   ],
   "source": [
    "# flixibility of Python, Excel is limitted\n",
    "# Working with large amount of data\n",
    "# We load data on a dataframe\n",
    "\n",
    "import pandas as pd\n",
    "\n",
    "pokemon = pd.read_csv('pokemon_data.csv')\n",
    "pokemon.head(5)"
   ]
  },
  {
   "cell_type": "code",
   "execution_count": 2,
   "id": "3fef86c3",
   "metadata": {},
   "outputs": [
    {
     "data": {
      "text/html": [
       "<div>\n",
       "<style scoped>\n",
       "    .dataframe tbody tr th:only-of-type {\n",
       "        vertical-align: middle;\n",
       "    }\n",
       "\n",
       "    .dataframe tbody tr th {\n",
       "        vertical-align: top;\n",
       "    }\n",
       "\n",
       "    .dataframe thead th {\n",
       "        text-align: right;\n",
       "    }\n",
       "</style>\n",
       "<table border=\"1\" class=\"dataframe\">\n",
       "  <thead>\n",
       "    <tr style=\"text-align: right;\">\n",
       "      <th></th>\n",
       "      <th>#</th>\n",
       "      <th>Name</th>\n",
       "      <th>Type 1</th>\n",
       "      <th>Type 2</th>\n",
       "      <th>HP</th>\n",
       "      <th>Attack</th>\n",
       "      <th>Defense</th>\n",
       "      <th>Sp. Atk</th>\n",
       "      <th>Sp. Def</th>\n",
       "      <th>Speed</th>\n",
       "      <th>Generation</th>\n",
       "      <th>Legendary</th>\n",
       "    </tr>\n",
       "  </thead>\n",
       "  <tbody>\n",
       "    <tr>\n",
       "      <th>795</th>\n",
       "      <td>719</td>\n",
       "      <td>Diancie</td>\n",
       "      <td>Rock</td>\n",
       "      <td>Fairy</td>\n",
       "      <td>50</td>\n",
       "      <td>100</td>\n",
       "      <td>150</td>\n",
       "      <td>100</td>\n",
       "      <td>150</td>\n",
       "      <td>50</td>\n",
       "      <td>6</td>\n",
       "      <td>True</td>\n",
       "    </tr>\n",
       "    <tr>\n",
       "      <th>796</th>\n",
       "      <td>719</td>\n",
       "      <td>DiancieMega Diancie</td>\n",
       "      <td>Rock</td>\n",
       "      <td>Fairy</td>\n",
       "      <td>50</td>\n",
       "      <td>160</td>\n",
       "      <td>110</td>\n",
       "      <td>160</td>\n",
       "      <td>110</td>\n",
       "      <td>110</td>\n",
       "      <td>6</td>\n",
       "      <td>True</td>\n",
       "    </tr>\n",
       "    <tr>\n",
       "      <th>797</th>\n",
       "      <td>720</td>\n",
       "      <td>HoopaHoopa Confined</td>\n",
       "      <td>Psychic</td>\n",
       "      <td>Ghost</td>\n",
       "      <td>80</td>\n",
       "      <td>110</td>\n",
       "      <td>60</td>\n",
       "      <td>150</td>\n",
       "      <td>130</td>\n",
       "      <td>70</td>\n",
       "      <td>6</td>\n",
       "      <td>True</td>\n",
       "    </tr>\n",
       "    <tr>\n",
       "      <th>798</th>\n",
       "      <td>720</td>\n",
       "      <td>HoopaHoopa Unbound</td>\n",
       "      <td>Psychic</td>\n",
       "      <td>Dark</td>\n",
       "      <td>80</td>\n",
       "      <td>160</td>\n",
       "      <td>60</td>\n",
       "      <td>170</td>\n",
       "      <td>130</td>\n",
       "      <td>80</td>\n",
       "      <td>6</td>\n",
       "      <td>True</td>\n",
       "    </tr>\n",
       "    <tr>\n",
       "      <th>799</th>\n",
       "      <td>721</td>\n",
       "      <td>Volcanion</td>\n",
       "      <td>Fire</td>\n",
       "      <td>Water</td>\n",
       "      <td>80</td>\n",
       "      <td>110</td>\n",
       "      <td>120</td>\n",
       "      <td>130</td>\n",
       "      <td>90</td>\n",
       "      <td>70</td>\n",
       "      <td>6</td>\n",
       "      <td>True</td>\n",
       "    </tr>\n",
       "  </tbody>\n",
       "</table>\n",
       "</div>"
      ],
      "text/plain": [
       "       #                 Name   Type 1 Type 2  HP  Attack  Defense  Sp. Atk  \\\n",
       "795  719              Diancie     Rock  Fairy  50     100      150      100   \n",
       "796  719  DiancieMega Diancie     Rock  Fairy  50     160      110      160   \n",
       "797  720  HoopaHoopa Confined  Psychic  Ghost  80     110       60      150   \n",
       "798  720   HoopaHoopa Unbound  Psychic   Dark  80     160       60      170   \n",
       "799  721            Volcanion     Fire  Water  80     110      120      130   \n",
       "\n",
       "     Sp. Def  Speed  Generation  Legendary  \n",
       "795      150     50           6       True  \n",
       "796      110    110           6       True  \n",
       "797      130     70           6       True  \n",
       "798      130     80           6       True  \n",
       "799       90     70           6       True  "
      ]
     },
     "execution_count": 2,
     "metadata": {},
     "output_type": "execute_result"
    }
   ],
   "source": [
    "pokemon.tail(5)"
   ]
  },
  {
   "cell_type": "code",
   "execution_count": null,
   "id": "6e00cd44",
   "metadata": {},
   "outputs": [],
   "source": [
    "# print the columns\n",
    "print(pokemon.columns)\n",
    "\n",
    "# read a column\n",
    "print(pokemon['Name'])\n",
    "print(pokemon['Name'][0:5])\n",
    "\n",
    "# read multiple columns\n",
    "print(pokemon[['Name', 'HP', 'Attack']])\n",
    "print(pokemon[['Name', 'HP', 'Attack']][0:5])"
   ]
  },
  {
   "cell_type": "code",
   "execution_count": null,
   "id": "a9807638",
   "metadata": {},
   "outputs": [],
   "source": [
    "# # Read one row\n",
    "print(pokemon.iloc[0])\n",
    "\n",
    "# # Read multiple rows\n",
    "print(pokemon.iloc[1:5])\n",
    "\n",
    "# # access a location (R, C)\n",
    "print(pokemon.iloc[2, 1])"
   ]
  },
  {
   "cell_type": "code",
   "execution_count": null,
   "id": "ee0f7091",
   "metadata": {
    "scrolled": false
   },
   "outputs": [],
   "source": [
    "# iterate through all rows of the dataframe\n",
    "for index, row in pokemon.iterrows():\n",
    "    print(index, row)"
   ]
  },
  {
   "cell_type": "code",
   "execution_count": null,
   "id": "4923f6fa",
   "metadata": {},
   "outputs": [],
   "source": [
    "# iterate through all rows of the dataframe for a specific column\n",
    "for index, row in pokemon.iterrows():\n",
    "    print(index, row['Name'])"
   ]
  },
  {
   "cell_type": "code",
   "execution_count": null,
   "id": "8176427f",
   "metadata": {},
   "outputs": [],
   "source": [
    "# find rows with values\n",
    "pokemon.loc[pokemon['Defense'] > 200]"
   ]
  },
  {
   "cell_type": "code",
   "execution_count": null,
   "id": "74208d70",
   "metadata": {},
   "outputs": [],
   "source": [
    "pokemon.info()"
   ]
  },
  {
   "cell_type": "code",
   "execution_count": null,
   "id": "c1c9d5ae",
   "metadata": {},
   "outputs": [],
   "source": [
    "# Describing datafram\n",
    "pokemon.describe()"
   ]
  },
  {
   "cell_type": "code",
   "execution_count": null,
   "id": "fbf603ab",
   "metadata": {},
   "outputs": [],
   "source": [
    "# # sorting the values\n",
    "# pokemon.sort_values('Name')\n",
    "\n",
    "# # sort decending\n",
    "# pokemon.sort_values('Name', ascending = False)\n",
    "\n",
    "# # sort by multiple columns \n",
    "# pokemon.sort_values(['Name', 'Defense'])\n",
    "\n",
    "# sort descending - multiple columns \n",
    "pokemon.sort_values(['Attack', 'HP'], ascending = [False, True])"
   ]
  },
  {
   "cell_type": "code",
   "execution_count": null,
   "id": "e25d10e6",
   "metadata": {},
   "outputs": [],
   "source": [
    "# add a new column\n",
    "pokemon['Total'] = pokemon['HP'] + pokemon['Attack'] + pokemon['Defense'] + pokemon['Speed']"
   ]
  },
  {
   "cell_type": "code",
   "execution_count": null,
   "id": "a5c16e6d",
   "metadata": {},
   "outputs": [],
   "source": [
    "pokemon.head(5)"
   ]
  },
  {
   "cell_type": "code",
   "execution_count": null,
   "id": "1c8d7aaa",
   "metadata": {},
   "outputs": [],
   "source": [
    "# remove a column\n",
    "pokemon = pokemon.drop(columns = 'Total')\n",
    "pokemon.head(5)"
   ]
  },
  {
   "cell_type": "code",
   "execution_count": null,
   "id": "18f42d0b",
   "metadata": {},
   "outputs": [],
   "source": [
    "# Add a new column in a different way\n",
    "pokemon['Total'] = pokemon.iloc[:, 4:10].sum(axis = 1) # horizontal addition, 0 for rows\n",
    "pokemon.head(5)"
   ]
  },
  {
   "cell_type": "code",
   "execution_count": null,
   "id": "1838fb8d",
   "metadata": {},
   "outputs": [],
   "source": [
    "# ordering the columns\n",
    "\n",
    "columns = list(pokemon.columns.values)\n",
    "print(columns)\n",
    "pokemon = pokemon[columns[0:4] + [columns[-1]] + columns[4:12]]\n",
    "pokemon.head(5)"
   ]
  },
  {
   "cell_type": "code",
   "execution_count": null,
   "id": "2ea9a551",
   "metadata": {},
   "outputs": [],
   "source": [
    "# # Save file as csv\n",
    "# pokemon.to_csv('changed.csv')\n",
    "# do not include the index column\n",
    "# pokemon.to_csv('changed2.csv', index = False)\n",
    "# pokemon.to_csv('changed2.csv', index = False, sep='\\t')"
   ]
  },
  {
   "cell_type": "code",
   "execution_count": null,
   "id": "74ea181e",
   "metadata": {},
   "outputs": [],
   "source": [
    "# Filtering data\n",
    "pokemon.loc[(pokemon['Type 1'] == 'Grass') & (pokemon['Type 2'] == 'Poison') & (pokemon['HP'] > 70)]"
   ]
  },
  {
   "cell_type": "code",
   "execution_count": null,
   "id": "9cf31fcf",
   "metadata": {},
   "outputs": [],
   "source": [
    "new = pokemon.loc[(pokemon['Type 1'] == 'Grass') & (pokemon['Type 2'] == 'Poison') & (pokemon['HP'] > 70)]\n",
    "new"
   ]
  },
  {
   "cell_type": "code",
   "execution_count": null,
   "id": "ab5db48c",
   "metadata": {},
   "outputs": [],
   "source": [
    "new = new.reset_index()\n",
    "new"
   ]
  },
  {
   "cell_type": "code",
   "execution_count": null,
   "id": "989e33ab",
   "metadata": {},
   "outputs": [],
   "source": [
    "new = new.reset_index(drop = True)\n",
    "new\n",
    "# new.reset_index(drop = True, inplace = True)\n",
    "# new"
   ]
  },
  {
   "cell_type": "code",
   "execution_count": null,
   "id": "190f7683",
   "metadata": {},
   "outputs": [],
   "source": [
    "pokemon.loc[pokemon['Name'].str.contains('Mega')]"
   ]
  },
  {
   "cell_type": "code",
   "execution_count": null,
   "id": "0434ad09",
   "metadata": {},
   "outputs": [],
   "source": [
    "pokemon.loc[~pokemon['Name'].str.contains('Mega')]"
   ]
  },
  {
   "cell_type": "code",
   "execution_count": null,
   "id": "53df8fb6",
   "metadata": {},
   "outputs": [],
   "source": [
    "import re\n",
    "\n",
    "df = pokemon\n",
    "df.loc[df['Type 1'].str.contains('fire|grass', flags = re.I, regex = True)]"
   ]
  },
  {
   "cell_type": "code",
   "execution_count": null,
   "id": "f522d7eb",
   "metadata": {},
   "outputs": [],
   "source": [
    "# '^pidg[a-z]$' --> just one alphabet\n",
    "# '^pidg[a-z]{2}$' --> exactly 2 alphabets\n",
    "\n",
    "df.loc[df['Name'].str.contains('^pidg[a-z]*', flags = re.I, regex = True)]"
   ]
  },
  {
   "cell_type": "code",
   "execution_count": null,
   "id": "6e6d4e1b",
   "metadata": {},
   "outputs": [],
   "source": [
    "# conditional changes\n",
    "\n",
    "df.loc[df['Type 1'] == 'Fire', 'Type 1'] = 'Flamer'\n",
    "df"
   ]
  },
  {
   "cell_type": "code",
   "execution_count": null,
   "id": "a5ae2231",
   "metadata": {},
   "outputs": [],
   "source": [
    "df.loc[df['Type 1'] == 'Flamer', 'Type 1'] = 'Fire'\n",
    "df.loc[df['Type 1'] == 'Fire', 'Legendary'] = True\n",
    "df"
   ]
  },
  {
   "cell_type": "code",
   "execution_count": null,
   "id": "f1d1f56d",
   "metadata": {},
   "outputs": [],
   "source": [
    "df.loc[df['Total'] > 500, ['Generation', 'Legendary']] = ['TEST 1','TEST 2']\n",
    "df.head(20)"
   ]
  },
  {
   "cell_type": "code",
   "execution_count": null,
   "id": "155e36d5",
   "metadata": {},
   "outputs": [],
   "source": [
    "df.groupby(['Type 2']).mean().sort_values('Defense', ascending = True)\n",
    "print(sorted(df['Type 1'].unique()))\n",
    "print(sorted(df['Type 2'].dropna().unique()))"
   ]
  },
  {
   "cell_type": "code",
   "execution_count": null,
   "id": "aff690d8",
   "metadata": {},
   "outputs": [],
   "source": [
    "def read_data():\n",
    "    pokemon = pd.read_csv('pokemon_data.csv')\n",
    "    return pokemon\n",
    "df = read_data()\n",
    "df['Types'] = df['Type 1'] + \" & \" + df['Type 2']\n",
    "df.groupby(['Types']).sum()"
   ]
  },
  {
   "cell_type": "code",
   "execution_count": null,
   "id": "52d651e0",
   "metadata": {},
   "outputs": [],
   "source": [
    "df['count'] = 1\n",
    "df.groupby(['Type 2']).sum()['count']"
   ]
  },
  {
   "cell_type": "code",
   "execution_count": null,
   "id": "de74f8c9",
   "metadata": {},
   "outputs": [],
   "source": [
    "pd.set_option('display.max_rows', None)\n",
    "pd.set_option('display.max_columns', None)\n",
    "\n",
    "df.groupby(['Type 1', 'Type 2']).sum()['count']"
   ]
  },
  {
   "cell_type": "code",
   "execution_count": null,
   "id": "675b6d93",
   "metadata": {},
   "outputs": [],
   "source": [
    "df.groupby('Type 1')['HP'].median()"
   ]
  },
  {
   "cell_type": "code",
   "execution_count": null,
   "id": "1bf4f995",
   "metadata": {},
   "outputs": [],
   "source": [
    "import numpy as np\n",
    "df.groupby('Type 1')['HP'].aggregate(['min', np.median, max, np.std])"
   ]
  },
  {
   "cell_type": "code",
   "execution_count": null,
   "id": "5ee2497a",
   "metadata": {},
   "outputs": [],
   "source": [
    "df.groupby('Types').aggregate({'HP': 'min', 'Attack': 'max', 'Defense': 'median'})"
   ]
  },
  {
   "cell_type": "code",
   "execution_count": null,
   "id": "3906a891",
   "metadata": {},
   "outputs": [],
   "source": [
    "df.groupby('Type 1')[['HP', 'Attack', 'Defense']].std()\n",
    "# df.info()"
   ]
  },
  {
   "cell_type": "code",
   "execution_count": null,
   "id": "00ef1be0",
   "metadata": {},
   "outputs": [],
   "source": [
    "def filter_func(x):\n",
    "    return x['HP'].std() > 20"
   ]
  },
  {
   "cell_type": "code",
   "execution_count": null,
   "id": "a59f49d1",
   "metadata": {},
   "outputs": [],
   "source": [
    "df2 = df.groupby('Type 1')[['Type 1', 'HP', 'Attack', 'Defense']].filter(filter_func).reset_index(drop =True).set_index('Type 1')\n",
    "df2"
   ]
  },
  {
   "cell_type": "code",
   "execution_count": null,
   "id": "e783ee01",
   "metadata": {},
   "outputs": [],
   "source": [
    "df3 = {'key': ['A', 'B', 'C', 'A', 'C'], 'data1': [0, 1, 2, 3, 4], 'data2': [5, 6, 7, 8, 9] }\n",
    "df3 = pd.DataFrame(df3)\n",
    "df3"
   ]
  },
  {
   "cell_type": "code",
   "execution_count": null,
   "id": "7e6777ae",
   "metadata": {},
   "outputs": [],
   "source": [
    "df3.groupby('key').mean()"
   ]
  },
  {
   "cell_type": "code",
   "execution_count": null,
   "id": "1c7d67a2",
   "metadata": {},
   "outputs": [],
   "source": [
    "\n",
    "# key\tdata1\tdata2\n",
    "# \tA\t0\t5\n",
    "# \tB\t1\t6\n",
    "# \tC\t2\t7\n",
    "# \tA\t3\t8\n",
    "# \tC\t4\t9\n",
    "\n",
    "def fnc(x):\n",
    "#     print(x['data1'].mean())\n",
    "    return x['data1'].mean() >= 2\n",
    "\n",
    "df3.groupby('key').filter(fnc).reset_index()"
   ]
  },
  {
   "cell_type": "code",
   "execution_count": null,
   "id": "1e89c054",
   "metadata": {},
   "outputs": [],
   "source": [
    "df.groupby('Type 1')['HP'].transform(lambda x: x - x.mean())"
   ]
  },
  {
   "cell_type": "code",
   "execution_count": null,
   "id": "60684056",
   "metadata": {},
   "outputs": [],
   "source": [
    "# let you apply arbitrary functon to the group result\n",
    "def norm_by_data(x):\n",
    "    x['Attack'] /= x['HP'].sum()\n",
    "    return x\n",
    "\n",
    "df.groupby('Type 1')[['HP', 'Attack']].apply(norm_by_data)"
   ]
  },
  {
   "cell_type": "code",
   "execution_count": null,
   "id": "9bdef301",
   "metadata": {},
   "outputs": [],
   "source": [
    "# creating your own split\n",
    "import random\n",
    "lst = []\n",
    "for i in range(len(df)):\n",
    "    lst.append(random.randint(0, 3))\n",
    "print(lst)\n",
    "df.groupby(lst).sum()"
   ]
  },
  {
   "cell_type": "code",
   "execution_count": null,
   "id": "00ce3b41",
   "metadata": {},
   "outputs": [],
   "source": [
    "# pass any Python function that will input the index value and output the group\n",
    "df2 = df.set_index('Type 1')\n",
    "df2"
   ]
  },
  {
   "cell_type": "code",
   "execution_count": null,
   "id": "be993565",
   "metadata": {},
   "outputs": [],
   "source": [
    "df2.groupby(str.lower).mean()"
   ]
  },
  {
   "cell_type": "code",
   "execution_count": null,
   "id": "0ea57256",
   "metadata": {},
   "outputs": [],
   "source": [
    "# use def read_data(): to read the csv"
   ]
  },
  {
   "cell_type": "markdown",
   "id": "b03565b5",
   "metadata": {},
   "source": [
    "### Lamda function in Python"
   ]
  },
  {
   "cell_type": "code",
   "execution_count": null,
   "id": "a19677e0",
   "metadata": {},
   "outputs": [],
   "source": [
    "# function without `def`\n",
    "# anything after the `lambda` keyword is treated as an argument\n",
    "add = lambda a, b: a + b\n",
    "print(add(3, 8))\n",
    "\n",
    "def add2(a = 4 , b = 2):\n",
    "    return a + b\n",
    "print(add2())"
   ]
  },
  {
   "cell_type": "code",
   "execution_count": null,
   "id": "b5902f0c",
   "metadata": {},
   "outputs": [],
   "source": [
    "add = lambda a: a + 5\n",
    "add(10)"
   ]
  },
  {
   "cell_type": "code",
   "execution_count": null,
   "id": "dec30dd6",
   "metadata": {},
   "outputs": [],
   "source": [
    "# lambda without assigning it to a variable\n",
    "# Immediately Envoked Function Expression\n",
    "(lambda a, b: a * b)(3, 5)"
   ]
  },
  {
   "cell_type": "code",
   "execution_count": null,
   "id": "3fa8eee1",
   "metadata": {},
   "outputs": [],
   "source": [
    "product = lambda x, y, z = 7: x * y * z\n",
    "print(product(z = 5, x = 1, y = 1))"
   ]
  },
  {
   "cell_type": "code",
   "execution_count": null,
   "id": "38ef81f0",
   "metadata": {},
   "outputs": [],
   "source": [
    "add = lambda x, y = 15, z = 1: x + y + z\n",
    "print(add(1))"
   ]
  },
  {
   "cell_type": "code",
   "execution_count": null,
   "id": "9b6343b6",
   "metadata": {},
   "outputs": [],
   "source": [
    "add = lambda *args: sum(args)\n",
    "print(add(1, 2, 3, 4, 5, 6))"
   ]
  },
  {
   "cell_type": "code",
   "execution_count": null,
   "id": "097e25e0",
   "metadata": {},
   "outputs": [],
   "source": [
    "higher_ord = lambda x, fun: x + fun(x)\n",
    "higher_ord(5, lambda x: x * x)"
   ]
  },
  {
   "cell_type": "code",
   "execution_count": null,
   "id": "5a9e46bb",
   "metadata": {},
   "outputs": [],
   "source": [
    "print(12 % 5)"
   ]
  },
  {
   "cell_type": "code",
   "execution_count": null,
   "id": "7745375d",
   "metadata": {},
   "outputs": [],
   "source": [
    "(lambda x : (x % 2) and 'odd' or 'even')(12)\n",
    "# 1 and 'odd' or 'even' -> 'odd'\n",
    "# 0 and 'odd' or 'even' -> 'even'"
   ]
  },
  {
   "cell_type": "code",
   "execution_count": null,
   "id": "61bed1d9",
   "metadata": {},
   "outputs": [],
   "source": [
    "sub_string = lambda string : string in \"Python Lessons\" \n",
    "sub_string(\"java\")"
   ]
  },
  {
   "cell_type": "code",
   "execution_count": null,
   "id": "431e157e",
   "metadata": {},
   "outputs": [],
   "source": [
    "nums = [10, 40, 80, 160, 240, 400]\n",
    "greater = list(filter(lambda num: num > 80, nums))\n",
    "print(greater)"
   ]
  },
  {
   "cell_type": "code",
   "execution_count": null,
   "id": "ce784927",
   "metadata": {},
   "outputs": [],
   "source": [
    "nums = [2, 4, 6, 8, 16, 32, 64, 128, 256]\n",
    "divide = list(filter(lambda x : (x%4 == 0), nums))\n",
    "print(divide)"
   ]
  },
  {
   "cell_type": "code",
   "execution_count": null,
   "id": "8f74d3fd",
   "metadata": {},
   "outputs": [],
   "source": [
    "nums = [2, 4, 6, 8, 16, 32, 64, 128, 256]\n",
    "double = list(map(lambda x: x * 2, nums))\n",
    "print(double)"
   ]
  },
  {
   "cell_type": "code",
   "execution_count": null,
   "id": "0ba8c4a8",
   "metadata": {},
   "outputs": [],
   "source": [
    "nums = [1, 2, 3, 4, 5]\n",
    "cube = list(map(lambda x : pow(x, 3), nums))\n",
    "print(cube)"
   ]
  },
  {
   "cell_type": "code",
   "execution_count": null,
   "id": "176b0b3c",
   "metadata": {},
   "outputs": [],
   "source": [
    "from functools import reduce\n",
    "nums = [1, 2, 3]\n",
    "summ = reduce((lambda x, y: x / y), nums)\n",
    "print(summ)"
   ]
  },
  {
   "cell_type": "code",
   "execution_count": null,
   "id": "3f650404",
   "metadata": {},
   "outputs": [],
   "source": [
    "def quadratic(a, b, c):\n",
    "    return lambda x: a*x**2 + b*x + c\n",
    "    # lambda x: 2*x**2 + 3*x + 5\n",
    "f = quadratic(2, 3, 5) #lambda x: 2*x**2 + 3*x + 5\n",
    "print(f(1))\n",
    "print(f(2))\n",
    "print(f(3))\n",
    "f = quadratic(3, 5, 7) #lambda x: 2*x**2 + 3*x + 5\n",
    "print(f(1))\n",
    "print(f(2))\n",
    "print(f(3))"
   ]
  },
  {
   "cell_type": "markdown",
   "id": "6c2b5c54",
   "metadata": {},
   "source": [
    "# Merge (join), Concat / Append in Pandas"
   ]
  },
  {
   "cell_type": "code",
   "execution_count": 1,
   "id": "33ea93d0",
   "metadata": {},
   "outputs": [
    {
     "name": "stdout",
     "output_type": "stream",
     "text": [
      "   col1  col2\n",
      "0     1     4\n",
      "1     2     5\n",
      "2     3     6\n",
      "   col1  col2\n",
      "0     4     7\n",
      "1     5     8\n",
      "2     6     9\n",
      "   col3  col4\n",
      "0     1     4\n",
      "1     1     4\n",
      "2     2     6\n"
     ]
    }
   ],
   "source": [
    "import pandas as pd\n",
    "\n",
    "table1 = pd.DataFrame(data = {'col1': [1, 2, 3], 'col2': [4, 5, 6]})\n",
    "table2 = pd.DataFrame(data = {'col1': [4, 5, 6], 'col2': [7, 8, 9]})\n",
    "table3 = pd.DataFrame(data = {'col3': [1, 1, 2], 'col4': [4, 4, 6]})\n",
    "print(table1)\n",
    "print(table2)\n",
    "print(table3)"
   ]
  },
  {
   "cell_type": "code",
   "execution_count": 2,
   "id": "0401214c",
   "metadata": {},
   "outputs": [
    {
     "data": {
      "text/html": [
       "<div>\n",
       "<style scoped>\n",
       "    .dataframe tbody tr th:only-of-type {\n",
       "        vertical-align: middle;\n",
       "    }\n",
       "\n",
       "    .dataframe tbody tr th {\n",
       "        vertical-align: top;\n",
       "    }\n",
       "\n",
       "    .dataframe thead th {\n",
       "        text-align: right;\n",
       "    }\n",
       "</style>\n",
       "<table border=\"1\" class=\"dataframe\">\n",
       "  <thead>\n",
       "    <tr style=\"text-align: right;\">\n",
       "      <th></th>\n",
       "      <th>col1</th>\n",
       "      <th>col2</th>\n",
       "    </tr>\n",
       "  </thead>\n",
       "  <tbody>\n",
       "    <tr>\n",
       "      <th>0</th>\n",
       "      <td>1</td>\n",
       "      <td>4</td>\n",
       "    </tr>\n",
       "    <tr>\n",
       "      <th>1</th>\n",
       "      <td>2</td>\n",
       "      <td>5</td>\n",
       "    </tr>\n",
       "    <tr>\n",
       "      <th>2</th>\n",
       "      <td>3</td>\n",
       "      <td>6</td>\n",
       "    </tr>\n",
       "    <tr>\n",
       "      <th>0</th>\n",
       "      <td>4</td>\n",
       "      <td>7</td>\n",
       "    </tr>\n",
       "    <tr>\n",
       "      <th>1</th>\n",
       "      <td>5</td>\n",
       "      <td>8</td>\n",
       "    </tr>\n",
       "    <tr>\n",
       "      <th>2</th>\n",
       "      <td>6</td>\n",
       "      <td>9</td>\n",
       "    </tr>\n",
       "  </tbody>\n",
       "</table>\n",
       "</div>"
      ],
      "text/plain": [
       "   col1  col2\n",
       "0     1     4\n",
       "1     2     5\n",
       "2     3     6\n",
       "0     4     7\n",
       "1     5     8\n",
       "2     6     9"
      ]
     },
     "execution_count": 2,
     "metadata": {},
     "output_type": "execute_result"
    }
   ],
   "source": [
    "pd.concat([table1, table2])"
   ]
  },
  {
   "cell_type": "code",
   "execution_count": 3,
   "id": "223fddc9",
   "metadata": {},
   "outputs": [
    {
     "data": {
      "text/html": [
       "<div>\n",
       "<style scoped>\n",
       "    .dataframe tbody tr th:only-of-type {\n",
       "        vertical-align: middle;\n",
       "    }\n",
       "\n",
       "    .dataframe tbody tr th {\n",
       "        vertical-align: top;\n",
       "    }\n",
       "\n",
       "    .dataframe thead th {\n",
       "        text-align: right;\n",
       "    }\n",
       "</style>\n",
       "<table border=\"1\" class=\"dataframe\">\n",
       "  <thead>\n",
       "    <tr style=\"text-align: right;\">\n",
       "      <th></th>\n",
       "      <th>col1</th>\n",
       "      <th>col2</th>\n",
       "    </tr>\n",
       "  </thead>\n",
       "  <tbody>\n",
       "    <tr>\n",
       "      <th>0</th>\n",
       "      <td>1</td>\n",
       "      <td>4</td>\n",
       "    </tr>\n",
       "    <tr>\n",
       "      <th>1</th>\n",
       "      <td>2</td>\n",
       "      <td>5</td>\n",
       "    </tr>\n",
       "    <tr>\n",
       "      <th>2</th>\n",
       "      <td>3</td>\n",
       "      <td>6</td>\n",
       "    </tr>\n",
       "    <tr>\n",
       "      <th>0</th>\n",
       "      <td>4</td>\n",
       "      <td>7</td>\n",
       "    </tr>\n",
       "    <tr>\n",
       "      <th>1</th>\n",
       "      <td>5</td>\n",
       "      <td>8</td>\n",
       "    </tr>\n",
       "    <tr>\n",
       "      <th>2</th>\n",
       "      <td>6</td>\n",
       "      <td>9</td>\n",
       "    </tr>\n",
       "  </tbody>\n",
       "</table>\n",
       "</div>"
      ],
      "text/plain": [
       "   col1  col2\n",
       "0     1     4\n",
       "1     2     5\n",
       "2     3     6\n",
       "0     4     7\n",
       "1     5     8\n",
       "2     6     9"
      ]
     },
     "execution_count": 3,
     "metadata": {},
     "output_type": "execute_result"
    }
   ],
   "source": [
    "table1.append(table2)"
   ]
  },
  {
   "cell_type": "code",
   "execution_count": 4,
   "id": "7393c933",
   "metadata": {},
   "outputs": [
    {
     "data": {
      "text/html": [
       "<div>\n",
       "<style scoped>\n",
       "    .dataframe tbody tr th:only-of-type {\n",
       "        vertical-align: middle;\n",
       "    }\n",
       "\n",
       "    .dataframe tbody tr th {\n",
       "        vertical-align: top;\n",
       "    }\n",
       "\n",
       "    .dataframe thead th {\n",
       "        text-align: right;\n",
       "    }\n",
       "</style>\n",
       "<table border=\"1\" class=\"dataframe\">\n",
       "  <thead>\n",
       "    <tr style=\"text-align: right;\">\n",
       "      <th></th>\n",
       "      <th>col1</th>\n",
       "      <th>col2</th>\n",
       "      <th>col3</th>\n",
       "      <th>col4</th>\n",
       "    </tr>\n",
       "  </thead>\n",
       "  <tbody>\n",
       "    <tr>\n",
       "      <th>0</th>\n",
       "      <td>1.0</td>\n",
       "      <td>4.0</td>\n",
       "      <td>NaN</td>\n",
       "      <td>NaN</td>\n",
       "    </tr>\n",
       "    <tr>\n",
       "      <th>1</th>\n",
       "      <td>2.0</td>\n",
       "      <td>5.0</td>\n",
       "      <td>NaN</td>\n",
       "      <td>NaN</td>\n",
       "    </tr>\n",
       "    <tr>\n",
       "      <th>2</th>\n",
       "      <td>3.0</td>\n",
       "      <td>6.0</td>\n",
       "      <td>NaN</td>\n",
       "      <td>NaN</td>\n",
       "    </tr>\n",
       "    <tr>\n",
       "      <th>0</th>\n",
       "      <td>NaN</td>\n",
       "      <td>NaN</td>\n",
       "      <td>1.0</td>\n",
       "      <td>4.0</td>\n",
       "    </tr>\n",
       "    <tr>\n",
       "      <th>1</th>\n",
       "      <td>NaN</td>\n",
       "      <td>NaN</td>\n",
       "      <td>1.0</td>\n",
       "      <td>4.0</td>\n",
       "    </tr>\n",
       "    <tr>\n",
       "      <th>2</th>\n",
       "      <td>NaN</td>\n",
       "      <td>NaN</td>\n",
       "      <td>2.0</td>\n",
       "      <td>6.0</td>\n",
       "    </tr>\n",
       "  </tbody>\n",
       "</table>\n",
       "</div>"
      ],
      "text/plain": [
       "   col1  col2  col3  col4\n",
       "0   1.0   4.0   NaN   NaN\n",
       "1   2.0   5.0   NaN   NaN\n",
       "2   3.0   6.0   NaN   NaN\n",
       "0   NaN   NaN   1.0   4.0\n",
       "1   NaN   NaN   1.0   4.0\n",
       "2   NaN   NaN   2.0   6.0"
      ]
     },
     "execution_count": 4,
     "metadata": {},
     "output_type": "execute_result"
    }
   ],
   "source": [
    "pd.concat([table1, table3])"
   ]
  },
  {
   "cell_type": "code",
   "execution_count": 5,
   "id": "9673e5df",
   "metadata": {},
   "outputs": [
    {
     "data": {
      "text/html": [
       "<div>\n",
       "<style scoped>\n",
       "    .dataframe tbody tr th:only-of-type {\n",
       "        vertical-align: middle;\n",
       "    }\n",
       "\n",
       "    .dataframe tbody tr th {\n",
       "        vertical-align: top;\n",
       "    }\n",
       "\n",
       "    .dataframe thead th {\n",
       "        text-align: right;\n",
       "    }\n",
       "</style>\n",
       "<table border=\"1\" class=\"dataframe\">\n",
       "  <thead>\n",
       "    <tr style=\"text-align: right;\">\n",
       "      <th></th>\n",
       "      <th>col1</th>\n",
       "      <th>col2</th>\n",
       "      <th>col3</th>\n",
       "      <th>col4</th>\n",
       "    </tr>\n",
       "  </thead>\n",
       "  <tbody>\n",
       "    <tr>\n",
       "      <th>0</th>\n",
       "      <td>1</td>\n",
       "      <td>4</td>\n",
       "      <td>1</td>\n",
       "      <td>4</td>\n",
       "    </tr>\n",
       "    <tr>\n",
       "      <th>1</th>\n",
       "      <td>2</td>\n",
       "      <td>5</td>\n",
       "      <td>1</td>\n",
       "      <td>4</td>\n",
       "    </tr>\n",
       "    <tr>\n",
       "      <th>2</th>\n",
       "      <td>3</td>\n",
       "      <td>6</td>\n",
       "      <td>2</td>\n",
       "      <td>6</td>\n",
       "    </tr>\n",
       "  </tbody>\n",
       "</table>\n",
       "</div>"
      ],
      "text/plain": [
       "   col1  col2  col3  col4\n",
       "0     1     4     1     4\n",
       "1     2     5     1     4\n",
       "2     3     6     2     6"
      ]
     },
     "execution_count": 5,
     "metadata": {},
     "output_type": "execute_result"
    }
   ],
   "source": [
    "pd.concat([table1, table3], axis = 1) # axis 1->`across columns`, axis 0 -> `across row`"
   ]
  },
  {
   "cell_type": "code",
   "execution_count": 6,
   "id": "aa159a5f",
   "metadata": {},
   "outputs": [
    {
     "name": "stdout",
     "output_type": "stream",
     "text": [
      "   col1  col2\n",
      "0     1     4\n",
      "1     2     5\n",
      "2     3     6\n",
      "   col1  col2\n",
      "0     4     7\n",
      "1     5     8\n",
      "2     6     9\n"
     ]
    },
    {
     "data": {
      "text/html": [
       "<div>\n",
       "<style scoped>\n",
       "    .dataframe tbody tr th:only-of-type {\n",
       "        vertical-align: middle;\n",
       "    }\n",
       "\n",
       "    .dataframe tbody tr th {\n",
       "        vertical-align: top;\n",
       "    }\n",
       "\n",
       "    .dataframe thead th {\n",
       "        text-align: right;\n",
       "    }\n",
       "</style>\n",
       "<table border=\"1\" class=\"dataframe\">\n",
       "  <thead>\n",
       "    <tr style=\"text-align: right;\">\n",
       "      <th></th>\n",
       "      <th>col1_x</th>\n",
       "      <th>col2</th>\n",
       "      <th>col1_y</th>\n",
       "    </tr>\n",
       "  </thead>\n",
       "  <tbody>\n",
       "    <tr>\n",
       "      <th>0</th>\n",
       "      <td>NaN</td>\n",
       "      <td>7</td>\n",
       "      <td>4</td>\n",
       "    </tr>\n",
       "    <tr>\n",
       "      <th>1</th>\n",
       "      <td>NaN</td>\n",
       "      <td>8</td>\n",
       "      <td>5</td>\n",
       "    </tr>\n",
       "    <tr>\n",
       "      <th>2</th>\n",
       "      <td>NaN</td>\n",
       "      <td>9</td>\n",
       "      <td>6</td>\n",
       "    </tr>\n",
       "  </tbody>\n",
       "</table>\n",
       "</div>"
      ],
      "text/plain": [
       "   col1_x  col2  col1_y\n",
       "0     NaN     7       4\n",
       "1     NaN     8       5\n",
       "2     NaN     9       6"
      ]
     },
     "execution_count": 6,
     "metadata": {},
     "output_type": "execute_result"
    }
   ],
   "source": [
    "print(table1)\n",
    "print(table2)\n",
    "pd.merge(table1, table2, on='col2', how='right')"
   ]
  },
  {
   "cell_type": "code",
   "execution_count": 7,
   "id": "30cddff0",
   "metadata": {},
   "outputs": [
    {
     "name": "stdout",
     "output_type": "stream",
     "text": [
      "   col1  col2\n",
      "0     1     4\n",
      "1     2     5\n",
      "2     3     6\n",
      "   col1  col2\n",
      "0     4     4\n",
      "1     5     5\n",
      "2     6     9\n"
     ]
    },
    {
     "data": {
      "text/html": [
       "<div>\n",
       "<style scoped>\n",
       "    .dataframe tbody tr th:only-of-type {\n",
       "        vertical-align: middle;\n",
       "    }\n",
       "\n",
       "    .dataframe tbody tr th {\n",
       "        vertical-align: top;\n",
       "    }\n",
       "\n",
       "    .dataframe thead th {\n",
       "        text-align: right;\n",
       "    }\n",
       "</style>\n",
       "<table border=\"1\" class=\"dataframe\">\n",
       "  <thead>\n",
       "    <tr style=\"text-align: right;\">\n",
       "      <th></th>\n",
       "      <th>col1_x</th>\n",
       "      <th>col2</th>\n",
       "      <th>col1_y</th>\n",
       "    </tr>\n",
       "  </thead>\n",
       "  <tbody>\n",
       "    <tr>\n",
       "      <th>0</th>\n",
       "      <td>1.0</td>\n",
       "      <td>4</td>\n",
       "      <td>4.0</td>\n",
       "    </tr>\n",
       "    <tr>\n",
       "      <th>1</th>\n",
       "      <td>2.0</td>\n",
       "      <td>5</td>\n",
       "      <td>5.0</td>\n",
       "    </tr>\n",
       "    <tr>\n",
       "      <th>2</th>\n",
       "      <td>3.0</td>\n",
       "      <td>6</td>\n",
       "      <td>NaN</td>\n",
       "    </tr>\n",
       "    <tr>\n",
       "      <th>3</th>\n",
       "      <td>NaN</td>\n",
       "      <td>9</td>\n",
       "      <td>6.0</td>\n",
       "    </tr>\n",
       "  </tbody>\n",
       "</table>\n",
       "</div>"
      ],
      "text/plain": [
       "   col1_x  col2  col1_y\n",
       "0     1.0     4     4.0\n",
       "1     2.0     5     5.0\n",
       "2     3.0     6     NaN\n",
       "3     NaN     9     6.0"
      ]
     },
     "execution_count": 7,
     "metadata": {},
     "output_type": "execute_result"
    }
   ],
   "source": [
    "table1 = pd.DataFrame(data = {'col1': [1, 2, 3], 'col2': [4, 5, 6]})\n",
    "table2 = pd.DataFrame(data = {'col1': [4, 5, 6], 'col2': [4, 5, 9]})\n",
    "table3 = pd.DataFrame(data = {'col3': [1, 1, 2], 'col4': [4, 4, 6]})\n",
    "print(table1)\n",
    "print(table2)\n",
    "pd.merge(table1, table2, on='col2', how='outer') # other joins: left, right, inner, outer"
   ]
  },
  {
   "cell_type": "code",
   "execution_count": 18,
   "id": "8ac60ae1",
   "metadata": {},
   "outputs": [
    {
     "name": "stdout",
     "output_type": "stream",
     "text": [
      "   col1  col2\n",
      "0     1     4\n",
      "1     2     5\n",
      "2     3     6\n",
      "   col3  col4\n",
      "0     1     6\n",
      "1     1     8\n",
      "2     2     9\n"
     ]
    },
    {
     "data": {
      "text/html": [
       "<div>\n",
       "<style scoped>\n",
       "    .dataframe tbody tr th:only-of-type {\n",
       "        vertical-align: middle;\n",
       "    }\n",
       "\n",
       "    .dataframe tbody tr th {\n",
       "        vertical-align: top;\n",
       "    }\n",
       "\n",
       "    .dataframe thead th {\n",
       "        text-align: right;\n",
       "    }\n",
       "</style>\n",
       "<table border=\"1\" class=\"dataframe\">\n",
       "  <thead>\n",
       "    <tr style=\"text-align: right;\">\n",
       "      <th></th>\n",
       "      <th>col1</th>\n",
       "      <th>col2</th>\n",
       "      <th>col3</th>\n",
       "      <th>col4</th>\n",
       "    </tr>\n",
       "  </thead>\n",
       "  <tbody>\n",
       "    <tr>\n",
       "      <th>0</th>\n",
       "      <td>1</td>\n",
       "      <td>4</td>\n",
       "      <td>NaN</td>\n",
       "      <td>NaN</td>\n",
       "    </tr>\n",
       "    <tr>\n",
       "      <th>1</th>\n",
       "      <td>2</td>\n",
       "      <td>5</td>\n",
       "      <td>NaN</td>\n",
       "      <td>NaN</td>\n",
       "    </tr>\n",
       "    <tr>\n",
       "      <th>2</th>\n",
       "      <td>3</td>\n",
       "      <td>6</td>\n",
       "      <td>1.0</td>\n",
       "      <td>6.0</td>\n",
       "    </tr>\n",
       "  </tbody>\n",
       "</table>\n",
       "</div>"
      ],
      "text/plain": [
       "   col1  col2  col3  col4\n",
       "0     1     4   NaN   NaN\n",
       "1     2     5   NaN   NaN\n",
       "2     3     6   1.0   6.0"
      ]
     },
     "execution_count": 18,
     "metadata": {},
     "output_type": "execute_result"
    }
   ],
   "source": [
    "table1 = pd.DataFrame(data = {'col1': [1, 2, 3], 'col2': [4, 5, 6]})\n",
    "table2 = pd.DataFrame(data = {'col1': [4, 5, 6], 'col2': [4, 5, 9]})\n",
    "table3 = pd.DataFrame(data = {'col3': [1, 1, 2], 'col4': [6, 8, 9]})\n",
    "print(table1)\n",
    "print(table3)\n",
    "pd.merge(table1, table3, left_on='col2', right_on='col4', how='left')"
   ]
  },
  {
   "cell_type": "code",
   "execution_count": 19,
   "id": "88468732",
   "metadata": {},
   "outputs": [
    {
     "name": "stdout",
     "output_type": "stream",
     "text": [
      "   col1  col2\n",
      "0     1     4\n",
      "1     2     5\n",
      "2     3     6\n",
      "   col3  col4\n",
      "0     1     6\n",
      "1     1     8\n",
      "2     2     9\n"
     ]
    },
    {
     "data": {
      "text/html": [
       "<div>\n",
       "<style scoped>\n",
       "    .dataframe tbody tr th:only-of-type {\n",
       "        vertical-align: middle;\n",
       "    }\n",
       "\n",
       "    .dataframe tbody tr th {\n",
       "        vertical-align: top;\n",
       "    }\n",
       "\n",
       "    .dataframe thead th {\n",
       "        text-align: right;\n",
       "    }\n",
       "</style>\n",
       "<table border=\"1\" class=\"dataframe\">\n",
       "  <thead>\n",
       "    <tr style=\"text-align: right;\">\n",
       "      <th></th>\n",
       "      <th>col1</th>\n",
       "      <th>col2</th>\n",
       "      <th>col3</th>\n",
       "      <th>col4</th>\n",
       "    </tr>\n",
       "  </thead>\n",
       "  <tbody>\n",
       "    <tr>\n",
       "      <th>0</th>\n",
       "      <td>1.0</td>\n",
       "      <td>4.0</td>\n",
       "      <td>NaN</td>\n",
       "      <td>NaN</td>\n",
       "    </tr>\n",
       "    <tr>\n",
       "      <th>1</th>\n",
       "      <td>2.0</td>\n",
       "      <td>5.0</td>\n",
       "      <td>NaN</td>\n",
       "      <td>NaN</td>\n",
       "    </tr>\n",
       "    <tr>\n",
       "      <th>2</th>\n",
       "      <td>3.0</td>\n",
       "      <td>6.0</td>\n",
       "      <td>1.0</td>\n",
       "      <td>6.0</td>\n",
       "    </tr>\n",
       "    <tr>\n",
       "      <th>3</th>\n",
       "      <td>NaN</td>\n",
       "      <td>NaN</td>\n",
       "      <td>1.0</td>\n",
       "      <td>8.0</td>\n",
       "    </tr>\n",
       "    <tr>\n",
       "      <th>4</th>\n",
       "      <td>NaN</td>\n",
       "      <td>NaN</td>\n",
       "      <td>2.0</td>\n",
       "      <td>9.0</td>\n",
       "    </tr>\n",
       "  </tbody>\n",
       "</table>\n",
       "</div>"
      ],
      "text/plain": [
       "   col1  col2  col3  col4\n",
       "0   1.0   4.0   NaN   NaN\n",
       "1   2.0   5.0   NaN   NaN\n",
       "2   3.0   6.0   1.0   6.0\n",
       "3   NaN   NaN   1.0   8.0\n",
       "4   NaN   NaN   2.0   9.0"
      ]
     },
     "execution_count": 19,
     "metadata": {},
     "output_type": "execute_result"
    }
   ],
   "source": [
    "print(table1)\n",
    "print(table3)\n",
    "\n",
    "# col1 col2 col3 col4\n",
    "# 1, 4, 1, 4\n",
    "# 1, 4, 1, 4\n",
    "# 2, 5, 2, 6\n",
    "# 3, 6, NaN, NaN\n",
    "pd.merge(table1, table3, left_on='col2', right_on='col4', how='outer')"
   ]
  },
  {
   "cell_type": "code",
   "execution_count": 21,
   "id": "a18b869a",
   "metadata": {},
   "outputs": [
    {
     "name": "stdout",
     "output_type": "stream",
     "text": [
      "   col1  col2\n",
      "0     1     4\n",
      "1     2     5\n",
      "2     3     6\n",
      "   col3  col4\n",
      "0     1     6\n",
      "1     1     8\n",
      "2     2     9\n"
     ]
    },
    {
     "data": {
      "text/html": [
       "<div>\n",
       "<style scoped>\n",
       "    .dataframe tbody tr th:only-of-type {\n",
       "        vertical-align: middle;\n",
       "    }\n",
       "\n",
       "    .dataframe tbody tr th {\n",
       "        vertical-align: top;\n",
       "    }\n",
       "\n",
       "    .dataframe thead th {\n",
       "        text-align: right;\n",
       "    }\n",
       "</style>\n",
       "<table border=\"1\" class=\"dataframe\">\n",
       "  <thead>\n",
       "    <tr style=\"text-align: right;\">\n",
       "      <th></th>\n",
       "      <th>col1</th>\n",
       "      <th>col2</th>\n",
       "      <th>col3</th>\n",
       "      <th>col4</th>\n",
       "    </tr>\n",
       "  </thead>\n",
       "  <tbody>\n",
       "    <tr>\n",
       "      <th>0</th>\n",
       "      <td>3</td>\n",
       "      <td>6</td>\n",
       "      <td>1</td>\n",
       "      <td>6</td>\n",
       "    </tr>\n",
       "  </tbody>\n",
       "</table>\n",
       "</div>"
      ],
      "text/plain": [
       "   col1  col2  col3  col4\n",
       "0     3     6     1     6"
      ]
     },
     "execution_count": 21,
     "metadata": {},
     "output_type": "execute_result"
    }
   ],
   "source": [
    "print(table1)\n",
    "print(table3)\n",
    "pd.merge(table1, table3, left_on='col2', right_on='col4', how='inner')"
   ]
  },
  {
   "cell_type": "code",
   "execution_count": 22,
   "id": "0d7cad87",
   "metadata": {},
   "outputs": [
    {
     "name": "stdout",
     "output_type": "stream",
     "text": [
      "   col1  col2\n",
      "0     1     4\n",
      "1     2     5\n",
      "2     3     6\n",
      "   col3  col4\n",
      "0     1     6\n",
      "1     1     8\n",
      "2     2     9\n"
     ]
    },
    {
     "data": {
      "text/html": [
       "<div>\n",
       "<style scoped>\n",
       "    .dataframe tbody tr th:only-of-type {\n",
       "        vertical-align: middle;\n",
       "    }\n",
       "\n",
       "    .dataframe tbody tr th {\n",
       "        vertical-align: top;\n",
       "    }\n",
       "\n",
       "    .dataframe thead th {\n",
       "        text-align: right;\n",
       "    }\n",
       "</style>\n",
       "<table border=\"1\" class=\"dataframe\">\n",
       "  <thead>\n",
       "    <tr style=\"text-align: right;\">\n",
       "      <th></th>\n",
       "      <th>col1</th>\n",
       "      <th>col2</th>\n",
       "      <th>col3</th>\n",
       "      <th>col4</th>\n",
       "    </tr>\n",
       "  </thead>\n",
       "  <tbody>\n",
       "    <tr>\n",
       "      <th>0</th>\n",
       "      <td>3.0</td>\n",
       "      <td>6.0</td>\n",
       "      <td>1</td>\n",
       "      <td>6</td>\n",
       "    </tr>\n",
       "    <tr>\n",
       "      <th>1</th>\n",
       "      <td>NaN</td>\n",
       "      <td>NaN</td>\n",
       "      <td>1</td>\n",
       "      <td>8</td>\n",
       "    </tr>\n",
       "    <tr>\n",
       "      <th>2</th>\n",
       "      <td>NaN</td>\n",
       "      <td>NaN</td>\n",
       "      <td>2</td>\n",
       "      <td>9</td>\n",
       "    </tr>\n",
       "  </tbody>\n",
       "</table>\n",
       "</div>"
      ],
      "text/plain": [
       "   col1  col2  col3  col4\n",
       "0   3.0   6.0     1     6\n",
       "1   NaN   NaN     1     8\n",
       "2   NaN   NaN     2     9"
      ]
     },
     "execution_count": 22,
     "metadata": {},
     "output_type": "execute_result"
    }
   ],
   "source": [
    "print(table1)\n",
    "print(table3)\n",
    "pd.merge(table1, table3, left_on='col2', right_on='col4', how='right')"
   ]
  },
  {
   "cell_type": "markdown",
   "id": "491acd8c",
   "metadata": {},
   "source": [
    "# Pivot Table"
   ]
  },
  {
   "cell_type": "code",
   "execution_count": 23,
   "id": "899da186",
   "metadata": {},
   "outputs": [
    {
     "data": {
      "text/html": [
       "<div>\n",
       "<style scoped>\n",
       "    .dataframe tbody tr th:only-of-type {\n",
       "        vertical-align: middle;\n",
       "    }\n",
       "\n",
       "    .dataframe tbody tr th {\n",
       "        vertical-align: top;\n",
       "    }\n",
       "\n",
       "    .dataframe thead th {\n",
       "        text-align: right;\n",
       "    }\n",
       "</style>\n",
       "<table border=\"1\" class=\"dataframe\">\n",
       "  <thead>\n",
       "    <tr style=\"text-align: right;\">\n",
       "      <th></th>\n",
       "      <th>#</th>\n",
       "      <th>Name</th>\n",
       "      <th>Type 1</th>\n",
       "      <th>Type 2</th>\n",
       "      <th>HP</th>\n",
       "      <th>Attack</th>\n",
       "      <th>Defense</th>\n",
       "      <th>Sp. Atk</th>\n",
       "      <th>Sp. Def</th>\n",
       "      <th>Speed</th>\n",
       "      <th>Generation</th>\n",
       "      <th>Legendary</th>\n",
       "    </tr>\n",
       "  </thead>\n",
       "  <tbody>\n",
       "    <tr>\n",
       "      <th>0</th>\n",
       "      <td>1</td>\n",
       "      <td>Bulbasaur</td>\n",
       "      <td>Grass</td>\n",
       "      <td>Poison</td>\n",
       "      <td>45</td>\n",
       "      <td>49</td>\n",
       "      <td>49</td>\n",
       "      <td>65</td>\n",
       "      <td>65</td>\n",
       "      <td>45</td>\n",
       "      <td>1</td>\n",
       "      <td>False</td>\n",
       "    </tr>\n",
       "    <tr>\n",
       "      <th>1</th>\n",
       "      <td>2</td>\n",
       "      <td>Ivysaur</td>\n",
       "      <td>Grass</td>\n",
       "      <td>Poison</td>\n",
       "      <td>60</td>\n",
       "      <td>62</td>\n",
       "      <td>63</td>\n",
       "      <td>80</td>\n",
       "      <td>80</td>\n",
       "      <td>60</td>\n",
       "      <td>1</td>\n",
       "      <td>False</td>\n",
       "    </tr>\n",
       "    <tr>\n",
       "      <th>2</th>\n",
       "      <td>3</td>\n",
       "      <td>Venusaur</td>\n",
       "      <td>Grass</td>\n",
       "      <td>Poison</td>\n",
       "      <td>80</td>\n",
       "      <td>82</td>\n",
       "      <td>83</td>\n",
       "      <td>100</td>\n",
       "      <td>100</td>\n",
       "      <td>80</td>\n",
       "      <td>1</td>\n",
       "      <td>False</td>\n",
       "    </tr>\n",
       "    <tr>\n",
       "      <th>3</th>\n",
       "      <td>3</td>\n",
       "      <td>VenusaurMega Venusaur</td>\n",
       "      <td>Grass</td>\n",
       "      <td>Poison</td>\n",
       "      <td>80</td>\n",
       "      <td>100</td>\n",
       "      <td>123</td>\n",
       "      <td>122</td>\n",
       "      <td>120</td>\n",
       "      <td>80</td>\n",
       "      <td>1</td>\n",
       "      <td>False</td>\n",
       "    </tr>\n",
       "    <tr>\n",
       "      <th>4</th>\n",
       "      <td>4</td>\n",
       "      <td>Charmander</td>\n",
       "      <td>Fire</td>\n",
       "      <td>NaN</td>\n",
       "      <td>39</td>\n",
       "      <td>52</td>\n",
       "      <td>43</td>\n",
       "      <td>60</td>\n",
       "      <td>50</td>\n",
       "      <td>65</td>\n",
       "      <td>1</td>\n",
       "      <td>False</td>\n",
       "    </tr>\n",
       "    <tr>\n",
       "      <th>...</th>\n",
       "      <td>...</td>\n",
       "      <td>...</td>\n",
       "      <td>...</td>\n",
       "      <td>...</td>\n",
       "      <td>...</td>\n",
       "      <td>...</td>\n",
       "      <td>...</td>\n",
       "      <td>...</td>\n",
       "      <td>...</td>\n",
       "      <td>...</td>\n",
       "      <td>...</td>\n",
       "      <td>...</td>\n",
       "    </tr>\n",
       "    <tr>\n",
       "      <th>795</th>\n",
       "      <td>719</td>\n",
       "      <td>Diancie</td>\n",
       "      <td>Rock</td>\n",
       "      <td>Fairy</td>\n",
       "      <td>50</td>\n",
       "      <td>100</td>\n",
       "      <td>150</td>\n",
       "      <td>100</td>\n",
       "      <td>150</td>\n",
       "      <td>50</td>\n",
       "      <td>6</td>\n",
       "      <td>True</td>\n",
       "    </tr>\n",
       "    <tr>\n",
       "      <th>796</th>\n",
       "      <td>719</td>\n",
       "      <td>DiancieMega Diancie</td>\n",
       "      <td>Rock</td>\n",
       "      <td>Fairy</td>\n",
       "      <td>50</td>\n",
       "      <td>160</td>\n",
       "      <td>110</td>\n",
       "      <td>160</td>\n",
       "      <td>110</td>\n",
       "      <td>110</td>\n",
       "      <td>6</td>\n",
       "      <td>True</td>\n",
       "    </tr>\n",
       "    <tr>\n",
       "      <th>797</th>\n",
       "      <td>720</td>\n",
       "      <td>HoopaHoopa Confined</td>\n",
       "      <td>Psychic</td>\n",
       "      <td>Ghost</td>\n",
       "      <td>80</td>\n",
       "      <td>110</td>\n",
       "      <td>60</td>\n",
       "      <td>150</td>\n",
       "      <td>130</td>\n",
       "      <td>70</td>\n",
       "      <td>6</td>\n",
       "      <td>True</td>\n",
       "    </tr>\n",
       "    <tr>\n",
       "      <th>798</th>\n",
       "      <td>720</td>\n",
       "      <td>HoopaHoopa Unbound</td>\n",
       "      <td>Psychic</td>\n",
       "      <td>Dark</td>\n",
       "      <td>80</td>\n",
       "      <td>160</td>\n",
       "      <td>60</td>\n",
       "      <td>170</td>\n",
       "      <td>130</td>\n",
       "      <td>80</td>\n",
       "      <td>6</td>\n",
       "      <td>True</td>\n",
       "    </tr>\n",
       "    <tr>\n",
       "      <th>799</th>\n",
       "      <td>721</td>\n",
       "      <td>Volcanion</td>\n",
       "      <td>Fire</td>\n",
       "      <td>Water</td>\n",
       "      <td>80</td>\n",
       "      <td>110</td>\n",
       "      <td>120</td>\n",
       "      <td>130</td>\n",
       "      <td>90</td>\n",
       "      <td>70</td>\n",
       "      <td>6</td>\n",
       "      <td>True</td>\n",
       "    </tr>\n",
       "  </tbody>\n",
       "</table>\n",
       "<p>800 rows × 12 columns</p>\n",
       "</div>"
      ],
      "text/plain": [
       "       #                   Name   Type 1  Type 2  HP  Attack  Defense  \\\n",
       "0      1              Bulbasaur    Grass  Poison  45      49       49   \n",
       "1      2                Ivysaur    Grass  Poison  60      62       63   \n",
       "2      3               Venusaur    Grass  Poison  80      82       83   \n",
       "3      3  VenusaurMega Venusaur    Grass  Poison  80     100      123   \n",
       "4      4             Charmander     Fire     NaN  39      52       43   \n",
       "..   ...                    ...      ...     ...  ..     ...      ...   \n",
       "795  719                Diancie     Rock   Fairy  50     100      150   \n",
       "796  719    DiancieMega Diancie     Rock   Fairy  50     160      110   \n",
       "797  720    HoopaHoopa Confined  Psychic   Ghost  80     110       60   \n",
       "798  720     HoopaHoopa Unbound  Psychic    Dark  80     160       60   \n",
       "799  721              Volcanion     Fire   Water  80     110      120   \n",
       "\n",
       "     Sp. Atk  Sp. Def  Speed  Generation  Legendary  \n",
       "0         65       65     45           1      False  \n",
       "1         80       80     60           1      False  \n",
       "2        100      100     80           1      False  \n",
       "3        122      120     80           1      False  \n",
       "4         60       50     65           1      False  \n",
       "..       ...      ...    ...         ...        ...  \n",
       "795      100      150     50           6       True  \n",
       "796      160      110    110           6       True  \n",
       "797      150      130     70           6       True  \n",
       "798      170      130     80           6       True  \n",
       "799      130       90     70           6       True  \n",
       "\n",
       "[800 rows x 12 columns]"
      ]
     },
     "execution_count": 23,
     "metadata": {},
     "output_type": "execute_result"
    }
   ],
   "source": [
    "def read_data():\n",
    "    pokemon = pd.read_csv('pokemon_data.csv')\n",
    "    return pokemon\n",
    "\n",
    "df = read_data()\n",
    "df"
   ]
  },
  {
   "cell_type": "code",
   "execution_count": 24,
   "id": "ad9e675f",
   "metadata": {},
   "outputs": [
    {
     "data": {
      "text/html": [
       "<div>\n",
       "<style scoped>\n",
       "    .dataframe tbody tr th:only-of-type {\n",
       "        vertical-align: middle;\n",
       "    }\n",
       "\n",
       "    .dataframe tbody tr th {\n",
       "        vertical-align: top;\n",
       "    }\n",
       "\n",
       "    .dataframe thead th {\n",
       "        text-align: right;\n",
       "    }\n",
       "</style>\n",
       "<table border=\"1\" class=\"dataframe\">\n",
       "  <thead>\n",
       "    <tr style=\"text-align: right;\">\n",
       "      <th></th>\n",
       "      <th>Attack</th>\n",
       "      <th>Defense</th>\n",
       "      <th>HP</th>\n",
       "    </tr>\n",
       "    <tr>\n",
       "      <th>Type 1</th>\n",
       "      <th></th>\n",
       "      <th></th>\n",
       "      <th></th>\n",
       "    </tr>\n",
       "  </thead>\n",
       "  <tbody>\n",
       "    <tr>\n",
       "      <th>Bug</th>\n",
       "      <td>70.971014</td>\n",
       "      <td>70.724638</td>\n",
       "      <td>56.884058</td>\n",
       "    </tr>\n",
       "    <tr>\n",
       "      <th>Dark</th>\n",
       "      <td>88.387097</td>\n",
       "      <td>70.225806</td>\n",
       "      <td>66.806452</td>\n",
       "    </tr>\n",
       "    <tr>\n",
       "      <th>Dragon</th>\n",
       "      <td>112.125000</td>\n",
       "      <td>86.375000</td>\n",
       "      <td>83.312500</td>\n",
       "    </tr>\n",
       "    <tr>\n",
       "      <th>Electric</th>\n",
       "      <td>69.090909</td>\n",
       "      <td>66.295455</td>\n",
       "      <td>59.795455</td>\n",
       "    </tr>\n",
       "    <tr>\n",
       "      <th>Fairy</th>\n",
       "      <td>61.529412</td>\n",
       "      <td>65.705882</td>\n",
       "      <td>74.117647</td>\n",
       "    </tr>\n",
       "    <tr>\n",
       "      <th>Fighting</th>\n",
       "      <td>96.777778</td>\n",
       "      <td>65.925926</td>\n",
       "      <td>69.851852</td>\n",
       "    </tr>\n",
       "    <tr>\n",
       "      <th>Fire</th>\n",
       "      <td>84.769231</td>\n",
       "      <td>67.769231</td>\n",
       "      <td>69.903846</td>\n",
       "    </tr>\n",
       "    <tr>\n",
       "      <th>Flying</th>\n",
       "      <td>78.750000</td>\n",
       "      <td>66.250000</td>\n",
       "      <td>70.750000</td>\n",
       "    </tr>\n",
       "    <tr>\n",
       "      <th>Ghost</th>\n",
       "      <td>73.781250</td>\n",
       "      <td>81.187500</td>\n",
       "      <td>64.437500</td>\n",
       "    </tr>\n",
       "    <tr>\n",
       "      <th>Grass</th>\n",
       "      <td>73.214286</td>\n",
       "      <td>70.800000</td>\n",
       "      <td>67.271429</td>\n",
       "    </tr>\n",
       "    <tr>\n",
       "      <th>Ground</th>\n",
       "      <td>95.750000</td>\n",
       "      <td>84.843750</td>\n",
       "      <td>73.781250</td>\n",
       "    </tr>\n",
       "    <tr>\n",
       "      <th>Ice</th>\n",
       "      <td>72.750000</td>\n",
       "      <td>71.416667</td>\n",
       "      <td>72.000000</td>\n",
       "    </tr>\n",
       "    <tr>\n",
       "      <th>Normal</th>\n",
       "      <td>73.469388</td>\n",
       "      <td>59.846939</td>\n",
       "      <td>77.275510</td>\n",
       "    </tr>\n",
       "    <tr>\n",
       "      <th>Poison</th>\n",
       "      <td>74.678571</td>\n",
       "      <td>68.821429</td>\n",
       "      <td>67.250000</td>\n",
       "    </tr>\n",
       "    <tr>\n",
       "      <th>Psychic</th>\n",
       "      <td>71.456140</td>\n",
       "      <td>67.684211</td>\n",
       "      <td>70.631579</td>\n",
       "    </tr>\n",
       "    <tr>\n",
       "      <th>Rock</th>\n",
       "      <td>92.863636</td>\n",
       "      <td>100.795455</td>\n",
       "      <td>65.363636</td>\n",
       "    </tr>\n",
       "    <tr>\n",
       "      <th>Steel</th>\n",
       "      <td>92.703704</td>\n",
       "      <td>126.370370</td>\n",
       "      <td>65.222222</td>\n",
       "    </tr>\n",
       "    <tr>\n",
       "      <th>Water</th>\n",
       "      <td>74.151786</td>\n",
       "      <td>72.946429</td>\n",
       "      <td>72.062500</td>\n",
       "    </tr>\n",
       "  </tbody>\n",
       "</table>\n",
       "</div>"
      ],
      "text/plain": [
       "              Attack     Defense         HP\n",
       "Type 1                                     \n",
       "Bug        70.971014   70.724638  56.884058\n",
       "Dark       88.387097   70.225806  66.806452\n",
       "Dragon    112.125000   86.375000  83.312500\n",
       "Electric   69.090909   66.295455  59.795455\n",
       "Fairy      61.529412   65.705882  74.117647\n",
       "Fighting   96.777778   65.925926  69.851852\n",
       "Fire       84.769231   67.769231  69.903846\n",
       "Flying     78.750000   66.250000  70.750000\n",
       "Ghost      73.781250   81.187500  64.437500\n",
       "Grass      73.214286   70.800000  67.271429\n",
       "Ground     95.750000   84.843750  73.781250\n",
       "Ice        72.750000   71.416667  72.000000\n",
       "Normal     73.469388   59.846939  77.275510\n",
       "Poison     74.678571   68.821429  67.250000\n",
       "Psychic    71.456140   67.684211  70.631579\n",
       "Rock       92.863636  100.795455  65.363636\n",
       "Steel      92.703704  126.370370  65.222222\n",
       "Water      74.151786   72.946429  72.062500"
      ]
     },
     "execution_count": 24,
     "metadata": {},
     "output_type": "execute_result"
    }
   ],
   "source": [
    "pd.pivot_table(df, index = 'Type 1', values=['HP','Attack', 'Defense'], aggfunc='mean')"
   ]
  },
  {
   "cell_type": "code",
   "execution_count": 25,
   "id": "73f00e78",
   "metadata": {},
   "outputs": [
    {
     "data": {
      "text/html": [
       "<div>\n",
       "<style scoped>\n",
       "    .dataframe tbody tr th:only-of-type {\n",
       "        vertical-align: middle;\n",
       "    }\n",
       "\n",
       "    .dataframe tbody tr th {\n",
       "        vertical-align: top;\n",
       "    }\n",
       "\n",
       "    .dataframe thead th {\n",
       "        text-align: right;\n",
       "    }\n",
       "</style>\n",
       "<table border=\"1\" class=\"dataframe\">\n",
       "  <thead>\n",
       "    <tr style=\"text-align: right;\">\n",
       "      <th></th>\n",
       "      <th>Type 1</th>\n",
       "      <th>Attack</th>\n",
       "      <th>Defense</th>\n",
       "      <th>HP</th>\n",
       "    </tr>\n",
       "  </thead>\n",
       "  <tbody>\n",
       "    <tr>\n",
       "      <th>0</th>\n",
       "      <td>Bug</td>\n",
       "      <td>70.971014</td>\n",
       "      <td>70.724638</td>\n",
       "      <td>56.884058</td>\n",
       "    </tr>\n",
       "    <tr>\n",
       "      <th>1</th>\n",
       "      <td>Dark</td>\n",
       "      <td>88.387097</td>\n",
       "      <td>70.225806</td>\n",
       "      <td>66.806452</td>\n",
       "    </tr>\n",
       "    <tr>\n",
       "      <th>2</th>\n",
       "      <td>Dragon</td>\n",
       "      <td>112.125000</td>\n",
       "      <td>86.375000</td>\n",
       "      <td>83.312500</td>\n",
       "    </tr>\n",
       "    <tr>\n",
       "      <th>3</th>\n",
       "      <td>Electric</td>\n",
       "      <td>69.090909</td>\n",
       "      <td>66.295455</td>\n",
       "      <td>59.795455</td>\n",
       "    </tr>\n",
       "    <tr>\n",
       "      <th>4</th>\n",
       "      <td>Fairy</td>\n",
       "      <td>61.529412</td>\n",
       "      <td>65.705882</td>\n",
       "      <td>74.117647</td>\n",
       "    </tr>\n",
       "    <tr>\n",
       "      <th>5</th>\n",
       "      <td>Fighting</td>\n",
       "      <td>96.777778</td>\n",
       "      <td>65.925926</td>\n",
       "      <td>69.851852</td>\n",
       "    </tr>\n",
       "    <tr>\n",
       "      <th>6</th>\n",
       "      <td>Fire</td>\n",
       "      <td>84.769231</td>\n",
       "      <td>67.769231</td>\n",
       "      <td>69.903846</td>\n",
       "    </tr>\n",
       "    <tr>\n",
       "      <th>7</th>\n",
       "      <td>Flying</td>\n",
       "      <td>78.750000</td>\n",
       "      <td>66.250000</td>\n",
       "      <td>70.750000</td>\n",
       "    </tr>\n",
       "    <tr>\n",
       "      <th>8</th>\n",
       "      <td>Ghost</td>\n",
       "      <td>73.781250</td>\n",
       "      <td>81.187500</td>\n",
       "      <td>64.437500</td>\n",
       "    </tr>\n",
       "    <tr>\n",
       "      <th>9</th>\n",
       "      <td>Grass</td>\n",
       "      <td>73.214286</td>\n",
       "      <td>70.800000</td>\n",
       "      <td>67.271429</td>\n",
       "    </tr>\n",
       "    <tr>\n",
       "      <th>10</th>\n",
       "      <td>Ground</td>\n",
       "      <td>95.750000</td>\n",
       "      <td>84.843750</td>\n",
       "      <td>73.781250</td>\n",
       "    </tr>\n",
       "    <tr>\n",
       "      <th>11</th>\n",
       "      <td>Ice</td>\n",
       "      <td>72.750000</td>\n",
       "      <td>71.416667</td>\n",
       "      <td>72.000000</td>\n",
       "    </tr>\n",
       "    <tr>\n",
       "      <th>12</th>\n",
       "      <td>Normal</td>\n",
       "      <td>73.469388</td>\n",
       "      <td>59.846939</td>\n",
       "      <td>77.275510</td>\n",
       "    </tr>\n",
       "    <tr>\n",
       "      <th>13</th>\n",
       "      <td>Poison</td>\n",
       "      <td>74.678571</td>\n",
       "      <td>68.821429</td>\n",
       "      <td>67.250000</td>\n",
       "    </tr>\n",
       "    <tr>\n",
       "      <th>14</th>\n",
       "      <td>Psychic</td>\n",
       "      <td>71.456140</td>\n",
       "      <td>67.684211</td>\n",
       "      <td>70.631579</td>\n",
       "    </tr>\n",
       "    <tr>\n",
       "      <th>15</th>\n",
       "      <td>Rock</td>\n",
       "      <td>92.863636</td>\n",
       "      <td>100.795455</td>\n",
       "      <td>65.363636</td>\n",
       "    </tr>\n",
       "    <tr>\n",
       "      <th>16</th>\n",
       "      <td>Steel</td>\n",
       "      <td>92.703704</td>\n",
       "      <td>126.370370</td>\n",
       "      <td>65.222222</td>\n",
       "    </tr>\n",
       "    <tr>\n",
       "      <th>17</th>\n",
       "      <td>Water</td>\n",
       "      <td>74.151786</td>\n",
       "      <td>72.946429</td>\n",
       "      <td>72.062500</td>\n",
       "    </tr>\n",
       "  </tbody>\n",
       "</table>\n",
       "</div>"
      ],
      "text/plain": [
       "      Type 1      Attack     Defense         HP\n",
       "0        Bug   70.971014   70.724638  56.884058\n",
       "1       Dark   88.387097   70.225806  66.806452\n",
       "2     Dragon  112.125000   86.375000  83.312500\n",
       "3   Electric   69.090909   66.295455  59.795455\n",
       "4      Fairy   61.529412   65.705882  74.117647\n",
       "5   Fighting   96.777778   65.925926  69.851852\n",
       "6       Fire   84.769231   67.769231  69.903846\n",
       "7     Flying   78.750000   66.250000  70.750000\n",
       "8      Ghost   73.781250   81.187500  64.437500\n",
       "9      Grass   73.214286   70.800000  67.271429\n",
       "10    Ground   95.750000   84.843750  73.781250\n",
       "11       Ice   72.750000   71.416667  72.000000\n",
       "12    Normal   73.469388   59.846939  77.275510\n",
       "13    Poison   74.678571   68.821429  67.250000\n",
       "14   Psychic   71.456140   67.684211  70.631579\n",
       "15      Rock   92.863636  100.795455  65.363636\n",
       "16     Steel   92.703704  126.370370  65.222222\n",
       "17     Water   74.151786   72.946429  72.062500"
      ]
     },
     "execution_count": 25,
     "metadata": {},
     "output_type": "execute_result"
    }
   ],
   "source": [
    "pd.pivot_table(df, index = 'Type 1', values=['HP','Attack', 'Defense'], aggfunc='mean').reset_index()"
   ]
  },
  {
   "cell_type": "code",
   "execution_count": 27,
   "id": "a9f24017",
   "metadata": {},
   "outputs": [
    {
     "data": {
      "text/html": [
       "<div>\n",
       "<style scoped>\n",
       "    .dataframe tbody tr th:only-of-type {\n",
       "        vertical-align: middle;\n",
       "    }\n",
       "\n",
       "    .dataframe tbody tr th {\n",
       "        vertical-align: top;\n",
       "    }\n",
       "\n",
       "    .dataframe thead th {\n",
       "        text-align: right;\n",
       "    }\n",
       "</style>\n",
       "<table border=\"1\" class=\"dataframe\">\n",
       "  <thead>\n",
       "    <tr style=\"text-align: right;\">\n",
       "      <th></th>\n",
       "      <th>Attack</th>\n",
       "      <th>Defense</th>\n",
       "      <th>HP</th>\n",
       "    </tr>\n",
       "    <tr>\n",
       "      <th>Type 1</th>\n",
       "      <th></th>\n",
       "      <th></th>\n",
       "      <th></th>\n",
       "    </tr>\n",
       "  </thead>\n",
       "  <tbody>\n",
       "    <tr>\n",
       "      <th>Bug</th>\n",
       "      <td>37.040904</td>\n",
       "      <td>33.617609</td>\n",
       "      <td>16.328914</td>\n",
       "    </tr>\n",
       "    <tr>\n",
       "      <th>Dark</th>\n",
       "      <td>25.774247</td>\n",
       "      <td>25.121982</td>\n",
       "      <td>21.078297</td>\n",
       "    </tr>\n",
       "    <tr>\n",
       "      <th>Dragon</th>\n",
       "      <td>33.742622</td>\n",
       "      <td>24.102938</td>\n",
       "      <td>23.795415</td>\n",
       "    </tr>\n",
       "    <tr>\n",
       "      <th>Electric</th>\n",
       "      <td>23.764169</td>\n",
       "      <td>24.757033</td>\n",
       "      <td>17.306511</td>\n",
       "    </tr>\n",
       "    <tr>\n",
       "      <th>Fairy</th>\n",
       "      <td>29.751298</td>\n",
       "      <td>18.979478</td>\n",
       "      <td>23.587291</td>\n",
       "    </tr>\n",
       "    <tr>\n",
       "      <th>Fighting</th>\n",
       "      <td>28.290163</td>\n",
       "      <td>18.578163</td>\n",
       "      <td>25.852695</td>\n",
       "    </tr>\n",
       "    <tr>\n",
       "      <th>Fire</th>\n",
       "      <td>28.769275</td>\n",
       "      <td>23.658200</td>\n",
       "      <td>19.404123</td>\n",
       "    </tr>\n",
       "    <tr>\n",
       "      <th>Flying</th>\n",
       "      <td>37.500000</td>\n",
       "      <td>21.360009</td>\n",
       "      <td>20.694202</td>\n",
       "    </tr>\n",
       "    <tr>\n",
       "      <th>Ghost</th>\n",
       "      <td>29.629687</td>\n",
       "      <td>32.551138</td>\n",
       "      <td>31.685895</td>\n",
       "    </tr>\n",
       "    <tr>\n",
       "      <th>Grass</th>\n",
       "      <td>25.380520</td>\n",
       "      <td>24.485192</td>\n",
       "      <td>19.516564</td>\n",
       "    </tr>\n",
       "    <tr>\n",
       "      <th>Ground</th>\n",
       "      <td>33.059087</td>\n",
       "      <td>33.786912</td>\n",
       "      <td>25.662492</td>\n",
       "    </tr>\n",
       "    <tr>\n",
       "      <th>Ice</th>\n",
       "      <td>27.289511</td>\n",
       "      <td>34.387708</td>\n",
       "      <td>21.286861</td>\n",
       "    </tr>\n",
       "    <tr>\n",
       "      <th>Normal</th>\n",
       "      <td>30.295862</td>\n",
       "      <td>23.771833</td>\n",
       "      <td>36.233430</td>\n",
       "    </tr>\n",
       "    <tr>\n",
       "      <th>Poison</th>\n",
       "      <td>19.630010</td>\n",
       "      <td>21.066128</td>\n",
       "      <td>19.665019</td>\n",
       "    </tr>\n",
       "    <tr>\n",
       "      <th>Psychic</th>\n",
       "      <td>42.309265</td>\n",
       "      <td>28.359401</td>\n",
       "      <td>28.421340</td>\n",
       "    </tr>\n",
       "    <tr>\n",
       "      <th>Rock</th>\n",
       "      <td>35.325458</td>\n",
       "      <td>36.447209</td>\n",
       "      <td>20.833884</td>\n",
       "    </tr>\n",
       "    <tr>\n",
       "      <th>Steel</th>\n",
       "      <td>30.388276</td>\n",
       "      <td>44.806548</td>\n",
       "      <td>16.044010</td>\n",
       "    </tr>\n",
       "    <tr>\n",
       "      <th>Water</th>\n",
       "      <td>28.377192</td>\n",
       "      <td>27.773809</td>\n",
       "      <td>27.487026</td>\n",
       "    </tr>\n",
       "  </tbody>\n",
       "</table>\n",
       "</div>"
      ],
      "text/plain": [
       "             Attack    Defense         HP\n",
       "Type 1                                   \n",
       "Bug       37.040904  33.617609  16.328914\n",
       "Dark      25.774247  25.121982  21.078297\n",
       "Dragon    33.742622  24.102938  23.795415\n",
       "Electric  23.764169  24.757033  17.306511\n",
       "Fairy     29.751298  18.979478  23.587291\n",
       "Fighting  28.290163  18.578163  25.852695\n",
       "Fire      28.769275  23.658200  19.404123\n",
       "Flying    37.500000  21.360009  20.694202\n",
       "Ghost     29.629687  32.551138  31.685895\n",
       "Grass     25.380520  24.485192  19.516564\n",
       "Ground    33.059087  33.786912  25.662492\n",
       "Ice       27.289511  34.387708  21.286861\n",
       "Normal    30.295862  23.771833  36.233430\n",
       "Poison    19.630010  21.066128  19.665019\n",
       "Psychic   42.309265  28.359401  28.421340\n",
       "Rock      35.325458  36.447209  20.833884\n",
       "Steel     30.388276  44.806548  16.044010\n",
       "Water     28.377192  27.773809  27.487026"
      ]
     },
     "execution_count": 27,
     "metadata": {},
     "output_type": "execute_result"
    }
   ],
   "source": [
    "pd.pivot_table(df, index = 'Type 1', values=['HP','Attack', 'Defense'], aggfunc='std')"
   ]
  },
  {
   "cell_type": "code",
   "execution_count": 28,
   "id": "8faf4bfa",
   "metadata": {},
   "outputs": [
    {
     "name": "stdout",
     "output_type": "stream",
     "text": [
      "      Type 1     Mean HP  Mean Attack  Mean Defense\n",
      "0        Bug   70.971014    70.724638     56.884058\n",
      "1       Dark   88.387097    70.225806     66.806452\n",
      "2     Dragon  112.125000    86.375000     83.312500\n",
      "3   Electric   69.090909    66.295455     59.795455\n",
      "4      Fairy   61.529412    65.705882     74.117647\n",
      "5   Fighting   96.777778    65.925926     69.851852\n",
      "6       Fire   84.769231    67.769231     69.903846\n",
      "7     Flying   78.750000    66.250000     70.750000\n",
      "8      Ghost   73.781250    81.187500     64.437500\n",
      "9      Grass   73.214286    70.800000     67.271429\n",
      "10    Ground   95.750000    84.843750     73.781250\n",
      "11       Ice   72.750000    71.416667     72.000000\n",
      "12    Normal   73.469388    59.846939     77.275510\n",
      "13    Poison   74.678571    68.821429     67.250000\n",
      "14   Psychic   71.456140    67.684211     70.631579\n",
      "15      Rock   92.863636   100.795455     65.363636\n",
      "16     Steel   92.703704   126.370370     65.222222\n",
      "17     Water   74.151786    72.946429     72.062500\n"
     ]
    },
    {
     "data": {
      "text/html": [
       "<div>\n",
       "<style scoped>\n",
       "    .dataframe tbody tr th:only-of-type {\n",
       "        vertical-align: middle;\n",
       "    }\n",
       "\n",
       "    .dataframe tbody tr th {\n",
       "        vertical-align: top;\n",
       "    }\n",
       "\n",
       "    .dataframe thead th {\n",
       "        text-align: right;\n",
       "    }\n",
       "</style>\n",
       "<table border=\"1\" class=\"dataframe\">\n",
       "  <thead>\n",
       "    <tr style=\"text-align: right;\">\n",
       "      <th></th>\n",
       "      <th>Type 1</th>\n",
       "      <th>Var HP</th>\n",
       "      <th>Var Attack</th>\n",
       "      <th>Var Defense</th>\n",
       "    </tr>\n",
       "  </thead>\n",
       "  <tbody>\n",
       "    <tr>\n",
       "      <th>0</th>\n",
       "      <td>Bug</td>\n",
       "      <td>1372.028559</td>\n",
       "      <td>1130.143649</td>\n",
       "      <td>266.633419</td>\n",
       "    </tr>\n",
       "    <tr>\n",
       "      <th>1</th>\n",
       "      <td>Dark</td>\n",
       "      <td>664.311828</td>\n",
       "      <td>631.113978</td>\n",
       "      <td>444.294624</td>\n",
       "    </tr>\n",
       "    <tr>\n",
       "      <th>2</th>\n",
       "      <td>Dragon</td>\n",
       "      <td>1138.564516</td>\n",
       "      <td>580.951613</td>\n",
       "      <td>566.221774</td>\n",
       "    </tr>\n",
       "    <tr>\n",
       "      <th>3</th>\n",
       "      <td>Electric</td>\n",
       "      <td>564.735729</td>\n",
       "      <td>612.910677</td>\n",
       "      <td>299.515328</td>\n",
       "    </tr>\n",
       "    <tr>\n",
       "      <th>4</th>\n",
       "      <td>Fairy</td>\n",
       "      <td>885.139706</td>\n",
       "      <td>360.220588</td>\n",
       "      <td>556.360294</td>\n",
       "    </tr>\n",
       "    <tr>\n",
       "      <th>5</th>\n",
       "      <td>Fighting</td>\n",
       "      <td>800.333333</td>\n",
       "      <td>345.148148</td>\n",
       "      <td>668.361823</td>\n",
       "    </tr>\n",
       "    <tr>\n",
       "      <th>6</th>\n",
       "      <td>Fire</td>\n",
       "      <td>827.671192</td>\n",
       "      <td>559.710407</td>\n",
       "      <td>376.519985</td>\n",
       "    </tr>\n",
       "    <tr>\n",
       "      <th>7</th>\n",
       "      <td>Flying</td>\n",
       "      <td>1406.250000</td>\n",
       "      <td>456.250000</td>\n",
       "      <td>428.250000</td>\n",
       "    </tr>\n",
       "    <tr>\n",
       "      <th>8</th>\n",
       "      <td>Ghost</td>\n",
       "      <td>877.918347</td>\n",
       "      <td>1059.576613</td>\n",
       "      <td>1003.995968</td>\n",
       "    </tr>\n",
       "    <tr>\n",
       "      <th>9</th>\n",
       "      <td>Grass</td>\n",
       "      <td>644.170807</td>\n",
       "      <td>599.524638</td>\n",
       "      <td>380.896273</td>\n",
       "    </tr>\n",
       "    <tr>\n",
       "      <th>10</th>\n",
       "      <td>Ground</td>\n",
       "      <td>1092.903226</td>\n",
       "      <td>1141.555444</td>\n",
       "      <td>658.563508</td>\n",
       "    </tr>\n",
       "    <tr>\n",
       "      <th>11</th>\n",
       "      <td>Ice</td>\n",
       "      <td>744.717391</td>\n",
       "      <td>1182.514493</td>\n",
       "      <td>453.130435</td>\n",
       "    </tr>\n",
       "    <tr>\n",
       "      <th>12</th>\n",
       "      <td>Normal</td>\n",
       "      <td>917.839259</td>\n",
       "      <td>565.100042</td>\n",
       "      <td>1312.861456</td>\n",
       "    </tr>\n",
       "    <tr>\n",
       "      <th>13</th>\n",
       "      <td>Poison</td>\n",
       "      <td>385.337302</td>\n",
       "      <td>443.781746</td>\n",
       "      <td>386.712963</td>\n",
       "    </tr>\n",
       "    <tr>\n",
       "      <th>14</th>\n",
       "      <td>Psychic</td>\n",
       "      <td>1790.073935</td>\n",
       "      <td>804.255639</td>\n",
       "      <td>807.772556</td>\n",
       "    </tr>\n",
       "    <tr>\n",
       "      <th>15</th>\n",
       "      <td>Rock</td>\n",
       "      <td>1247.887949</td>\n",
       "      <td>1328.399049</td>\n",
       "      <td>434.050740</td>\n",
       "    </tr>\n",
       "    <tr>\n",
       "      <th>16</th>\n",
       "      <td>Steel</td>\n",
       "      <td>923.447293</td>\n",
       "      <td>2007.626781</td>\n",
       "      <td>257.410256</td>\n",
       "    </tr>\n",
       "    <tr>\n",
       "      <th>17</th>\n",
       "      <td>Water</td>\n",
       "      <td>805.265042</td>\n",
       "      <td>771.384492</td>\n",
       "      <td>755.536599</td>\n",
       "    </tr>\n",
       "  </tbody>\n",
       "</table>\n",
       "</div>"
      ],
      "text/plain": [
       "      Type 1       Var HP   Var Attack  Var Defense\n",
       "0        Bug  1372.028559  1130.143649   266.633419\n",
       "1       Dark   664.311828   631.113978   444.294624\n",
       "2     Dragon  1138.564516   580.951613   566.221774\n",
       "3   Electric   564.735729   612.910677   299.515328\n",
       "4      Fairy   885.139706   360.220588   556.360294\n",
       "5   Fighting   800.333333   345.148148   668.361823\n",
       "6       Fire   827.671192   559.710407   376.519985\n",
       "7     Flying  1406.250000   456.250000   428.250000\n",
       "8      Ghost   877.918347  1059.576613  1003.995968\n",
       "9      Grass   644.170807   599.524638   380.896273\n",
       "10    Ground  1092.903226  1141.555444   658.563508\n",
       "11       Ice   744.717391  1182.514493   453.130435\n",
       "12    Normal   917.839259   565.100042  1312.861456\n",
       "13    Poison   385.337302   443.781746   386.712963\n",
       "14   Psychic  1790.073935   804.255639   807.772556\n",
       "15      Rock  1247.887949  1328.399049   434.050740\n",
       "16     Steel   923.447293  2007.626781   257.410256\n",
       "17     Water   805.265042   771.384492   755.536599"
      ]
     },
     "execution_count": 28,
     "metadata": {},
     "output_type": "execute_result"
    }
   ],
   "source": [
    "mean_data = pd.pivot_table(df, index = 'Type 1', values=['HP','Attack', 'Defense'], aggfunc='mean').reset_index()\n",
    "mean_data.columns = ['Type 1', 'Mean HP', 'Mean Attack', 'Mean Defense']\n",
    "print(mean_data)\n",
    "var_data = pd.pivot_table(df, index = 'Type 1', values=['HP','Attack', 'Defense'], aggfunc='var').reset_index()\n",
    "var_data.columns = ['Type 1', 'Var HP', 'Var Attack', 'Var Defense']\n",
    "var_data"
   ]
  },
  {
   "cell_type": "code",
   "execution_count": 29,
   "id": "b0ebe33c",
   "metadata": {},
   "outputs": [
    {
     "data": {
      "text/html": [
       "<div>\n",
       "<style scoped>\n",
       "    .dataframe tbody tr th:only-of-type {\n",
       "        vertical-align: middle;\n",
       "    }\n",
       "\n",
       "    .dataframe tbody tr th {\n",
       "        vertical-align: top;\n",
       "    }\n",
       "\n",
       "    .dataframe thead th {\n",
       "        text-align: right;\n",
       "    }\n",
       "</style>\n",
       "<table border=\"1\" class=\"dataframe\">\n",
       "  <thead>\n",
       "    <tr style=\"text-align: right;\">\n",
       "      <th></th>\n",
       "      <th>Type 1</th>\n",
       "      <th>Mean HP</th>\n",
       "      <th>Mean Attack</th>\n",
       "      <th>Mean Defense</th>\n",
       "      <th>Var HP</th>\n",
       "      <th>Var Attack</th>\n",
       "      <th>Var Defense</th>\n",
       "    </tr>\n",
       "  </thead>\n",
       "  <tbody>\n",
       "    <tr>\n",
       "      <th>0</th>\n",
       "      <td>Bug</td>\n",
       "      <td>70.971014</td>\n",
       "      <td>70.724638</td>\n",
       "      <td>56.884058</td>\n",
       "      <td>1372.028559</td>\n",
       "      <td>1130.143649</td>\n",
       "      <td>266.633419</td>\n",
       "    </tr>\n",
       "    <tr>\n",
       "      <th>1</th>\n",
       "      <td>Dark</td>\n",
       "      <td>88.387097</td>\n",
       "      <td>70.225806</td>\n",
       "      <td>66.806452</td>\n",
       "      <td>664.311828</td>\n",
       "      <td>631.113978</td>\n",
       "      <td>444.294624</td>\n",
       "    </tr>\n",
       "    <tr>\n",
       "      <th>2</th>\n",
       "      <td>Dragon</td>\n",
       "      <td>112.125000</td>\n",
       "      <td>86.375000</td>\n",
       "      <td>83.312500</td>\n",
       "      <td>1138.564516</td>\n",
       "      <td>580.951613</td>\n",
       "      <td>566.221774</td>\n",
       "    </tr>\n",
       "    <tr>\n",
       "      <th>3</th>\n",
       "      <td>Electric</td>\n",
       "      <td>69.090909</td>\n",
       "      <td>66.295455</td>\n",
       "      <td>59.795455</td>\n",
       "      <td>564.735729</td>\n",
       "      <td>612.910677</td>\n",
       "      <td>299.515328</td>\n",
       "    </tr>\n",
       "    <tr>\n",
       "      <th>4</th>\n",
       "      <td>Fairy</td>\n",
       "      <td>61.529412</td>\n",
       "      <td>65.705882</td>\n",
       "      <td>74.117647</td>\n",
       "      <td>885.139706</td>\n",
       "      <td>360.220588</td>\n",
       "      <td>556.360294</td>\n",
       "    </tr>\n",
       "    <tr>\n",
       "      <th>5</th>\n",
       "      <td>Fighting</td>\n",
       "      <td>96.777778</td>\n",
       "      <td>65.925926</td>\n",
       "      <td>69.851852</td>\n",
       "      <td>800.333333</td>\n",
       "      <td>345.148148</td>\n",
       "      <td>668.361823</td>\n",
       "    </tr>\n",
       "    <tr>\n",
       "      <th>6</th>\n",
       "      <td>Fire</td>\n",
       "      <td>84.769231</td>\n",
       "      <td>67.769231</td>\n",
       "      <td>69.903846</td>\n",
       "      <td>827.671192</td>\n",
       "      <td>559.710407</td>\n",
       "      <td>376.519985</td>\n",
       "    </tr>\n",
       "    <tr>\n",
       "      <th>7</th>\n",
       "      <td>Flying</td>\n",
       "      <td>78.750000</td>\n",
       "      <td>66.250000</td>\n",
       "      <td>70.750000</td>\n",
       "      <td>1406.250000</td>\n",
       "      <td>456.250000</td>\n",
       "      <td>428.250000</td>\n",
       "    </tr>\n",
       "    <tr>\n",
       "      <th>8</th>\n",
       "      <td>Ghost</td>\n",
       "      <td>73.781250</td>\n",
       "      <td>81.187500</td>\n",
       "      <td>64.437500</td>\n",
       "      <td>877.918347</td>\n",
       "      <td>1059.576613</td>\n",
       "      <td>1003.995968</td>\n",
       "    </tr>\n",
       "    <tr>\n",
       "      <th>9</th>\n",
       "      <td>Grass</td>\n",
       "      <td>73.214286</td>\n",
       "      <td>70.800000</td>\n",
       "      <td>67.271429</td>\n",
       "      <td>644.170807</td>\n",
       "      <td>599.524638</td>\n",
       "      <td>380.896273</td>\n",
       "    </tr>\n",
       "    <tr>\n",
       "      <th>10</th>\n",
       "      <td>Ground</td>\n",
       "      <td>95.750000</td>\n",
       "      <td>84.843750</td>\n",
       "      <td>73.781250</td>\n",
       "      <td>1092.903226</td>\n",
       "      <td>1141.555444</td>\n",
       "      <td>658.563508</td>\n",
       "    </tr>\n",
       "    <tr>\n",
       "      <th>11</th>\n",
       "      <td>Ice</td>\n",
       "      <td>72.750000</td>\n",
       "      <td>71.416667</td>\n",
       "      <td>72.000000</td>\n",
       "      <td>744.717391</td>\n",
       "      <td>1182.514493</td>\n",
       "      <td>453.130435</td>\n",
       "    </tr>\n",
       "    <tr>\n",
       "      <th>12</th>\n",
       "      <td>Normal</td>\n",
       "      <td>73.469388</td>\n",
       "      <td>59.846939</td>\n",
       "      <td>77.275510</td>\n",
       "      <td>917.839259</td>\n",
       "      <td>565.100042</td>\n",
       "      <td>1312.861456</td>\n",
       "    </tr>\n",
       "    <tr>\n",
       "      <th>13</th>\n",
       "      <td>Poison</td>\n",
       "      <td>74.678571</td>\n",
       "      <td>68.821429</td>\n",
       "      <td>67.250000</td>\n",
       "      <td>385.337302</td>\n",
       "      <td>443.781746</td>\n",
       "      <td>386.712963</td>\n",
       "    </tr>\n",
       "    <tr>\n",
       "      <th>14</th>\n",
       "      <td>Psychic</td>\n",
       "      <td>71.456140</td>\n",
       "      <td>67.684211</td>\n",
       "      <td>70.631579</td>\n",
       "      <td>1790.073935</td>\n",
       "      <td>804.255639</td>\n",
       "      <td>807.772556</td>\n",
       "    </tr>\n",
       "    <tr>\n",
       "      <th>15</th>\n",
       "      <td>Rock</td>\n",
       "      <td>92.863636</td>\n",
       "      <td>100.795455</td>\n",
       "      <td>65.363636</td>\n",
       "      <td>1247.887949</td>\n",
       "      <td>1328.399049</td>\n",
       "      <td>434.050740</td>\n",
       "    </tr>\n",
       "    <tr>\n",
       "      <th>16</th>\n",
       "      <td>Steel</td>\n",
       "      <td>92.703704</td>\n",
       "      <td>126.370370</td>\n",
       "      <td>65.222222</td>\n",
       "      <td>923.447293</td>\n",
       "      <td>2007.626781</td>\n",
       "      <td>257.410256</td>\n",
       "    </tr>\n",
       "    <tr>\n",
       "      <th>17</th>\n",
       "      <td>Water</td>\n",
       "      <td>74.151786</td>\n",
       "      <td>72.946429</td>\n",
       "      <td>72.062500</td>\n",
       "      <td>805.265042</td>\n",
       "      <td>771.384492</td>\n",
       "      <td>755.536599</td>\n",
       "    </tr>\n",
       "  </tbody>\n",
       "</table>\n",
       "</div>"
      ],
      "text/plain": [
       "      Type 1     Mean HP  Mean Attack  Mean Defense       Var HP   Var Attack  \\\n",
       "0        Bug   70.971014    70.724638     56.884058  1372.028559  1130.143649   \n",
       "1       Dark   88.387097    70.225806     66.806452   664.311828   631.113978   \n",
       "2     Dragon  112.125000    86.375000     83.312500  1138.564516   580.951613   \n",
       "3   Electric   69.090909    66.295455     59.795455   564.735729   612.910677   \n",
       "4      Fairy   61.529412    65.705882     74.117647   885.139706   360.220588   \n",
       "5   Fighting   96.777778    65.925926     69.851852   800.333333   345.148148   \n",
       "6       Fire   84.769231    67.769231     69.903846   827.671192   559.710407   \n",
       "7     Flying   78.750000    66.250000     70.750000  1406.250000   456.250000   \n",
       "8      Ghost   73.781250    81.187500     64.437500   877.918347  1059.576613   \n",
       "9      Grass   73.214286    70.800000     67.271429   644.170807   599.524638   \n",
       "10    Ground   95.750000    84.843750     73.781250  1092.903226  1141.555444   \n",
       "11       Ice   72.750000    71.416667     72.000000   744.717391  1182.514493   \n",
       "12    Normal   73.469388    59.846939     77.275510   917.839259   565.100042   \n",
       "13    Poison   74.678571    68.821429     67.250000   385.337302   443.781746   \n",
       "14   Psychic   71.456140    67.684211     70.631579  1790.073935   804.255639   \n",
       "15      Rock   92.863636   100.795455     65.363636  1247.887949  1328.399049   \n",
       "16     Steel   92.703704   126.370370     65.222222   923.447293  2007.626781   \n",
       "17     Water   74.151786    72.946429     72.062500   805.265042   771.384492   \n",
       "\n",
       "    Var Defense  \n",
       "0    266.633419  \n",
       "1    444.294624  \n",
       "2    566.221774  \n",
       "3    299.515328  \n",
       "4    556.360294  \n",
       "5    668.361823  \n",
       "6    376.519985  \n",
       "7    428.250000  \n",
       "8   1003.995968  \n",
       "9    380.896273  \n",
       "10   658.563508  \n",
       "11   453.130435  \n",
       "12  1312.861456  \n",
       "13   386.712963  \n",
       "14   807.772556  \n",
       "15   434.050740  \n",
       "16   257.410256  \n",
       "17   755.536599  "
      ]
     },
     "execution_count": 29,
     "metadata": {},
     "output_type": "execute_result"
    }
   ],
   "source": [
    "pd.merge(mean_data, var_data, on='Type 1', how='left')"
   ]
  },
  {
   "cell_type": "markdown",
   "id": "997a51ff",
   "metadata": {},
   "source": [
    "# Stacking"
   ]
  },
  {
   "cell_type": "code",
   "execution_count": 35,
   "id": "f1522cbe",
   "metadata": {},
   "outputs": [
    {
     "data": {
      "text/plain": [
       "0    #                     1\n",
       "     Name          Bulbasaur\n",
       "     Type 1            Grass\n",
       "     Type 2           Poison\n",
       "     HP                   45\n",
       "                     ...    \n",
       "799  Sp. Atk             130\n",
       "     Sp. Def              90\n",
       "     Speed                70\n",
       "     Generation            6\n",
       "     Legendary          True\n",
       "Length: 9214, dtype: object"
      ]
     },
     "execution_count": 35,
     "metadata": {},
     "output_type": "execute_result"
    }
   ],
   "source": [
    "df.stack()"
   ]
  },
  {
   "cell_type": "code",
   "execution_count": 37,
   "id": "af301cfd",
   "metadata": {},
   "outputs": [
    {
     "data": {
      "text/plain": [
       "'Bulbasaur'"
      ]
     },
     "execution_count": 37,
     "metadata": {},
     "output_type": "execute_result"
    }
   ],
   "source": [
    "df.iloc[0]['Name']"
   ]
  },
  {
   "cell_type": "code",
   "execution_count": 31,
   "id": "913bb3ed",
   "metadata": {},
   "outputs": [
    {
     "data": {
      "text/html": [
       "<div>\n",
       "<style scoped>\n",
       "    .dataframe tbody tr th:only-of-type {\n",
       "        vertical-align: middle;\n",
       "    }\n",
       "\n",
       "    .dataframe tbody tr th {\n",
       "        vertical-align: top;\n",
       "    }\n",
       "\n",
       "    .dataframe thead th {\n",
       "        text-align: right;\n",
       "    }\n",
       "</style>\n",
       "<table border=\"1\" class=\"dataframe\">\n",
       "  <thead>\n",
       "    <tr style=\"text-align: right;\">\n",
       "      <th></th>\n",
       "      <th></th>\n",
       "      <th>0</th>\n",
       "    </tr>\n",
       "  </thead>\n",
       "  <tbody>\n",
       "    <tr>\n",
       "      <th rowspan=\"5\" valign=\"top\">0</th>\n",
       "      <th>#</th>\n",
       "      <td>1</td>\n",
       "    </tr>\n",
       "    <tr>\n",
       "      <th>Name</th>\n",
       "      <td>Bulbasaur</td>\n",
       "    </tr>\n",
       "    <tr>\n",
       "      <th>Type 1</th>\n",
       "      <td>Grass</td>\n",
       "    </tr>\n",
       "    <tr>\n",
       "      <th>Type 2</th>\n",
       "      <td>Poison</td>\n",
       "    </tr>\n",
       "    <tr>\n",
       "      <th>HP</th>\n",
       "      <td>45</td>\n",
       "    </tr>\n",
       "    <tr>\n",
       "      <th>...</th>\n",
       "      <th>...</th>\n",
       "      <td>...</td>\n",
       "    </tr>\n",
       "    <tr>\n",
       "      <th rowspan=\"5\" valign=\"top\">799</th>\n",
       "      <th>Sp. Atk</th>\n",
       "      <td>130</td>\n",
       "    </tr>\n",
       "    <tr>\n",
       "      <th>Sp. Def</th>\n",
       "      <td>90</td>\n",
       "    </tr>\n",
       "    <tr>\n",
       "      <th>Speed</th>\n",
       "      <td>70</td>\n",
       "    </tr>\n",
       "    <tr>\n",
       "      <th>Generation</th>\n",
       "      <td>6</td>\n",
       "    </tr>\n",
       "    <tr>\n",
       "      <th>Legendary</th>\n",
       "      <td>True</td>\n",
       "    </tr>\n",
       "  </tbody>\n",
       "</table>\n",
       "<p>9214 rows × 1 columns</p>\n",
       "</div>"
      ],
      "text/plain": [
       "                        0\n",
       "0   #                   1\n",
       "    Name        Bulbasaur\n",
       "    Type 1          Grass\n",
       "    Type 2         Poison\n",
       "    HP                 45\n",
       "...                   ...\n",
       "799 Sp. Atk           130\n",
       "    Sp. Def            90\n",
       "    Speed              70\n",
       "    Generation          6\n",
       "    Legendary        True\n",
       "\n",
       "[9214 rows x 1 columns]"
      ]
     },
     "execution_count": 31,
     "metadata": {},
     "output_type": "execute_result"
    }
   ],
   "source": [
    "pd.DataFrame(df.stack())"
   ]
  },
  {
   "cell_type": "code",
   "execution_count": 41,
   "id": "6b68d7e9",
   "metadata": {},
   "outputs": [
    {
     "data": {
      "text/html": [
       "<div>\n",
       "<style scoped>\n",
       "    .dataframe tbody tr th:only-of-type {\n",
       "        vertical-align: middle;\n",
       "    }\n",
       "\n",
       "    .dataframe tbody tr th {\n",
       "        vertical-align: top;\n",
       "    }\n",
       "\n",
       "    .dataframe thead th {\n",
       "        text-align: right;\n",
       "    }\n",
       "</style>\n",
       "<table border=\"1\" class=\"dataframe\">\n",
       "  <thead>\n",
       "    <tr style=\"text-align: right;\">\n",
       "      <th></th>\n",
       "      <th>#</th>\n",
       "      <th>Name</th>\n",
       "      <th>Type 1</th>\n",
       "      <th>Type 2</th>\n",
       "      <th>HP</th>\n",
       "      <th>Attack</th>\n",
       "      <th>Defense</th>\n",
       "      <th>Sp. Atk</th>\n",
       "      <th>Sp. Def</th>\n",
       "      <th>Speed</th>\n",
       "      <th>Generation</th>\n",
       "      <th>Legendary</th>\n",
       "    </tr>\n",
       "  </thead>\n",
       "  <tbody>\n",
       "    <tr>\n",
       "      <th>0</th>\n",
       "      <td>1</td>\n",
       "      <td>Bulbasaur</td>\n",
       "      <td>Grass</td>\n",
       "      <td>Poison</td>\n",
       "      <td>45</td>\n",
       "      <td>49</td>\n",
       "      <td>49</td>\n",
       "      <td>65</td>\n",
       "      <td>65</td>\n",
       "      <td>45</td>\n",
       "      <td>1</td>\n",
       "      <td>False</td>\n",
       "    </tr>\n",
       "    <tr>\n",
       "      <th>1</th>\n",
       "      <td>2</td>\n",
       "      <td>Ivysaur</td>\n",
       "      <td>Grass</td>\n",
       "      <td>Poison</td>\n",
       "      <td>60</td>\n",
       "      <td>62</td>\n",
       "      <td>63</td>\n",
       "      <td>80</td>\n",
       "      <td>80</td>\n",
       "      <td>60</td>\n",
       "      <td>1</td>\n",
       "      <td>False</td>\n",
       "    </tr>\n",
       "    <tr>\n",
       "      <th>2</th>\n",
       "      <td>3</td>\n",
       "      <td>Venusaur</td>\n",
       "      <td>Grass</td>\n",
       "      <td>Poison</td>\n",
       "      <td>80</td>\n",
       "      <td>82</td>\n",
       "      <td>83</td>\n",
       "      <td>100</td>\n",
       "      <td>100</td>\n",
       "      <td>80</td>\n",
       "      <td>1</td>\n",
       "      <td>False</td>\n",
       "    </tr>\n",
       "    <tr>\n",
       "      <th>3</th>\n",
       "      <td>3</td>\n",
       "      <td>VenusaurMega Venusaur</td>\n",
       "      <td>Grass</td>\n",
       "      <td>Poison</td>\n",
       "      <td>80</td>\n",
       "      <td>100</td>\n",
       "      <td>123</td>\n",
       "      <td>122</td>\n",
       "      <td>120</td>\n",
       "      <td>80</td>\n",
       "      <td>1</td>\n",
       "      <td>False</td>\n",
       "    </tr>\n",
       "    <tr>\n",
       "      <th>4</th>\n",
       "      <td>4</td>\n",
       "      <td>Charmander</td>\n",
       "      <td>Fire</td>\n",
       "      <td>NaN</td>\n",
       "      <td>39</td>\n",
       "      <td>52</td>\n",
       "      <td>43</td>\n",
       "      <td>60</td>\n",
       "      <td>50</td>\n",
       "      <td>65</td>\n",
       "      <td>1</td>\n",
       "      <td>False</td>\n",
       "    </tr>\n",
       "    <tr>\n",
       "      <th>...</th>\n",
       "      <td>...</td>\n",
       "      <td>...</td>\n",
       "      <td>...</td>\n",
       "      <td>...</td>\n",
       "      <td>...</td>\n",
       "      <td>...</td>\n",
       "      <td>...</td>\n",
       "      <td>...</td>\n",
       "      <td>...</td>\n",
       "      <td>...</td>\n",
       "      <td>...</td>\n",
       "      <td>...</td>\n",
       "    </tr>\n",
       "    <tr>\n",
       "      <th>795</th>\n",
       "      <td>719</td>\n",
       "      <td>Diancie</td>\n",
       "      <td>Rock</td>\n",
       "      <td>Fairy</td>\n",
       "      <td>50</td>\n",
       "      <td>100</td>\n",
       "      <td>150</td>\n",
       "      <td>100</td>\n",
       "      <td>150</td>\n",
       "      <td>50</td>\n",
       "      <td>6</td>\n",
       "      <td>True</td>\n",
       "    </tr>\n",
       "    <tr>\n",
       "      <th>796</th>\n",
       "      <td>719</td>\n",
       "      <td>DiancieMega Diancie</td>\n",
       "      <td>Rock</td>\n",
       "      <td>Fairy</td>\n",
       "      <td>50</td>\n",
       "      <td>160</td>\n",
       "      <td>110</td>\n",
       "      <td>160</td>\n",
       "      <td>110</td>\n",
       "      <td>110</td>\n",
       "      <td>6</td>\n",
       "      <td>True</td>\n",
       "    </tr>\n",
       "    <tr>\n",
       "      <th>797</th>\n",
       "      <td>720</td>\n",
       "      <td>HoopaHoopa Confined</td>\n",
       "      <td>Psychic</td>\n",
       "      <td>Ghost</td>\n",
       "      <td>80</td>\n",
       "      <td>110</td>\n",
       "      <td>60</td>\n",
       "      <td>150</td>\n",
       "      <td>130</td>\n",
       "      <td>70</td>\n",
       "      <td>6</td>\n",
       "      <td>True</td>\n",
       "    </tr>\n",
       "    <tr>\n",
       "      <th>798</th>\n",
       "      <td>720</td>\n",
       "      <td>HoopaHoopa Unbound</td>\n",
       "      <td>Psychic</td>\n",
       "      <td>Dark</td>\n",
       "      <td>80</td>\n",
       "      <td>160</td>\n",
       "      <td>60</td>\n",
       "      <td>170</td>\n",
       "      <td>130</td>\n",
       "      <td>80</td>\n",
       "      <td>6</td>\n",
       "      <td>True</td>\n",
       "    </tr>\n",
       "    <tr>\n",
       "      <th>799</th>\n",
       "      <td>721</td>\n",
       "      <td>Volcanion</td>\n",
       "      <td>Fire</td>\n",
       "      <td>Water</td>\n",
       "      <td>80</td>\n",
       "      <td>110</td>\n",
       "      <td>120</td>\n",
       "      <td>130</td>\n",
       "      <td>90</td>\n",
       "      <td>70</td>\n",
       "      <td>6</td>\n",
       "      <td>True</td>\n",
       "    </tr>\n",
       "  </tbody>\n",
       "</table>\n",
       "<p>800 rows × 12 columns</p>\n",
       "</div>"
      ],
      "text/plain": [
       "       #                   Name   Type 1  Type 2  HP Attack Defense Sp. Atk  \\\n",
       "0      1              Bulbasaur    Grass  Poison  45     49      49      65   \n",
       "1      2                Ivysaur    Grass  Poison  60     62      63      80   \n",
       "2      3               Venusaur    Grass  Poison  80     82      83     100   \n",
       "3      3  VenusaurMega Venusaur    Grass  Poison  80    100     123     122   \n",
       "4      4             Charmander     Fire     NaN  39     52      43      60   \n",
       "..   ...                    ...      ...     ...  ..    ...     ...     ...   \n",
       "795  719                Diancie     Rock   Fairy  50    100     150     100   \n",
       "796  719    DiancieMega Diancie     Rock   Fairy  50    160     110     160   \n",
       "797  720    HoopaHoopa Confined  Psychic   Ghost  80    110      60     150   \n",
       "798  720     HoopaHoopa Unbound  Psychic    Dark  80    160      60     170   \n",
       "799  721              Volcanion     Fire   Water  80    110     120     130   \n",
       "\n",
       "    Sp. Def Speed Generation Legendary  \n",
       "0        65    45          1     False  \n",
       "1        80    60          1     False  \n",
       "2       100    80          1     False  \n",
       "3       120    80          1     False  \n",
       "4        50    65          1     False  \n",
       "..      ...   ...        ...       ...  \n",
       "795     150    50          6      True  \n",
       "796     110   110          6      True  \n",
       "797     130    70          6      True  \n",
       "798     130    80          6      True  \n",
       "799      90    70          6      True  \n",
       "\n",
       "[800 rows x 12 columns]"
      ]
     },
     "execution_count": 41,
     "metadata": {},
     "output_type": "execute_result"
    }
   ],
   "source": [
    "df.stack().unstack()"
   ]
  },
  {
   "cell_type": "markdown",
   "id": "a5c98432",
   "metadata": {},
   "source": [
    "# Conversion"
   ]
  },
  {
   "cell_type": "code",
   "execution_count": 42,
   "id": "bf7d46e4",
   "metadata": {},
   "outputs": [
    {
     "name": "stdout",
     "output_type": "stream",
     "text": [
      "<class 'pandas.core.frame.DataFrame'>\n",
      "RangeIndex: 800 entries, 0 to 799\n",
      "Data columns (total 12 columns):\n",
      " #   Column      Non-Null Count  Dtype \n",
      "---  ------      --------------  ----- \n",
      " 0   #           800 non-null    int64 \n",
      " 1   Name        800 non-null    object\n",
      " 2   Type 1      800 non-null    object\n",
      " 3   Type 2      414 non-null    object\n",
      " 4   HP          800 non-null    int64 \n",
      " 5   Attack      800 non-null    int64 \n",
      " 6   Defense     800 non-null    int64 \n",
      " 7   Sp. Atk     800 non-null    int64 \n",
      " 8   Sp. Def     800 non-null    int64 \n",
      " 9   Speed       800 non-null    int64 \n",
      " 10  Generation  800 non-null    int64 \n",
      " 11  Legendary   800 non-null    bool  \n",
      "dtypes: bool(1), int64(8), object(3)\n",
      "memory usage: 69.7+ KB\n"
     ]
    }
   ],
   "source": [
    "df.info()"
   ]
  },
  {
   "cell_type": "code",
   "execution_count": 45,
   "id": "47b95d1f",
   "metadata": {},
   "outputs": [],
   "source": [
    "df['Type 1'] = df['Type 1'].astype('category')"
   ]
  },
  {
   "cell_type": "code",
   "execution_count": 46,
   "id": "a9ea72d6",
   "metadata": {},
   "outputs": [
    {
     "name": "stdout",
     "output_type": "stream",
     "text": [
      "<class 'pandas.core.frame.DataFrame'>\n",
      "RangeIndex: 800 entries, 0 to 799\n",
      "Data columns (total 12 columns):\n",
      " #   Column      Non-Null Count  Dtype   \n",
      "---  ------      --------------  -----   \n",
      " 0   #           800 non-null    int64   \n",
      " 1   Name        800 non-null    object  \n",
      " 2   Type 1      800 non-null    category\n",
      " 3   Type 2      414 non-null    object  \n",
      " 4   HP          800 non-null    int64   \n",
      " 5   Attack      800 non-null    int64   \n",
      " 6   Defense     800 non-null    int64   \n",
      " 7   Sp. Atk     800 non-null    int64   \n",
      " 8   Sp. Def     800 non-null    int64   \n",
      " 9   Speed       800 non-null    int64   \n",
      " 10  Generation  800 non-null    int64   \n",
      " 11  Legendary   800 non-null    bool    \n",
      "dtypes: bool(1), category(1), int64(8), object(2)\n",
      "memory usage: 65.0+ KB\n"
     ]
    }
   ],
   "source": [
    "df.info()"
   ]
  },
  {
   "cell_type": "code",
   "execution_count": 47,
   "id": "a3a52243",
   "metadata": {},
   "outputs": [],
   "source": [
    "df['Attack'] = df['Attack'].astype('float32')"
   ]
  },
  {
   "cell_type": "code",
   "execution_count": 48,
   "id": "8f57446d",
   "metadata": {},
   "outputs": [
    {
     "name": "stdout",
     "output_type": "stream",
     "text": [
      "<class 'pandas.core.frame.DataFrame'>\n",
      "RangeIndex: 800 entries, 0 to 799\n",
      "Data columns (total 12 columns):\n",
      " #   Column      Non-Null Count  Dtype   \n",
      "---  ------      --------------  -----   \n",
      " 0   #           800 non-null    int64   \n",
      " 1   Name        800 non-null    object  \n",
      " 2   Type 1      800 non-null    category\n",
      " 3   Type 2      414 non-null    object  \n",
      " 4   HP          800 non-null    int64   \n",
      " 5   Attack      800 non-null    float32 \n",
      " 6   Defense     800 non-null    int64   \n",
      " 7   Sp. Atk     800 non-null    int64   \n",
      " 8   Sp. Def     800 non-null    int64   \n",
      " 9   Speed       800 non-null    int64   \n",
      " 10  Generation  800 non-null    int64   \n",
      " 11  Legendary   800 non-null    bool    \n",
      "dtypes: bool(1), category(1), float32(1), int64(7), object(2)\n",
      "memory usage: 61.8+ KB\n"
     ]
    }
   ],
   "source": [
    "df.info()"
   ]
  },
  {
   "cell_type": "markdown",
   "id": "6bec3d9f",
   "metadata": {},
   "source": [
    "### Other conversions:\n",
    "<li> to_datetime</li>\n",
    "    <li> to_timedelta\n",
    "    <li> to_numeric\n",
    "        <li> numpy.ndarray.astype"
   ]
  },
  {
   "cell_type": "code",
   "execution_count": null,
   "id": "956b42ec",
   "metadata": {},
   "outputs": [],
   "source": []
  }
 ],
 "metadata": {
  "kernelspec": {
   "display_name": "Python 3",
   "language": "python",
   "name": "python3"
  },
  "language_info": {
   "codemirror_mode": {
    "name": "ipython",
    "version": 3
   },
   "file_extension": ".py",
   "mimetype": "text/x-python",
   "name": "python",
   "nbconvert_exporter": "python",
   "pygments_lexer": "ipython3",
   "version": "3.6.13"
  }
 },
 "nbformat": 4,
 "nbformat_minor": 5
}
